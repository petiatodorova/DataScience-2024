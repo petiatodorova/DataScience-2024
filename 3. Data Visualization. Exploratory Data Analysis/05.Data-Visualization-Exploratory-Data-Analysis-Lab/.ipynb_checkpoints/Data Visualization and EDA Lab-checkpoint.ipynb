{
 "cells": [
  {
   "cell_type": "code",
   "execution_count": 1,
   "id": "1b1927be-b3ca-4858-93e1-83348b9b931e",
   "metadata": {},
   "outputs": [],
   "source": [
    "%matplotlib inline\n",
    "import numpy as np\n",
    "import pandas as pd\n",
    "import matplotlib.pyplot as plt\n",
    "from dateutil.parser import parse\n",
    "from datetime import datetime\n",
    "import sys\n",
    "import seaborn as sns"
   ]
  },
  {
   "cell_type": "markdown",
   "id": "0a1bacf2-619d-4a97-bf91-e791cee8ce99",
   "metadata": {},
   "source": [
    "# Data Visualization and Exploratory Data Analysis Lab\n",
    "## Visualizing and exploring data. The data mining process"
   ]
  },
  {
   "cell_type": "markdown",
   "id": "7dd6a75a-59db-4b6f-b51c-79cfbffcef45",
   "metadata": {},
   "source": [
    "In this lab, you'll get acquainted with the most streamed songs on Spotify in 2024. The dataset and its associated metadata can be found [here](https://www.kaggle.com/datasets/nelgiriyewithana/most-streamed-spotify-songs-2024). The version you'll need is provided in the `data/` folder.\n",
    "\n",
    "You know the drill. Do what you can / want / need to answer the questions to the best of your ability. Answers do not need to be trivial, or even the same among different people."
   ]
  },
  {
   "cell_type": "markdown",
   "id": "b8cfbf65-857c-464e-98df-b6425b0b571d",
   "metadata": {},
   "source": [
    "### Problem 1. Read the dataset (1 point)\n",
    "Read the file without unzipping it first. You can try a different character encoding, like `unicode_escape`. Don't worry too much about weird characters."
   ]
  },
  {
   "cell_type": "code",
   "execution_count": 2,
   "id": "00d7946c-3f48-476e-8213-42d816ec1db2",
   "metadata": {},
   "outputs": [],
   "source": [
    "# songs_data = pd.read_csv(\"data/spotify_most_streamed_2024.zip\", compression='zip', encoding='unicode_escape', header=0, sep=',', quotechar='\"')"
   ]
  },
  {
   "cell_type": "code",
   "execution_count": 3,
   "id": "fb09c847",
   "metadata": {},
   "outputs": [],
   "source": [
    "songs_data = pd.read_csv(\"data/spotify_most_streamed_2024.zip\", encoding='unicode_escape')"
   ]
  },
  {
   "cell_type": "code",
   "execution_count": 4,
   "id": "fa94b8f1",
   "metadata": {},
   "outputs": [
    {
     "data": {
      "text/html": [
       "<div>\n",
       "<style scoped>\n",
       "    .dataframe tbody tr th:only-of-type {\n",
       "        vertical-align: middle;\n",
       "    }\n",
       "\n",
       "    .dataframe tbody tr th {\n",
       "        vertical-align: top;\n",
       "    }\n",
       "\n",
       "    .dataframe thead th {\n",
       "        text-align: right;\n",
       "    }\n",
       "</style>\n",
       "<table border=\"1\" class=\"dataframe\">\n",
       "  <thead>\n",
       "    <tr style=\"text-align: right;\">\n",
       "      <th></th>\n",
       "      <th>Track</th>\n",
       "      <th>Album Name</th>\n",
       "      <th>Artist</th>\n",
       "      <th>Release Date</th>\n",
       "      <th>ISRC</th>\n",
       "      <th>All Time Rank</th>\n",
       "      <th>Track Score</th>\n",
       "      <th>Spotify Streams</th>\n",
       "      <th>Spotify Playlist Count</th>\n",
       "      <th>Spotify Playlist Reach</th>\n",
       "      <th>...</th>\n",
       "      <th>SiriusXM Spins</th>\n",
       "      <th>Deezer Playlist Count</th>\n",
       "      <th>Deezer Playlist Reach</th>\n",
       "      <th>Amazon Playlist Count</th>\n",
       "      <th>Pandora Streams</th>\n",
       "      <th>Pandora Track Stations</th>\n",
       "      <th>Soundcloud Streams</th>\n",
       "      <th>Shazam Counts</th>\n",
       "      <th>TIDAL Popularity</th>\n",
       "      <th>Explicit Track</th>\n",
       "    </tr>\n",
       "  </thead>\n",
       "  <tbody>\n",
       "    <tr>\n",
       "      <th>0</th>\n",
       "      <td>MILLION DOLLAR BABY</td>\n",
       "      <td>Million Dollar Baby - Single</td>\n",
       "      <td>Tommy Richman</td>\n",
       "      <td>4/26/2024</td>\n",
       "      <td>QM24S2402528</td>\n",
       "      <td>1</td>\n",
       "      <td>725.4</td>\n",
       "      <td>390,470,936</td>\n",
       "      <td>30,716</td>\n",
       "      <td>196,631,588</td>\n",
       "      <td>...</td>\n",
       "      <td>684</td>\n",
       "      <td>62.0</td>\n",
       "      <td>17,598,718</td>\n",
       "      <td>114.0</td>\n",
       "      <td>18,004,655</td>\n",
       "      <td>22,931</td>\n",
       "      <td>4,818,457</td>\n",
       "      <td>2,669,262</td>\n",
       "      <td>NaN</td>\n",
       "      <td>0</td>\n",
       "    </tr>\n",
       "    <tr>\n",
       "      <th>1</th>\n",
       "      <td>Not Like Us</td>\n",
       "      <td>Not Like Us</td>\n",
       "      <td>Kendrick Lamar</td>\n",
       "      <td>5/4/2024</td>\n",
       "      <td>USUG12400910</td>\n",
       "      <td>2</td>\n",
       "      <td>545.9</td>\n",
       "      <td>323,703,884</td>\n",
       "      <td>28,113</td>\n",
       "      <td>174,597,137</td>\n",
       "      <td>...</td>\n",
       "      <td>3</td>\n",
       "      <td>67.0</td>\n",
       "      <td>10,422,430</td>\n",
       "      <td>111.0</td>\n",
       "      <td>7,780,028</td>\n",
       "      <td>28,444</td>\n",
       "      <td>6,623,075</td>\n",
       "      <td>1,118,279</td>\n",
       "      <td>NaN</td>\n",
       "      <td>1</td>\n",
       "    </tr>\n",
       "    <tr>\n",
       "      <th>2</th>\n",
       "      <td>i like the way you kiss me</td>\n",
       "      <td>I like the way you kiss me</td>\n",
       "      <td>Artemas</td>\n",
       "      <td>3/19/2024</td>\n",
       "      <td>QZJ842400387</td>\n",
       "      <td>3</td>\n",
       "      <td>538.4</td>\n",
       "      <td>601,309,283</td>\n",
       "      <td>54,331</td>\n",
       "      <td>211,607,669</td>\n",
       "      <td>...</td>\n",
       "      <td>536</td>\n",
       "      <td>136.0</td>\n",
       "      <td>36,321,847</td>\n",
       "      <td>172.0</td>\n",
       "      <td>5,022,621</td>\n",
       "      <td>5,639</td>\n",
       "      <td>7,208,651</td>\n",
       "      <td>5,285,340</td>\n",
       "      <td>NaN</td>\n",
       "      <td>0</td>\n",
       "    </tr>\n",
       "    <tr>\n",
       "      <th>3</th>\n",
       "      <td>Flowers</td>\n",
       "      <td>Flowers - Single</td>\n",
       "      <td>Miley Cyrus</td>\n",
       "      <td>1/12/2023</td>\n",
       "      <td>USSM12209777</td>\n",
       "      <td>4</td>\n",
       "      <td>444.9</td>\n",
       "      <td>2,031,280,633</td>\n",
       "      <td>269,802</td>\n",
       "      <td>136,569,078</td>\n",
       "      <td>...</td>\n",
       "      <td>2,182</td>\n",
       "      <td>264.0</td>\n",
       "      <td>24,684,248</td>\n",
       "      <td>210.0</td>\n",
       "      <td>190,260,277</td>\n",
       "      <td>203,384</td>\n",
       "      <td>NaN</td>\n",
       "      <td>11,822,942</td>\n",
       "      <td>NaN</td>\n",
       "      <td>0</td>\n",
       "    </tr>\n",
       "    <tr>\n",
       "      <th>4</th>\n",
       "      <td>Houdini</td>\n",
       "      <td>Houdini</td>\n",
       "      <td>Eminem</td>\n",
       "      <td>5/31/2024</td>\n",
       "      <td>USUG12403398</td>\n",
       "      <td>5</td>\n",
       "      <td>423.3</td>\n",
       "      <td>107,034,922</td>\n",
       "      <td>7,223</td>\n",
       "      <td>151,469,874</td>\n",
       "      <td>...</td>\n",
       "      <td>1</td>\n",
       "      <td>82.0</td>\n",
       "      <td>17,660,624</td>\n",
       "      <td>105.0</td>\n",
       "      <td>4,493,884</td>\n",
       "      <td>7,006</td>\n",
       "      <td>207,179</td>\n",
       "      <td>457,017</td>\n",
       "      <td>NaN</td>\n",
       "      <td>1</td>\n",
       "    </tr>\n",
       "    <tr>\n",
       "      <th>...</th>\n",
       "      <td>...</td>\n",
       "      <td>...</td>\n",
       "      <td>...</td>\n",
       "      <td>...</td>\n",
       "      <td>...</td>\n",
       "      <td>...</td>\n",
       "      <td>...</td>\n",
       "      <td>...</td>\n",
       "      <td>...</td>\n",
       "      <td>...</td>\n",
       "      <td>...</td>\n",
       "      <td>...</td>\n",
       "      <td>...</td>\n",
       "      <td>...</td>\n",
       "      <td>...</td>\n",
       "      <td>...</td>\n",
       "      <td>...</td>\n",
       "      <td>...</td>\n",
       "      <td>...</td>\n",
       "      <td>...</td>\n",
       "      <td>...</td>\n",
       "    </tr>\n",
       "    <tr>\n",
       "      <th>4595</th>\n",
       "      <td>For the Last Time</td>\n",
       "      <td>For the Last Time</td>\n",
       "      <td>$uicideboy$</td>\n",
       "      <td>9/5/2017</td>\n",
       "      <td>QM8DG1703420</td>\n",
       "      <td>4,585</td>\n",
       "      <td>19.4</td>\n",
       "      <td>305,049,963</td>\n",
       "      <td>65,770</td>\n",
       "      <td>5,103,054</td>\n",
       "      <td>...</td>\n",
       "      <td>NaN</td>\n",
       "      <td>2.0</td>\n",
       "      <td>14,217</td>\n",
       "      <td>NaN</td>\n",
       "      <td>20,104,066</td>\n",
       "      <td>13,184</td>\n",
       "      <td>50,633,006</td>\n",
       "      <td>656,337</td>\n",
       "      <td>NaN</td>\n",
       "      <td>1</td>\n",
       "    </tr>\n",
       "    <tr>\n",
       "      <th>4596</th>\n",
       "      <td>Dil Meri Na Sune</td>\n",
       "      <td>Dil Meri Na Sune (From \"Genius\")</td>\n",
       "      <td>Atif Aslam</td>\n",
       "      <td>7/27/2018</td>\n",
       "      <td>INT101800122</td>\n",
       "      <td>4,575</td>\n",
       "      <td>19.4</td>\n",
       "      <td>52,282,360</td>\n",
       "      <td>4,602</td>\n",
       "      <td>1,449,767</td>\n",
       "      <td>...</td>\n",
       "      <td>NaN</td>\n",
       "      <td>1.0</td>\n",
       "      <td>927</td>\n",
       "      <td>NaN</td>\n",
       "      <td>NaN</td>\n",
       "      <td>NaN</td>\n",
       "      <td>NaN</td>\n",
       "      <td>193,590</td>\n",
       "      <td>NaN</td>\n",
       "      <td>0</td>\n",
       "    </tr>\n",
       "    <tr>\n",
       "      <th>4597</th>\n",
       "      <td>Grace (feat. 42 Dugg)</td>\n",
       "      <td>My Turn</td>\n",
       "      <td>Lil Baby</td>\n",
       "      <td>2/28/2020</td>\n",
       "      <td>USUG12000043</td>\n",
       "      <td>4,571</td>\n",
       "      <td>19.4</td>\n",
       "      <td>189,972,685</td>\n",
       "      <td>72,066</td>\n",
       "      <td>6,704,802</td>\n",
       "      <td>...</td>\n",
       "      <td>NaN</td>\n",
       "      <td>1.0</td>\n",
       "      <td>74</td>\n",
       "      <td>6.0</td>\n",
       "      <td>84,426,740</td>\n",
       "      <td>28,999</td>\n",
       "      <td>NaN</td>\n",
       "      <td>1,135,998</td>\n",
       "      <td>NaN</td>\n",
       "      <td>1</td>\n",
       "    </tr>\n",
       "    <tr>\n",
       "      <th>4598</th>\n",
       "      <td>Nashe Si Chadh Gayi</td>\n",
       "      <td>November Top 10 Songs</td>\n",
       "      <td>Arijit Singh</td>\n",
       "      <td>11/8/2016</td>\n",
       "      <td>INY091600067</td>\n",
       "      <td>4,591</td>\n",
       "      <td>19.4</td>\n",
       "      <td>145,467,020</td>\n",
       "      <td>14,037</td>\n",
       "      <td>7,387,064</td>\n",
       "      <td>...</td>\n",
       "      <td>NaN</td>\n",
       "      <td>NaN</td>\n",
       "      <td>NaN</td>\n",
       "      <td>7.0</td>\n",
       "      <td>6,817,840</td>\n",
       "      <td>NaN</td>\n",
       "      <td>NaN</td>\n",
       "      <td>448,292</td>\n",
       "      <td>NaN</td>\n",
       "      <td>0</td>\n",
       "    </tr>\n",
       "    <tr>\n",
       "      <th>4599</th>\n",
       "      <td>Me Acostumbre (feat. Bad Bunny)</td>\n",
       "      <td>Me Acostumbre (feat. Bad Bunny)</td>\n",
       "      <td>Arcï¿½ï¿½</td>\n",
       "      <td>4/11/2017</td>\n",
       "      <td>USB271700107</td>\n",
       "      <td>4,593</td>\n",
       "      <td>19.4</td>\n",
       "      <td>255,740,653</td>\n",
       "      <td>32,138</td>\n",
       "      <td>14,066,526</td>\n",
       "      <td>...</td>\n",
       "      <td>NaN</td>\n",
       "      <td>4.0</td>\n",
       "      <td>127,479</td>\n",
       "      <td>4.0</td>\n",
       "      <td>69,006,739</td>\n",
       "      <td>11,320</td>\n",
       "      <td>NaN</td>\n",
       "      <td>767,006</td>\n",
       "      <td>NaN</td>\n",
       "      <td>1</td>\n",
       "    </tr>\n",
       "  </tbody>\n",
       "</table>\n",
       "<p>4600 rows × 29 columns</p>\n",
       "</div>"
      ],
      "text/plain": [
       "                                Track                        Album Name  \\\n",
       "0                 MILLION DOLLAR BABY      Million Dollar Baby - Single   \n",
       "1                         Not Like Us                       Not Like Us   \n",
       "2          i like the way you kiss me        I like the way you kiss me   \n",
       "3                             Flowers                  Flowers - Single   \n",
       "4                             Houdini                           Houdini   \n",
       "...                               ...                               ...   \n",
       "4595                For the Last Time                 For the Last Time   \n",
       "4596                 Dil Meri Na Sune  Dil Meri Na Sune (From \"Genius\")   \n",
       "4597            Grace (feat. 42 Dugg)                           My Turn   \n",
       "4598              Nashe Si Chadh Gayi             November Top 10 Songs   \n",
       "4599  Me Acostumbre (feat. Bad Bunny)   Me Acostumbre (feat. Bad Bunny)   \n",
       "\n",
       "              Artist Release Date          ISRC All Time Rank  Track Score  \\\n",
       "0      Tommy Richman    4/26/2024  QM24S2402528             1        725.4   \n",
       "1     Kendrick Lamar     5/4/2024  USUG12400910             2        545.9   \n",
       "2            Artemas    3/19/2024  QZJ842400387             3        538.4   \n",
       "3        Miley Cyrus    1/12/2023  USSM12209777             4        444.9   \n",
       "4             Eminem    5/31/2024  USUG12403398             5        423.3   \n",
       "...              ...          ...           ...           ...          ...   \n",
       "4595     $uicideboy$     9/5/2017  QM8DG1703420         4,585         19.4   \n",
       "4596      Atif Aslam    7/27/2018  INT101800122         4,575         19.4   \n",
       "4597        Lil Baby    2/28/2020  USUG12000043         4,571         19.4   \n",
       "4598    Arijit Singh    11/8/2016  INY091600067         4,591         19.4   \n",
       "4599       Arcï¿½ï¿½    4/11/2017  USB271700107         4,593         19.4   \n",
       "\n",
       "     Spotify Streams Spotify Playlist Count Spotify Playlist Reach  ...  \\\n",
       "0        390,470,936                 30,716            196,631,588  ...   \n",
       "1        323,703,884                 28,113            174,597,137  ...   \n",
       "2        601,309,283                 54,331            211,607,669  ...   \n",
       "3      2,031,280,633                269,802            136,569,078  ...   \n",
       "4        107,034,922                  7,223            151,469,874  ...   \n",
       "...              ...                    ...                    ...  ...   \n",
       "4595     305,049,963                 65,770              5,103,054  ...   \n",
       "4596      52,282,360                  4,602              1,449,767  ...   \n",
       "4597     189,972,685                 72,066              6,704,802  ...   \n",
       "4598     145,467,020                 14,037              7,387,064  ...   \n",
       "4599     255,740,653                 32,138             14,066,526  ...   \n",
       "\n",
       "      SiriusXM Spins Deezer Playlist Count Deezer Playlist Reach  \\\n",
       "0                684                  62.0            17,598,718   \n",
       "1                  3                  67.0            10,422,430   \n",
       "2                536                 136.0            36,321,847   \n",
       "3              2,182                 264.0            24,684,248   \n",
       "4                  1                  82.0            17,660,624   \n",
       "...              ...                   ...                   ...   \n",
       "4595             NaN                   2.0                14,217   \n",
       "4596             NaN                   1.0                   927   \n",
       "4597             NaN                   1.0                    74   \n",
       "4598             NaN                   NaN                   NaN   \n",
       "4599             NaN                   4.0               127,479   \n",
       "\n",
       "     Amazon Playlist Count Pandora Streams Pandora Track Stations  \\\n",
       "0                    114.0      18,004,655                 22,931   \n",
       "1                    111.0       7,780,028                 28,444   \n",
       "2                    172.0       5,022,621                  5,639   \n",
       "3                    210.0     190,260,277                203,384   \n",
       "4                    105.0       4,493,884                  7,006   \n",
       "...                    ...             ...                    ...   \n",
       "4595                   NaN      20,104,066                 13,184   \n",
       "4596                   NaN             NaN                    NaN   \n",
       "4597                   6.0      84,426,740                 28,999   \n",
       "4598                   7.0       6,817,840                    NaN   \n",
       "4599                   4.0      69,006,739                 11,320   \n",
       "\n",
       "     Soundcloud Streams  Shazam Counts TIDAL Popularity Explicit Track  \n",
       "0             4,818,457      2,669,262              NaN              0  \n",
       "1             6,623,075      1,118,279              NaN              1  \n",
       "2             7,208,651      5,285,340              NaN              0  \n",
       "3                   NaN     11,822,942              NaN              0  \n",
       "4               207,179        457,017              NaN              1  \n",
       "...                 ...            ...              ...            ...  \n",
       "4595         50,633,006        656,337              NaN              1  \n",
       "4596                NaN        193,590              NaN              0  \n",
       "4597                NaN      1,135,998              NaN              1  \n",
       "4598                NaN        448,292              NaN              0  \n",
       "4599                NaN        767,006              NaN              1  \n",
       "\n",
       "[4600 rows x 29 columns]"
      ]
     },
     "execution_count": 4,
     "metadata": {},
     "output_type": "execute_result"
    }
   ],
   "source": [
    "songs_data"
   ]
  },
  {
   "cell_type": "code",
   "execution_count": 5,
   "id": "eac2b2d3",
   "metadata": {},
   "outputs": [
    {
     "data": {
      "text/html": [
       "<div>\n",
       "<style scoped>\n",
       "    .dataframe tbody tr th:only-of-type {\n",
       "        vertical-align: middle;\n",
       "    }\n",
       "\n",
       "    .dataframe tbody tr th {\n",
       "        vertical-align: top;\n",
       "    }\n",
       "\n",
       "    .dataframe thead th {\n",
       "        text-align: right;\n",
       "    }\n",
       "</style>\n",
       "<table border=\"1\" class=\"dataframe\">\n",
       "  <thead>\n",
       "    <tr style=\"text-align: right;\">\n",
       "      <th></th>\n",
       "      <th>Track Score</th>\n",
       "      <th>Spotify Popularity</th>\n",
       "      <th>Apple Music Playlist Count</th>\n",
       "      <th>Deezer Playlist Count</th>\n",
       "      <th>Amazon Playlist Count</th>\n",
       "      <th>TIDAL Popularity</th>\n",
       "      <th>Explicit Track</th>\n",
       "    </tr>\n",
       "  </thead>\n",
       "  <tbody>\n",
       "    <tr>\n",
       "      <th>count</th>\n",
       "      <td>4600.000000</td>\n",
       "      <td>3796.000000</td>\n",
       "      <td>4039.00000</td>\n",
       "      <td>3679.000000</td>\n",
       "      <td>3545.000000</td>\n",
       "      <td>0.0</td>\n",
       "      <td>4600.000000</td>\n",
       "    </tr>\n",
       "    <tr>\n",
       "      <th>mean</th>\n",
       "      <td>41.844043</td>\n",
       "      <td>63.501581</td>\n",
       "      <td>54.60312</td>\n",
       "      <td>32.310954</td>\n",
       "      <td>25.348942</td>\n",
       "      <td>NaN</td>\n",
       "      <td>0.358913</td>\n",
       "    </tr>\n",
       "    <tr>\n",
       "      <th>std</th>\n",
       "      <td>38.543766</td>\n",
       "      <td>16.186438</td>\n",
       "      <td>71.61227</td>\n",
       "      <td>54.274538</td>\n",
       "      <td>25.989826</td>\n",
       "      <td>NaN</td>\n",
       "      <td>0.479734</td>\n",
       "    </tr>\n",
       "    <tr>\n",
       "      <th>min</th>\n",
       "      <td>19.400000</td>\n",
       "      <td>1.000000</td>\n",
       "      <td>1.00000</td>\n",
       "      <td>1.000000</td>\n",
       "      <td>1.000000</td>\n",
       "      <td>NaN</td>\n",
       "      <td>0.000000</td>\n",
       "    </tr>\n",
       "    <tr>\n",
       "      <th>25%</th>\n",
       "      <td>23.300000</td>\n",
       "      <td>61.000000</td>\n",
       "      <td>10.00000</td>\n",
       "      <td>5.000000</td>\n",
       "      <td>8.000000</td>\n",
       "      <td>NaN</td>\n",
       "      <td>0.000000</td>\n",
       "    </tr>\n",
       "    <tr>\n",
       "      <th>50%</th>\n",
       "      <td>29.900000</td>\n",
       "      <td>67.000000</td>\n",
       "      <td>28.00000</td>\n",
       "      <td>15.000000</td>\n",
       "      <td>17.000000</td>\n",
       "      <td>NaN</td>\n",
       "      <td>0.000000</td>\n",
       "    </tr>\n",
       "    <tr>\n",
       "      <th>75%</th>\n",
       "      <td>44.425000</td>\n",
       "      <td>73.000000</td>\n",
       "      <td>70.00000</td>\n",
       "      <td>37.000000</td>\n",
       "      <td>34.000000</td>\n",
       "      <td>NaN</td>\n",
       "      <td>1.000000</td>\n",
       "    </tr>\n",
       "    <tr>\n",
       "      <th>max</th>\n",
       "      <td>725.400000</td>\n",
       "      <td>96.000000</td>\n",
       "      <td>859.00000</td>\n",
       "      <td>632.000000</td>\n",
       "      <td>210.000000</td>\n",
       "      <td>NaN</td>\n",
       "      <td>1.000000</td>\n",
       "    </tr>\n",
       "  </tbody>\n",
       "</table>\n",
       "</div>"
      ],
      "text/plain": [
       "       Track Score  Spotify Popularity  Apple Music Playlist Count  \\\n",
       "count  4600.000000         3796.000000                  4039.00000   \n",
       "mean     41.844043           63.501581                    54.60312   \n",
       "std      38.543766           16.186438                    71.61227   \n",
       "min      19.400000            1.000000                     1.00000   \n",
       "25%      23.300000           61.000000                    10.00000   \n",
       "50%      29.900000           67.000000                    28.00000   \n",
       "75%      44.425000           73.000000                    70.00000   \n",
       "max     725.400000           96.000000                   859.00000   \n",
       "\n",
       "       Deezer Playlist Count  Amazon Playlist Count  TIDAL Popularity  \\\n",
       "count            3679.000000            3545.000000               0.0   \n",
       "mean               32.310954              25.348942               NaN   \n",
       "std                54.274538              25.989826               NaN   \n",
       "min                 1.000000               1.000000               NaN   \n",
       "25%                 5.000000               8.000000               NaN   \n",
       "50%                15.000000              17.000000               NaN   \n",
       "75%                37.000000              34.000000               NaN   \n",
       "max               632.000000             210.000000               NaN   \n",
       "\n",
       "       Explicit Track  \n",
       "count     4600.000000  \n",
       "mean         0.358913  \n",
       "std          0.479734  \n",
       "min          0.000000  \n",
       "25%          0.000000  \n",
       "50%          0.000000  \n",
       "75%          1.000000  \n",
       "max          1.000000  "
      ]
     },
     "execution_count": 5,
     "metadata": {},
     "output_type": "execute_result"
    }
   ],
   "source": [
    "songs_data.describe()"
   ]
  },
  {
   "cell_type": "markdown",
   "id": "84bb1876-3ab5-4d66-86f6-7e1ede99fffe",
   "metadata": {},
   "source": [
    "### Problem 2. Perform some cleaning (1 point)\n",
    "Ensure all data has been read correctly; check the data types. Give the columns better names (e.g. `all_time_rank`, `track_score`, etc.). To do so, try to use `apply()` instead of a manual mapping between old and new name. Get rid of any unnecessary ones."
   ]
  },
  {
   "cell_type": "code",
   "execution_count": 6,
   "id": "b0a8a054-a18f-42b5-8dc3-e840e816f27c",
   "metadata": {},
   "outputs": [
    {
     "data": {
      "text/plain": [
       "Track                          object\n",
       "Album Name                     object\n",
       "Artist                         object\n",
       "Release Date                   object\n",
       "ISRC                           object\n",
       "All Time Rank                  object\n",
       "Track Score                   float64\n",
       "Spotify Streams                object\n",
       "Spotify Playlist Count         object\n",
       "Spotify Playlist Reach         object\n",
       "Spotify Popularity            float64\n",
       "YouTube Views                  object\n",
       "YouTube Likes                  object\n",
       "TikTok Posts                   object\n",
       "TikTok Likes                   object\n",
       "TikTok Views                   object\n",
       "YouTube Playlist Reach         object\n",
       "Apple Music Playlist Count    float64\n",
       "AirPlay Spins                  object\n",
       "SiriusXM Spins                 object\n",
       "Deezer Playlist Count         float64\n",
       "Deezer Playlist Reach          object\n",
       "Amazon Playlist Count         float64\n",
       "Pandora Streams                object\n",
       "Pandora Track Stations         object\n",
       "Soundcloud Streams             object\n",
       "Shazam Counts                  object\n",
       "TIDAL Popularity              float64\n",
       "Explicit Track                  int64\n",
       "dtype: object"
      ]
     },
     "execution_count": 6,
     "metadata": {},
     "output_type": "execute_result"
    }
   ],
   "source": [
    "songs_data.dtypes"
   ]
  },
  {
   "cell_type": "markdown",
   "id": "8cb2a7e1",
   "metadata": {},
   "source": [
    "### Let's make column names like album_name"
   ]
  },
  {
   "cell_type": "code",
   "execution_count": 7,
   "id": "494d805c",
   "metadata": {},
   "outputs": [],
   "source": [
    "songs_data.columns = (songs_data.columns\n",
    "                        .str.lower()\n",
    "                        .str.replace(' ', '_'))"
   ]
  },
  {
   "cell_type": "code",
   "execution_count": 8,
   "id": "bb451173",
   "metadata": {},
   "outputs": [
    {
     "data": {
      "text/plain": [
       "Index(['track', 'album_name', 'artist', 'release_date', 'isrc',\n",
       "       'all_time_rank', 'track_score', 'spotify_streams',\n",
       "       'spotify_playlist_count', 'spotify_playlist_reach',\n",
       "       'spotify_popularity', 'youtube_views', 'youtube_likes', 'tiktok_posts',\n",
       "       'tiktok_likes', 'tiktok_views', 'youtube_playlist_reach',\n",
       "       'apple_music_playlist_count', 'airplay_spins', 'siriusxm_spins',\n",
       "       'deezer_playlist_count', 'deezer_playlist_reach',\n",
       "       'amazon_playlist_count', 'pandora_streams', 'pandora_track_stations',\n",
       "       'soundcloud_streams', 'shazam_counts', 'tidal_popularity',\n",
       "       'explicit_track'],\n",
       "      dtype='object')"
      ]
     },
     "execution_count": 8,
     "metadata": {},
     "output_type": "execute_result"
    }
   ],
   "source": [
    "songs_data.columns"
   ]
  },
  {
   "cell_type": "markdown",
   "id": "71d20c67",
   "metadata": {},
   "source": [
    "### Analyzing the data we see that the tidal_popularity column has too many nan. Let's see what data we have in this column."
   ]
  },
  {
   "cell_type": "code",
   "execution_count": 9,
   "id": "0f16cff2",
   "metadata": {},
   "outputs": [
    {
     "data": {
      "text/plain": [
       "array([nan])"
      ]
     },
     "execution_count": 9,
     "metadata": {},
     "output_type": "execute_result"
    }
   ],
   "source": [
    "songs_data.tidal_popularity.unique()"
   ]
  },
  {
   "cell_type": "markdown",
   "id": "6fb4c9dd",
   "metadata": {},
   "source": [
    "### All data in the tidal_popularity column is nan. Then we don't need this column. We'll drop it. But first we'll save a backup_copy of our songs_data. We will always keep a backup when we transform our dataset."
   ]
  },
  {
   "cell_type": "code",
   "execution_count": 10,
   "id": "18a7c6db",
   "metadata": {
    "scrolled": false
   },
   "outputs": [],
   "source": [
    "songs_data_backup_1 = songs_data\n",
    "songs_data = songs_data.drop(columns=[\"tidal_popularity\"])"
   ]
  },
  {
   "cell_type": "code",
   "execution_count": 11,
   "id": "4586d504",
   "metadata": {},
   "outputs": [
    {
     "data": {
      "text/plain": [
       "Index(['track', 'album_name', 'artist', 'release_date', 'isrc',\n",
       "       'all_time_rank', 'track_score', 'spotify_streams',\n",
       "       'spotify_playlist_count', 'spotify_playlist_reach',\n",
       "       'spotify_popularity', 'youtube_views', 'youtube_likes', 'tiktok_posts',\n",
       "       'tiktok_likes', 'tiktok_views', 'youtube_playlist_reach',\n",
       "       'apple_music_playlist_count', 'airplay_spins', 'siriusxm_spins',\n",
       "       'deezer_playlist_count', 'deezer_playlist_reach',\n",
       "       'amazon_playlist_count', 'pandora_streams', 'pandora_track_stations',\n",
       "       'soundcloud_streams', 'shazam_counts', 'explicit_track'],\n",
       "      dtype='object')"
      ]
     },
     "execution_count": 11,
     "metadata": {},
     "output_type": "execute_result"
    }
   ],
   "source": [
    "songs_data.columns"
   ]
  },
  {
   "cell_type": "code",
   "execution_count": 12,
   "id": "b6c366f3",
   "metadata": {},
   "outputs": [
    {
     "data": {
      "text/plain": [
       "array(['390,470,936', '323,703,884', '601,309,283', ..., '189,972,685',\n",
       "       '145,467,020', '255,740,653'], dtype=object)"
      ]
     },
     "execution_count": 12,
     "metadata": {},
     "output_type": "execute_result"
    }
   ],
   "source": [
    "songs_data.spotify_streams.unique()"
   ]
  },
  {
   "cell_type": "code",
   "execution_count": 13,
   "id": "87342192",
   "metadata": {},
   "outputs": [
    {
     "name": "stdout",
     "output_type": "stream",
     "text": [
      "Unique values in column 'track': \n",
      " ['MILLION DOLLAR BABY' 'Not Like Us' 'i like the way you kiss me' ...\n",
      " 'Grace (feat. 42 Dugg)' 'Nashe Si Chadh Gayi'\n",
      " 'Me Acostumbre (feat. Bad Bunny)']\n",
      "\n",
      " **************** \n",
      "\n",
      "Unique values in column 'album_name': \n",
      " ['Million Dollar Baby - Single' 'Not Like Us' 'I like the way you kiss me'\n",
      " ... 'Dil Meri Na Sune (From \"Genius\")' 'November Top 10 Songs'\n",
      " 'Me Acostumbre (feat. Bad Bunny)']\n",
      "\n",
      " **************** \n",
      "\n",
      "Unique values in column 'artist': \n",
      " ['Tommy Richman' 'Kendrick Lamar' 'Artemas' ... 'Kerim Araz'\n",
      " 'Jaques Raupï¿' 'BUSHIDO ZHO']\n",
      "\n",
      " **************** \n",
      "\n",
      "Unique values in column 'release_date': \n",
      " ['4/26/2024' '5/4/2024' '3/19/2024' ... '10/31/2018' '11/8/2016'\n",
      " '4/11/2017']\n",
      "\n",
      " **************** \n",
      "\n",
      "Unique values in column 'isrc': \n",
      " ['QM24S2402528' 'USUG12400910' 'QZJ842400387' ... 'USUG12000043'\n",
      " 'INY091600067' 'USB271700107']\n",
      "\n",
      " **************** \n",
      "\n",
      "Unique values in column 'all_time_rank': \n",
      " ['1' '2' '3' ... '4,571' '4,591' '4,593']\n",
      "\n",
      " **************** \n",
      "\n",
      "Unique values in column 'track_score': \n",
      " [725.4 545.9 538.4 444.9 423.3 410.1 407.2 375.8 355.7 330.6 322.1 320.2\n",
      " 316.3 308.2 301.6 299.9 297.6 293.7 292.6 292.  290.5 281.5 279.  278.9\n",
      " 277.5 268.1 266.3 265.7 262.8 256.  249.8 237.5 234.6 233.5 231.6 230.\n",
      " 226.4 224.1 221.1 214.5 212.8 211.2 209.6 207.  206.2 205.7 205.1 204.4\n",
      " 203.6 203.5 202.1 200.3 198.  195.1 194.3 194.  192.3 190.  189.1 187.9\n",
      " 186.5 186.1 184.8 181.4 180.1 179.6 177.7 177.6 176.2 175.  174.8 174.3\n",
      " 173.6 170.3 170.2 168.9 168.1 167.8 167.5 167.3 167.2 166.5 166.2 164.9\n",
      " 164.8 163.2 163.1 162.  161.8 161.7 161.  158.2 155.9 153.6 153.3 153.1\n",
      " 152.8 152.5 152.3 152.1 150.7 150.5 150.4 148.9 148.1 147.4 146.6 145.3\n",
      " 144.6 144.5 144.  143.9 142.8 142.4 142.2 141.  139.5 139.  138.6 137.8\n",
      " 137.7 136.4 136.2 134.  133.  132.3 130.7 129.7 129.6 129.5 129.4 129.1\n",
      " 128.9 128.5 128.  127.8 127.4 127.3 126.9 126.6 126.2 125.4 125.2 124.6\n",
      " 123.9 123.8 123.4 122.8 122.7 122.5 122.4 121.9 121.2 120.8 120.7 120.1\n",
      " 119.5 117.8 117.7 117.6 116.9 116.7 116.6 116.5 116.  115.9 115.6 114.6\n",
      " 114.3 114.2 113.2 112.8 112.6 112.5 112.  111.8 111.4 111.3 111.1 110.9\n",
      " 110.8 110.7 110.2 110.1 109.8 109.7 109.5 109.3 109.1 109.  108.4 107.8\n",
      " 107.5 107.4 107.3 107.1 106.9 106.4 106.2 105.8 105.5 105.2 104.9 104.5\n",
      " 104.4 104.2 103.9 103.4 103.3 103.1 102.9 102.4 102.3 101.8 101.5 101.4\n",
      " 101.3 100.8 100.3 100.2 100.1  99.8  99.7  98.8  98.5  98.4  98.1  98.\n",
      "  97.6  97.5  97.3  97.1  97.   96.9  96.4  96.2  96.1  95.7  95.6  95.\n",
      "  94.8  94.5  94.3  94.2  94.1  94.   93.9  93.1  93.   92.9  92.3  92.\n",
      "  91.9  91.7  91.5  91.4  91.2  91.1  90.7  90.5  90.1  89.6  89.4  88.6\n",
      "  88.4  87.9  87.7  87.5  87.2  87.1  87.   86.8  86.7  86.6  86.5  86.3\n",
      "  86.1  85.9  85.8  85.6  85.5  85.3  85.2  84.8  84.7  84.6  84.4  84.3\n",
      "  84.1  84.   83.8  83.7  83.3  83.1  83.   82.7  82.6  82.5  82.4  82.2\n",
      "  82.1  82.   81.8  81.6  81.5  81.3  81.1  81.   80.8  80.5  80.4  80.3\n",
      "  80.2  80.1  80.   79.9  79.8  79.5  79.4  79.3  78.6  78.3  78.2  77.9\n",
      "  77.8  77.6  77.5  77.4  77.3  77.2  77.   76.9  76.8  76.6  76.5  76.3\n",
      "  76.2  76.   75.9  75.7  75.6  75.5  75.4  75.3  75.2  75.1  74.9  74.8\n",
      "  74.7  74.5  74.4  74.2  74.1  74.   73.9  73.7  73.6  73.5  73.4  73.2\n",
      "  73.1  73.   72.9  72.8  72.7  72.6  72.4  72.2  72.   71.9  71.7  71.5\n",
      "  71.4  71.3  71.2  71.1  71.   70.6  70.5  70.4  70.3  70.2  70.1  70.\n",
      "  69.8  69.7  69.6  69.5  69.4  69.3  69.2  69.   68.9  68.8  68.7  68.5\n",
      "  68.2  68.1  68.   67.9  67.8  67.6  67.5  67.4  67.3  67.   66.9  66.8\n",
      "  66.7  66.6  66.5  66.4  66.3  66.2  66.1  65.9  65.7  65.6  65.5  65.4\n",
      "  65.3  65.   64.9  64.7  64.6  64.5  64.4  64.3  64.2  64.1  64.   63.9\n",
      "  63.8  63.7  63.6  63.5  63.4  63.3  63.2  63.1  62.9  62.8  62.6  62.5\n",
      "  62.4  62.3  62.2  62.1  62.   61.9  61.8  61.7  61.6  61.5  61.4  61.3\n",
      "  61.2  61.1  61.   60.9  60.8  60.6  60.5  60.4  60.   59.9  59.8  59.7\n",
      "  59.6  59.5  59.4  59.3  59.2  59.1  58.9  58.8  58.7  58.6  58.5  58.4\n",
      "  58.3  58.2  58.1  58.   57.9  57.8  57.7  57.6  57.5  57.4  57.3  57.2\n",
      "  57.1  57.   56.9  56.8  56.7  56.6  56.5  56.4  56.3  56.2  56.1  56.\n",
      "  55.9  55.8  55.7  55.6  55.4  55.3  55.2  55.1  55.   54.9  54.8  54.7\n",
      "  54.6  54.5  54.3  54.2  54.1  54.   53.9  53.8  53.7  53.6  53.5  53.4\n",
      "  53.3  53.2  53.1  53.   52.9  52.8  52.6  52.5  52.4  52.3  52.2  52.1\n",
      "  51.8  51.7  51.6  51.5  51.4  51.3  51.2  51.1  51.   50.9  50.8  50.7\n",
      "  50.6  50.5  50.4  50.2  50.1  50.   49.9  49.8  49.7  49.6  49.5  49.4\n",
      "  49.3  49.2  49.1  49.   48.9  48.8  48.7  48.6  48.4  48.3  48.2  48.1\n",
      "  48.   47.9  47.8  47.7  47.6  47.5  47.4  47.2  47.1  47.   46.9  46.8\n",
      "  46.7  46.6  46.5  46.4  46.3  46.2  46.1  46.   45.9  45.8  45.7  45.6\n",
      "  45.5  45.4  45.3  45.2  45.1  45.   44.9  44.8  44.7  44.6  44.5  44.4\n",
      "  44.3  44.2  44.1  44.   43.9  43.8  43.7  43.6  43.5  43.4  43.3  43.2\n",
      "  43.1  43.   42.9  42.8  42.7  42.6  42.5  42.4  42.3  42.2  42.1  42.\n",
      "  41.9  41.8  41.7  41.6  41.5  41.4  41.3  41.2  41.1  41.   40.9  40.8\n",
      "  40.7  40.6  40.5  40.4  40.3  40.2  40.1  40.   39.9  39.8  39.7  39.6\n",
      "  39.5  39.4  39.3  39.2  39.1  39.   38.9  38.8  38.7  38.6  38.5  38.4\n",
      "  38.3  38.2  38.1  38.   37.9  37.8  37.7  37.6  37.5  37.4  37.3  37.2\n",
      "  37.1  37.   36.9  36.8  36.7  36.6  36.5  36.4  36.3  36.2  36.1  36.\n",
      "  35.9  35.8  35.7  35.6  35.5  35.4  35.3  35.2  35.1  35.   34.9  34.8\n",
      "  34.7  34.6  34.5  34.4  34.3  34.2  34.1  34.   33.9  33.8  33.7  33.6\n",
      "  33.5  33.4  33.3  33.2  33.1  33.   32.9  32.8  32.7  32.6  32.5  32.4\n",
      "  32.3  32.2  32.1  32.   31.9  31.8  31.7  31.6  31.5  31.4  31.3  31.2\n",
      "  31.1  31.   30.9  30.8  30.7  30.6  30.5  30.4  30.3  30.2  30.1  30.\n",
      "  29.9  29.8  29.7  29.6  29.5  29.4  29.3  29.2  29.1  29.   28.9  28.8\n",
      "  28.7  28.6  28.5  28.4  28.3  28.2  28.1  28.   27.9  27.8  27.7  27.6\n",
      "  27.5  27.4  27.3  27.2  27.1  27.   26.9  26.8  26.7  26.6  26.5  26.4\n",
      "  26.3  26.2  26.1  26.   25.9  25.8  25.7  25.6  25.5  25.4  25.3  25.2\n",
      "  25.1  25.   24.9  24.8  24.7  24.6  24.5  24.4  24.3  24.2  24.1  24.\n",
      "  23.9  23.8  23.7  23.6  23.5  23.4  23.3  23.2  23.1  23.   22.9  22.8\n",
      "  22.7  22.6  22.5  22.4  22.3  22.2  22.1  22.   21.9  21.8  21.7  21.6\n",
      "  21.5  21.4  21.3  21.2  21.1  21.   20.9  20.8  20.7  20.6  20.5  20.4\n",
      "  20.3  20.2  20.1  20.   19.9  19.8  19.7  19.6  19.5  19.4]\n",
      "\n",
      " **************** \n",
      "\n",
      "Unique values in column 'spotify_streams': \n",
      " ['390,470,936' '323,703,884' '601,309,283' ... '189,972,685' '145,467,020'\n",
      " '255,740,653']\n",
      "\n",
      " **************** \n",
      "\n",
      "Unique values in column 'spotify_playlist_count': \n",
      " ['30,716' '28,113' '54,331' ... '72,066' '14,037' '32,138']\n",
      "\n",
      " **************** \n",
      "\n",
      "Unique values in column 'spotify_playlist_reach': \n",
      " ['196,631,588' '174,597,137' '211,607,669' ... '6,704,802' '7,387,064'\n",
      " '14,066,526']\n",
      "\n",
      " **************** \n",
      "\n",
      "Unique values in column 'spotify_popularity': \n",
      " [92. 85. 88. 83. 86. nan 91. 12. 79. 89. 87. 78. 95. 35. 71. 82. 96. 80.\n",
      " 41. 69. 74. 25. 77. 13.  9. 81. 68. 84.  6.  4. 67. 75. 90. 73. 70. 76.\n",
      " 43. 44.  1. 72. 40. 16. 64. 34. 18.  3.  2. 24. 66. 19. 57. 28. 62. 61.\n",
      " 48. 51. 31. 65. 17. 59. 45. 33. 42. 15. 23. 63. 32. 22.  7. 52. 21. 60.\n",
      " 49. 50. 53. 36. 54. 56. 14.  8. 37. 46. 58. 55. 47. 30. 38. 29. 39. 10.\n",
      "  5. 27. 11. 26. 20.]\n",
      "\n",
      " **************** \n",
      "\n",
      "Unique values in column 'youtube_views': \n",
      " ['84,274,754' '116,347,040' '122,599,116' ... '201,027,333'\n",
      " '1,118,595,159' '866,300,755']\n",
      "\n",
      " **************** \n",
      "\n",
      "Unique values in column 'youtube_likes': \n",
      " ['1,713,126' '3,486,739' '2,228,730' ... '1,081,402' '3,868,828'\n",
      " '3,826,829']\n",
      "\n",
      " **************** \n",
      "\n",
      "Unique values in column 'tiktok_posts': \n",
      " ['5,767,700' '674,700' '3,025,400' ... '7,596' '11,433' '78,000']\n",
      "\n",
      " **************** \n",
      "\n",
      "Unique values in column 'tiktok_likes': \n",
      " ['651,565,900' '35,223,547' '275,154,237' ... '5,288,677' '2,534,831'\n",
      " '10,055,461']\n",
      "\n",
      " **************** \n",
      "\n",
      "Unique values in column 'tiktok_views': \n",
      " ['5,332,281,936' '208,339,025' '3,369,120,610' ... '36,849,005'\n",
      " '37,757,301' '70,196,388']\n",
      "\n",
      " **************** \n",
      "\n",
      "Unique values in column 'youtube_playlist_reach': \n",
      " ['150,597,040' '156,380,351' '373,784,955' ... '29,253,152' '25,150,516'\n",
      " '175,831,376']\n",
      "\n",
      " **************** \n",
      "\n",
      "Unique values in column 'apple_music_playlist_count': \n",
      " [210. 188. 190. 394. 182. 138. 280. 160.  nan 191. 157. 244. 153.   1.\n",
      "  94. 221. 207.  76. 455. 158. 298. 159. 513.  33. 194.  36. 225. 163.\n",
      " 149. 215. 123. 549. 247.   2. 285.  91. 199. 174.  78. 179.  65. 316.\n",
      " 465. 859. 152. 203.  40. 124.  42. 214. 168. 459. 110.  63. 101. 155.\n",
      " 185. 208. 258.  83.   7.  74. 325. 150. 148. 261.  99.  67.  19.  29.\n",
      " 162. 154.  80. 129.   3. 106.  15.  37. 255. 360. 107. 117.  53.   4.\n",
      " 351. 120. 226.  46.  11.  87. 267.  56. 329. 323. 408.  49. 108. 173.\n",
      " 145.  13. 142. 348. 581. 115. 222.  27.  38.  86. 235. 454.  72. 308.\n",
      " 355. 432. 380. 216. 132.  95. 385. 342.  50.  73.  77. 388.  52. 187.\n",
      " 119. 268. 111.  61. 180.  54. 209.  51.  47. 217.  10.  96. 245. 113.\n",
      " 470. 347.  97.  58. 184.  79.  43.  34. 310. 554. 126.  60. 156. 137.\n",
      " 147.   5. 507. 291.  75. 265. 341. 401. 118. 219.  57. 104. 315. 220.\n",
      " 198.  18.  41.  32.  16. 125.  24. 295.  82.  21.   8.  45. 100. 116.\n",
      " 143. 192. 232. 206.  22.  89.  44. 263.  20.  12. 195.   9.  59.  23.\n",
      "  66. 283. 256.   6. 356. 151. 362. 357.  48. 133. 178.  98.  69. 197.\n",
      " 239. 102. 238. 271. 201. 387.  39. 186.  35.  55. 164. 302.  31. 175.\n",
      " 254. 211.  62. 273. 218.  71.  93. 183. 202. 176. 453.  88. 146.  92.\n",
      "  84.  17. 550. 250. 287. 223. 109. 441.  26. 130. 286. 196. 171.  30.\n",
      " 301.  64. 121.  70.  68. 383. 114. 170. 103. 112. 128.  14. 229. 131.\n",
      "  81. 177. 237. 144.  25. 105. 231. 189. 269. 497. 433. 122. 172. 309.\n",
      " 320. 249. 458. 253. 364.  85.  90. 135.  28. 288. 272. 241. 134. 169.\n",
      " 331. 270. 376. 305. 166. 165. 205. 264. 318. 140. 289. 281. 141. 418.\n",
      " 230. 259. 252. 167. 236. 136. 228. 293. 200. 139. 212. 193. 275. 204.\n",
      " 213.]\n",
      "\n",
      " **************** \n",
      "\n",
      "Unique values in column 'airplay_spins': \n",
      " ['40,975' '40,778' '74,333' ... '563' '1,200' '2,083']\n",
      "\n",
      " **************** \n",
      "\n",
      "Unique values in column 'siriusxm_spins': \n",
      " ['684' '3' '536' '2,182' '1' '4,654' '429' '30' nan '117' '71' '45' '228'\n",
      " '3,310' '4,909' '273' '236' '257' '439' '4,096' '142' '32' '1,215' '856'\n",
      " '64' '141' '162' '4,003' '169' '8' '2,487' '96' '2,676' '2' '405' '822'\n",
      " '116' '77' '282' '1,116' '34' '13' '327' '759' '5,448' '68' '1,434' '180'\n",
      " '2,195' '225' '36' '38' '129' '438' '227' '1,100' '177' '56' '1,316'\n",
      " '920' '146' '1,088' '37' '137' '462' '6,243' '513' '69' '14' '1,570'\n",
      " '5,999' '39' '57' '6' '181' '925' '59' '360' '388' '1,308' '4,406' '361'\n",
      " '3,418' '959' '1,897' '198' '381' '214' '5,869' '93' '202' '159' '1,161'\n",
      " '789' '954' '132' '688' '306' '51' '861' '1,846' '1,035' '4' '309'\n",
      " '1,283' '1,024' '378' '1,077' '62' '287' '35' '413' '215' '2,826' '467'\n",
      " '92' '175' '31' '563' '170' '2,175' '1,789' '423' '18' '719' '659' '976'\n",
      " '109' '191' '47' '65' '641' '744' '403' '186' '278' '577' '114' '300'\n",
      " '16' '135' '509' '230' '1,509' '1,461' '461' '44' '27' '1,849' '818'\n",
      " '331' '113' '650' '125' '66' '272' '266' '624' '7,098' '393' '363' '111'\n",
      " '717' '2,026' '20' '119' '620' '914' '29' '2,344' '295' '678' '5' '581'\n",
      " '366' '2,726' '2,290' '241' '148' '402' '406' '305' '48' '945' '126'\n",
      " '200' '442' '1,073' '82' '3,180' '53' '601' '107' '172' '326' '145' '322'\n",
      " '533' '258' '293' '721' '425' '545' '7' '576' '531' '154' '43' '83' '277'\n",
      " '358' '5,729' '25' '128' '2,822' '234' '33' '449' '1,773' '491' '430'\n",
      " '1,886' '811' '100' '1,451' '1,169' '2,031' '1,452' '443' '7,064' '332'\n",
      " '2,699' '24' '784' '79' '639' '308' '321' '275' '81' '316' '484' '894'\n",
      " '163' '239' '131' '455' '534' '104' '240' '208' '776' '12' '98' '593'\n",
      " '994' '1,491' '499' '1,057' '774' '84' '164' '23' '249' '72' '26' '1,303'\n",
      " '17' '1,183' '408' '192' '339' '42' '11' '1,264' '267' '46' '122' '123'\n",
      " '692' '220' '3,028' '40' '474' '52' '333' '73' '86' '387' '847' '288'\n",
      " '1,544' '341' '232' '1,312' '301' '348' '201' '1,832' '401' '400' '932'\n",
      " '389' '74' '147' '803' '271' '210' '115' '1,115' '1,085' '504' '1,089'\n",
      " '338' '549' '182' '105' '550' '750' '185' '431' '110' '399' '78' '67'\n",
      " '382' '546' '112' '292' '520' '1,150' '274' '554' '921' '50' '1,012'\n",
      " '106' '41' '174' '498' '58' '428' '661' '88' '49' '160' '9' '369' '1,478'\n",
      " '524' '255' '151' '869' '312' '538' '350' '103' '178' '152' '10' '1,356'\n",
      " '97' '259' '183' '94' '665' '740' '284' '514' '416' '193' '224' '218'\n",
      " '144' '75' '421' '3,758' '394' '396' '2,099' '814' '244' '2,704' '866'\n",
      " '372' '55' '150' '453' '795' '652' '940' '90' '212' '2,757' '138' '1,320'\n",
      " '2,397' '572' '134' '465' '319' '108' '281' '243' '54' '21' '1,471' '127'\n",
      " '19' '768' '727' '1,168' '561' '4,500' '317' '535' '329' '501' '347'\n",
      " '280' '314' '583' '875' '354' '260' '89' '948' '61' '265' '1,005' '15'\n",
      " '1,324' '203' '967' '196' '176' '222' '80' '102' '836' '495' '168' '376'\n",
      " '171' '654' '955' '817' '489' '1,936' '649' '167' '1,191' '1,122' '1,989'\n",
      " '391' '556' '2,116' '124' '710' '715' '608' '726' '600' '91' '734' '95'\n",
      " '155' '121' '2,585' '1,642' '2,376' '809' '216' '444' '250' '246' '1,152'\n",
      " '22' '1,061' '1,893' '101' '671' '130' '1,410' '368' '118' '261' '70'\n",
      " '188' '343' '356' '28' '551' '718' '476' '229' '299' '464' '140' '226'\n",
      " '290' '826' '205' '1,460' '884' '441' '190' '223' '786' '806' '418' '805'\n",
      " '335' '1,282' '799' '1,050' '313' '2,223' '291' '235' '1,543' '285' '456'\n",
      " '544' '2,238' '542' '2,669' '1,480' '674' '221' '1,167' '344' '927' '357'\n",
      " '353' '529' '1,135' '515' '944' '3,962' '375' '263' '238' '417' '336'\n",
      " '448' '242' '328' '713' '629' '916' '558' '318' '690' '204' '1,665' '179'\n",
      " '307' '85' '143' '133' '1,039' '87' '60' '410' '384' '633' '139' '379'\n",
      " '199' '392' '1,787' '63' '2,464' '855' '340' '217' '253' '377' '206'\n",
      " '479' '1,230' '522' '434' '184' '969' '158' '427' '195' '1,200' '233'\n",
      " '863' '865' '559' '760' '156' '709' '187' '553' '409' '530' '362' '507'\n",
      " '555' '211' '901' '76' '120' '578' '685' '245' '189' '676' '231' '248'\n",
      " '1,620' '99' '323' '219' '424' '1,457' '359' '1,626' '821' '663' '470'\n",
      " '207' '519' '334' '349' '404' '355' '868' '1,138' '505' '157' '648' '493'\n",
      " '541' '1,298' '311' '708' '302' '268' '407' '1,319' '2,355' '337' '877'\n",
      " '351' '136' '251' '270' '1,447' '625' '297' '1,051' '276' '1,424' '858'\n",
      " '345' '415' '472' '732' '294' '1,496' '165' '714' '1,691' '1,056' '371'\n",
      " '711' '626' '634' '303' '320' '588' '526' '828' '149' '801' '988' '655'\n",
      " '397' '279' '1,510' '247' '1,076' '1,278' '837']\n",
      "\n",
      " **************** \n",
      "\n",
      "Unique values in column 'deezer_playlist_count': \n",
      " [ 62.  67. 136. 264.  82.  86. 168.  87.  nan  78.  60. 138.  55.  99.\n",
      " 188.  24. 330. 143. 167. 194.   1. 166.  19. 117.   3. 180. 113.  42.\n",
      "  58. 133.  40. 584.   4. 207.  77.  63.  73. 146.  41. 145.  20. 112.\n",
      " 512. 564.   7.  44.  53.  11. 108. 170. 106.  64.  84. 343. 137.  48.\n",
      " 257.  30.  74.   9.  37.  34.  65.   2.  69.  56.   5. 102. 127. 109.\n",
      " 158.  18. 103. 118.  32.  33.  15.  46. 111.  29. 273. 355. 502.  25.\n",
      "  43.  61. 128.  97. 342. 632.  54.  75.  94.  16.  85. 352.  57. 120.\n",
      "  98. 258. 570. 105.  47. 311.  22. 284.   6.  51.  13. 541. 250.  95.\n",
      "  93.  21. 445.  50. 171.  31.  52. 226.  79.  39.  12.  66. 129. 214.\n",
      "   8. 122.  27. 557.  35.  83.  68. 308.  96.  49. 161. 119.  23. 420.\n",
      " 209.  91. 114.  38.  45. 444. 121.  14. 482.  26. 151.  80. 256. 222.\n",
      "  59.  10.  76. 195. 173. 270. 216. 350. 163.  72. 285. 101. 213.  28.\n",
      " 123. 131. 107. 132. 115. 110. 293. 370. 229.  17. 301.  70. 371. 165.\n",
      " 124. 302.  81. 159. 381.  36. 305.  71. 147. 134. 185. 135. 176.  92.\n",
      "  88. 149. 234. 548. 142. 172. 148. 116. 153.  90. 228. 225. 152. 104.\n",
      " 345. 268. 332. 125.  89. 321. 126. 404. 271. 162. 219. 174. 353. 150.\n",
      " 141. 346. 272. 144. 183. 190. 215. 184. 260. 217.]\n",
      "\n",
      " **************** \n",
      "\n",
      "Unique values in column 'deezer_playlist_reach': \n",
      " ['17,598,718' '10,422,430' '36,321,847' ... '14,217' '74' '127,479']\n",
      "\n",
      " **************** \n",
      "\n",
      "Unique values in column 'amazon_playlist_count': \n",
      " [114. 111. 172. 210. 105. 152. 154.  53.  nan  92.   2. 163. 109.  83.\n",
      " 134. 150.  33. 189. 146. 149. 177.   1. 128.  17. 126.  26. 188. 112.\n",
      "  47. 120.  88. 121. 125.   9. 168.  80. 110.  98. 127.  36. 118.  31.\n",
      " 115. 184.  66. 167.  14.  63.  45.  29. 122.  95. 100.  81.  76.  59.\n",
      " 131. 102.  61.  48.  60. 108.  65.  44. 130.  51.  39.  79. 116.  28.\n",
      "  74.  54. 104.  99.  87.  71.  69.  40.  77.  38.  75.  85.  10.  11.\n",
      "   8. 133.  90.  50.  20.  56. 136. 103. 174.  89.  97.  68.  27.   4.\n",
      "  78.  35.  70.  67.  43.  46.  58.  49.  32.  57.  22.  55.  23.  19.\n",
      "  25.  64.  42. 142.  41.  72.  62.  15. 101.  16.   6.  13.  18. 137.\n",
      "   5.  94.  12.   7.  73.  91.  93.  24.  34.   3.  52.  86.  30.  82.\n",
      "  37. 117. 107. 147.  21.  96.  84. 159.]\n",
      "\n",
      " **************** \n",
      "\n",
      "Unique values in column 'pandora_streams': \n",
      " ['18,004,655' '7,780,028' '5,022,621' ... '84,426,740' '6,817,840'\n",
      " '69,006,739']\n",
      "\n",
      " **************** \n",
      "\n",
      "Unique values in column 'pandora_track_stations': \n",
      " ['22,931' '28,444' '5,639' ... '13,184' '28,999' '11,320']\n",
      "\n",
      " **************** \n",
      "\n",
      "Unique values in column 'soundcloud_streams': \n",
      " ['4,818,457' '6,623,075' '7,208,651' ... '165,194' '33,508' '50,633,006']\n",
      "\n",
      " **************** \n",
      "\n",
      "Unique values in column 'shazam_counts': \n",
      " ['2,669,262' '1,118,279' '5,285,340' ... '1,135,998' '448,292' '767,006']\n",
      "\n",
      " **************** \n",
      "\n",
      "Unique values in column 'explicit_track': \n",
      " [0 1]\n",
      "\n",
      " **************** \n",
      "\n"
     ]
    }
   ],
   "source": [
    "def all_columns_unique_values():\n",
    "    for col in songs_data.columns:\n",
    "        print(f\"Unique values in column \\'{col}\\': \\n {songs_data[col].unique()}\\n\\n **************** \\n\")\n",
    "\n",
    "# We call the function        \n",
    "all_columns_unique_values()"
   ]
  },
  {
   "cell_type": "code",
   "execution_count": 14,
   "id": "9ce8cfd2",
   "metadata": {},
   "outputs": [
    {
     "name": "stdout",
     "output_type": "stream",
     "text": [
      "9223372036854775807\n"
     ]
    }
   ],
   "source": [
    "print(sys.maxsize)"
   ]
  },
  {
   "cell_type": "markdown",
   "id": "e4b7edba",
   "metadata": {},
   "source": [
    "### We could convert explicit_track to bool because it contains only 0 and 1."
   ]
  },
  {
   "cell_type": "code",
   "execution_count": 15,
   "id": "25fe6c31",
   "metadata": {},
   "outputs": [],
   "source": [
    "songs_data_backup_2 = songs_data\n",
    "songs_data.explicit_track = songs_data.explicit_track.astype(bool)"
   ]
  },
  {
   "cell_type": "code",
   "execution_count": 16,
   "id": "67f7675d",
   "metadata": {},
   "outputs": [
    {
     "data": {
      "text/plain": [
       "array([False,  True])"
      ]
     },
     "execution_count": 16,
     "metadata": {},
     "output_type": "execute_result"
    }
   ],
   "source": [
    "songs_data.explicit_track.unique()"
   ]
  },
  {
   "cell_type": "markdown",
   "id": "a9f7c8e5",
   "metadata": {},
   "source": [
    "### Let's convert release_date to datetime. We'll use parse from dateutil.parser and datetime and will make function string_to_date()."
   ]
  },
  {
   "cell_type": "code",
   "execution_count": 17,
   "id": "3a5250cc",
   "metadata": {},
   "outputs": [
    {
     "data": {
      "text/plain": [
       "array(['4/26/2024', '5/4/2024', '3/19/2024', ..., '10/31/2018',\n",
       "       '11/8/2016', '4/11/2017'], dtype=object)"
      ]
     },
     "execution_count": 17,
     "metadata": {},
     "output_type": "execute_result"
    }
   ],
   "source": [
    "songs_data.release_date.unique()"
   ]
  },
  {
   "cell_type": "code",
   "execution_count": 18,
   "id": "2cf7c01a",
   "metadata": {},
   "outputs": [],
   "source": [
    "def string_to_date(date_string):\n",
    "    return parse(date_string)"
   ]
  },
  {
   "cell_type": "code",
   "execution_count": 19,
   "id": "9959a957",
   "metadata": {},
   "outputs": [],
   "source": [
    "songs_data.release_date = songs_data.release_date.apply(string_to_date)"
   ]
  },
  {
   "cell_type": "code",
   "execution_count": 20,
   "id": "7be03a6a",
   "metadata": {},
   "outputs": [
    {
     "data": {
      "text/plain": [
       "<DatetimeArray>\n",
       "['2024-04-26 00:00:00', '2024-05-04 00:00:00', '2024-03-19 00:00:00',\n",
       " '2023-01-12 00:00:00', '2024-05-31 00:00:00', '2023-11-10 00:00:00',\n",
       " '2024-01-18 00:00:00', '2024-02-02 00:00:00', '2024-06-09 00:00:00',\n",
       " '2024-05-23 00:00:00',\n",
       " ...\n",
       " '2015-09-24 00:00:00', '2019-07-18 00:00:00', '2019-06-27 00:00:00',\n",
       " '2018-09-20 00:00:00', '2016-06-24 00:00:00', '2016-04-09 00:00:00',\n",
       " '2023-06-05 00:00:00', '2018-10-31 00:00:00', '2016-11-08 00:00:00',\n",
       " '2017-04-11 00:00:00']\n",
       "Length: 1562, dtype: datetime64[ns]"
      ]
     },
     "execution_count": 20,
     "metadata": {},
     "output_type": "execute_result"
    }
   ],
   "source": [
    "songs_data.release_date.unique()"
   ]
  },
  {
   "cell_type": "markdown",
   "id": "87137a7f",
   "metadata": {},
   "source": [
    "### Let's analyze nan values in every column."
   ]
  },
  {
   "cell_type": "code",
   "execution_count": 21,
   "id": "676c8511",
   "metadata": {},
   "outputs": [
    {
     "name": "stdout",
     "output_type": "stream",
     "text": [
      "All nan values in column 'track': \n",
      " 0\n",
      "\n",
      " **************** \n",
      "\n",
      "All nan values in column 'album_name': \n",
      " 0\n",
      "\n",
      " **************** \n",
      "\n",
      "All nan values in column 'artist': \n",
      " 5\n",
      "\n",
      " **************** \n",
      "\n",
      "All nan values in column 'release_date': \n",
      " 0\n",
      "\n",
      " **************** \n",
      "\n",
      "All nan values in column 'isrc': \n",
      " 0\n",
      "\n",
      " **************** \n",
      "\n",
      "All nan values in column 'all_time_rank': \n",
      " 0\n",
      "\n",
      " **************** \n",
      "\n",
      "All nan values in column 'track_score': \n",
      " 0\n",
      "\n",
      " **************** \n",
      "\n",
      "All nan values in column 'spotify_streams': \n",
      " 113\n",
      "\n",
      " **************** \n",
      "\n",
      "All nan values in column 'spotify_playlist_count': \n",
      " 70\n",
      "\n",
      " **************** \n",
      "\n",
      "All nan values in column 'spotify_playlist_reach': \n",
      " 72\n",
      "\n",
      " **************** \n",
      "\n",
      "All nan values in column 'spotify_popularity': \n",
      " 804\n",
      "\n",
      " **************** \n",
      "\n",
      "All nan values in column 'youtube_views': \n",
      " 308\n",
      "\n",
      " **************** \n",
      "\n",
      "All nan values in column 'youtube_likes': \n",
      " 315\n",
      "\n",
      " **************** \n",
      "\n",
      "All nan values in column 'tiktok_posts': \n",
      " 1173\n",
      "\n",
      " **************** \n",
      "\n",
      "All nan values in column 'tiktok_likes': \n",
      " 980\n",
      "\n",
      " **************** \n",
      "\n",
      "All nan values in column 'tiktok_views': \n",
      " 981\n",
      "\n",
      " **************** \n",
      "\n",
      "All nan values in column 'youtube_playlist_reach': \n",
      " 1009\n",
      "\n",
      " **************** \n",
      "\n",
      "All nan values in column 'apple_music_playlist_count': \n",
      " 561\n",
      "\n",
      " **************** \n",
      "\n",
      "All nan values in column 'airplay_spins': \n",
      " 498\n",
      "\n",
      " **************** \n",
      "\n",
      "All nan values in column 'siriusxm_spins': \n",
      " 2123\n",
      "\n",
      " **************** \n",
      "\n",
      "All nan values in column 'deezer_playlist_count': \n",
      " 921\n",
      "\n",
      " **************** \n",
      "\n",
      "All nan values in column 'deezer_playlist_reach': \n",
      " 928\n",
      "\n",
      " **************** \n",
      "\n",
      "All nan values in column 'amazon_playlist_count': \n",
      " 1055\n",
      "\n",
      " **************** \n",
      "\n",
      "All nan values in column 'pandora_streams': \n",
      " 1106\n",
      "\n",
      " **************** \n",
      "\n",
      "All nan values in column 'pandora_track_stations': \n",
      " 1268\n",
      "\n",
      " **************** \n",
      "\n",
      "All nan values in column 'soundcloud_streams': \n",
      " 3333\n",
      "\n",
      " **************** \n",
      "\n",
      "All nan values in column 'shazam_counts': \n",
      " 577\n",
      "\n",
      " **************** \n",
      "\n",
      "All nan values in column 'explicit_track': \n",
      " 0\n",
      "\n",
      " **************** \n",
      "\n"
     ]
    }
   ],
   "source": [
    "def all_columns_nan_values():\n",
    "    for col in songs_data.columns:\n",
    "        print(f\"All nan values in column \\'{col}\\': \\n {songs_data[col].isna().sum()}\\n\\n **************** \\n\")\n",
    "\n",
    "# Let's call the function\n",
    "all_columns_nan_values()"
   ]
  },
  {
   "cell_type": "markdown",
   "id": "52d52667",
   "metadata": {},
   "source": [
    "# TODO - to analyse all columns with NAN and to think what should be done - replace ? remove ?\n",
    "Useful!\n",
    "https://www.w3schools.com/python/pandas/pandas_cleaning_empty_cells.asp"
   ]
  },
  {
   "cell_type": "code",
   "execution_count": 22,
   "id": "29800a88",
   "metadata": {},
   "outputs": [
    {
     "data": {
      "text/html": [
       "<div>\n",
       "<style scoped>\n",
       "    .dataframe tbody tr th:only-of-type {\n",
       "        vertical-align: middle;\n",
       "    }\n",
       "\n",
       "    .dataframe tbody tr th {\n",
       "        vertical-align: top;\n",
       "    }\n",
       "\n",
       "    .dataframe thead th {\n",
       "        text-align: right;\n",
       "    }\n",
       "</style>\n",
       "<table border=\"1\" class=\"dataframe\">\n",
       "  <thead>\n",
       "    <tr style=\"text-align: right;\">\n",
       "      <th></th>\n",
       "      <th>count</th>\n",
       "      <th>mean</th>\n",
       "      <th>min</th>\n",
       "      <th>25%</th>\n",
       "      <th>50%</th>\n",
       "      <th>75%</th>\n",
       "      <th>max</th>\n",
       "      <th>std</th>\n",
       "    </tr>\n",
       "  </thead>\n",
       "  <tbody>\n",
       "    <tr>\n",
       "      <th>release_date</th>\n",
       "      <td>4600</td>\n",
       "      <td>2021-01-27 07:48:18.782608896</td>\n",
       "      <td>1987-07-21 00:00:00</td>\n",
       "      <td>2019-07-16 18:00:00</td>\n",
       "      <td>2022-06-01 00:00:00</td>\n",
       "      <td>2023-08-11 00:00:00</td>\n",
       "      <td>2024-06-14 00:00:00</td>\n",
       "      <td>NaN</td>\n",
       "    </tr>\n",
       "    <tr>\n",
       "      <th>track_score</th>\n",
       "      <td>4600.0</td>\n",
       "      <td>41.844043</td>\n",
       "      <td>19.4</td>\n",
       "      <td>23.3</td>\n",
       "      <td>29.9</td>\n",
       "      <td>44.425</td>\n",
       "      <td>725.4</td>\n",
       "      <td>38.543766</td>\n",
       "    </tr>\n",
       "    <tr>\n",
       "      <th>spotify_popularity</th>\n",
       "      <td>3796.0</td>\n",
       "      <td>63.501581</td>\n",
       "      <td>1.0</td>\n",
       "      <td>61.0</td>\n",
       "      <td>67.0</td>\n",
       "      <td>73.0</td>\n",
       "      <td>96.0</td>\n",
       "      <td>16.186438</td>\n",
       "    </tr>\n",
       "    <tr>\n",
       "      <th>apple_music_playlist_count</th>\n",
       "      <td>4039.0</td>\n",
       "      <td>54.60312</td>\n",
       "      <td>1.0</td>\n",
       "      <td>10.0</td>\n",
       "      <td>28.0</td>\n",
       "      <td>70.0</td>\n",
       "      <td>859.0</td>\n",
       "      <td>71.61227</td>\n",
       "    </tr>\n",
       "    <tr>\n",
       "      <th>deezer_playlist_count</th>\n",
       "      <td>3679.0</td>\n",
       "      <td>32.310954</td>\n",
       "      <td>1.0</td>\n",
       "      <td>5.0</td>\n",
       "      <td>15.0</td>\n",
       "      <td>37.0</td>\n",
       "      <td>632.0</td>\n",
       "      <td>54.274538</td>\n",
       "    </tr>\n",
       "    <tr>\n",
       "      <th>amazon_playlist_count</th>\n",
       "      <td>3545.0</td>\n",
       "      <td>25.348942</td>\n",
       "      <td>1.0</td>\n",
       "      <td>8.0</td>\n",
       "      <td>17.0</td>\n",
       "      <td>34.0</td>\n",
       "      <td>210.0</td>\n",
       "      <td>25.989826</td>\n",
       "    </tr>\n",
       "  </tbody>\n",
       "</table>\n",
       "</div>"
      ],
      "text/plain": [
       "                             count                           mean  \\\n",
       "release_date                  4600  2021-01-27 07:48:18.782608896   \n",
       "track_score                 4600.0                      41.844043   \n",
       "spotify_popularity          3796.0                      63.501581   \n",
       "apple_music_playlist_count  4039.0                       54.60312   \n",
       "deezer_playlist_count       3679.0                      32.310954   \n",
       "amazon_playlist_count       3545.0                      25.348942   \n",
       "\n",
       "                                            min                  25%  \\\n",
       "release_date                1987-07-21 00:00:00  2019-07-16 18:00:00   \n",
       "track_score                                19.4                 23.3   \n",
       "spotify_popularity                          1.0                 61.0   \n",
       "apple_music_playlist_count                  1.0                 10.0   \n",
       "deezer_playlist_count                       1.0                  5.0   \n",
       "amazon_playlist_count                       1.0                  8.0   \n",
       "\n",
       "                                            50%                  75%  \\\n",
       "release_date                2022-06-01 00:00:00  2023-08-11 00:00:00   \n",
       "track_score                                29.9               44.425   \n",
       "spotify_popularity                         67.0                 73.0   \n",
       "apple_music_playlist_count                 28.0                 70.0   \n",
       "deezer_playlist_count                      15.0                 37.0   \n",
       "amazon_playlist_count                      17.0                 34.0   \n",
       "\n",
       "                                            max        std  \n",
       "release_date                2024-06-14 00:00:00        NaN  \n",
       "track_score                               725.4  38.543766  \n",
       "spotify_popularity                         96.0  16.186438  \n",
       "apple_music_playlist_count                859.0   71.61227  \n",
       "deezer_playlist_count                     632.0  54.274538  \n",
       "amazon_playlist_count                     210.0  25.989826  "
      ]
     },
     "execution_count": 22,
     "metadata": {},
     "output_type": "execute_result"
    }
   ],
   "source": [
    "songs_data.describe().T"
   ]
  },
  {
   "cell_type": "code",
   "execution_count": 23,
   "id": "ea2898f3",
   "metadata": {},
   "outputs": [
    {
     "data": {
      "text/plain": [
       "Index(['track', 'album_name', 'artist', 'release_date', 'isrc',\n",
       "       'all_time_rank', 'track_score', 'spotify_streams',\n",
       "       'spotify_playlist_count', 'spotify_playlist_reach',\n",
       "       'spotify_popularity', 'youtube_views', 'youtube_likes', 'tiktok_posts',\n",
       "       'tiktok_likes', 'tiktok_views', 'youtube_playlist_reach',\n",
       "       'apple_music_playlist_count', 'airplay_spins', 'siriusxm_spins',\n",
       "       'deezer_playlist_count', 'deezer_playlist_reach',\n",
       "       'amazon_playlist_count', 'pandora_streams', 'pandora_track_stations',\n",
       "       'soundcloud_streams', 'shazam_counts', 'explicit_track'],\n",
       "      dtype='object')"
      ]
     },
     "execution_count": 23,
     "metadata": {},
     "output_type": "execute_result"
    }
   ],
   "source": [
    "songs_data.columns"
   ]
  },
  {
   "cell_type": "markdown",
   "id": "0ae40d8d-4831-484d-a464-dda392703366",
   "metadata": {},
   "source": [
    "### Problem 3. Most productive artists (1 point)\n",
    "Who are the five artists with the most songs in the dataset?\n",
    "\n",
    "Who are the five \"clean-mouthed\" artists (i.e., with no explicit songs)? **Note:** We're not going into details but we can start a discussion about whether a song needs swearing to be popular."
   ]
  },
  {
   "cell_type": "code",
   "execution_count": 24,
   "id": "49d45c5d-ae65-4324-b869-c5075667f690",
   "metadata": {},
   "outputs": [
    {
     "name": "stdout",
     "output_type": "stream",
     "text": [
      "artist\n",
      "Drake           63\n",
      "Taylor Swift    63\n",
      "Bad Bunny       60\n",
      "KAROL G         32\n",
      "The Weeknd      31\n",
      "Name: track, dtype: int64\n"
     ]
    }
   ],
   "source": [
    "# Variant 1\n",
    "# Size includes NaN values, count does not:\n",
    "# Group by artist and count the number of tracks for each artist\n",
    "artist_song_count = songs_data.groupby('artist')['track'].count()\n",
    "\n",
    "# Sort the artists by the number of songs in descending order and get the top 5\n",
    "top_5_artists = artist_song_count.sort_values(ascending=False).head(5)\n",
    "\n",
    "print(top_5_artists)"
   ]
  },
  {
   "cell_type": "code",
   "execution_count": 25,
   "id": "3817b74b",
   "metadata": {},
   "outputs": [
    {
     "name": "stdout",
     "output_type": "stream",
     "text": [
      "artist\n",
      "Drake           63\n",
      "Taylor Swift    63\n",
      "Bad Bunny       60\n",
      "KAROL G         32\n",
      "The Weeknd      31\n",
      "Name: track, dtype: int64\n"
     ]
    }
   ],
   "source": [
    "# Variant 2\n",
    "artist_song_count_1 = songs_data.groupby(['artist','track']).size()\n",
    "\n",
    "# Sort the artists by the number of songs in descending order and get the top 5\n",
    "top_5_artists_1 = artist_song_count_1.sort_values(ascending=False).head(5)\n",
    "\n",
    "print(top_5_artists)"
   ]
  },
  {
   "cell_type": "markdown",
   "id": "659da877",
   "metadata": {},
   "source": [
    "### Who are the five \"clean-mouthed\" artists (i.e., with no explicit songs)"
   ]
  },
  {
   "cell_type": "code",
   "execution_count": 26,
   "id": "a1951158",
   "metadata": {},
   "outputs": [
    {
     "name": "stdout",
     "output_type": "stream",
     "text": [
      "artist\n",
      "\"XY\"               1\n",
      "Mc Ws da leste     1\n",
      "Mc Poze do Rodo    1\n",
      "Mc Paiva ZS        1\n",
      "Mc Livinho         1\n",
      "Name: explicit_track, dtype: int64\n"
     ]
    }
   ],
   "source": [
    "# Group by artist and count the number of explicit tracks for each artist\n",
    "clean_mouthed_artists_count = songs_data.groupby('artist')['explicit_track'].count()\n",
    "\n",
    "# Sort the artists by the number of explicit tracks in ascending order and get the top 5\n",
    "top_5_clean_artists = clean_mouthed_artists_count.sort_values(ascending=True).head(5)\n",
    "\n",
    "print(top_5_clean_artists)"
   ]
  },
  {
   "cell_type": "markdown",
   "id": "b9c02cd3",
   "metadata": {},
   "source": [
    "### Print top 5 'dirty_mouthed' artists"
   ]
  },
  {
   "cell_type": "code",
   "execution_count": 27,
   "id": "d493cd8e",
   "metadata": {},
   "outputs": [
    {
     "name": "stdout",
     "output_type": "stream",
     "text": [
      "artist\n",
      "Drake           63\n",
      "Taylor Swift    63\n",
      "Bad Bunny       60\n",
      "KAROL G         32\n",
      "The Weeknd      31\n",
      "Name: explicit_track, dtype: int64\n"
     ]
    }
   ],
   "source": [
    "# Sort the artists by the number of explicit tracks in descending order and get the top 5\n",
    "top_5_dirty_artists = clean_mouthed_artists_count.sort_values(ascending=False).head(5)\n",
    "\n",
    "print(top_5_dirty_artists)"
   ]
  },
  {
   "cell_type": "markdown",
   "id": "25ee2949-c7ce-4c30-8836-1fa443d245e9",
   "metadata": {},
   "source": [
    "### Problem 4. Most streamed artists (1 point)\n",
    "And who are the top five most streamed (as measured by Spotify streams) artists?"
   ]
  },
  {
   "cell_type": "code",
   "execution_count": 28,
   "id": "55766055",
   "metadata": {},
   "outputs": [
    {
     "data": {
      "text/plain": [
       "Index(['track', 'album_name', 'artist', 'release_date', 'isrc',\n",
       "       'all_time_rank', 'track_score', 'spotify_streams',\n",
       "       'spotify_playlist_count', 'spotify_playlist_reach',\n",
       "       'spotify_popularity', 'youtube_views', 'youtube_likes', 'tiktok_posts',\n",
       "       'tiktok_likes', 'tiktok_views', 'youtube_playlist_reach',\n",
       "       'apple_music_playlist_count', 'airplay_spins', 'siriusxm_spins',\n",
       "       'deezer_playlist_count', 'deezer_playlist_reach',\n",
       "       'amazon_playlist_count', 'pandora_streams', 'pandora_track_stations',\n",
       "       'soundcloud_streams', 'shazam_counts', 'explicit_track'],\n",
       "      dtype='object')"
      ]
     },
     "execution_count": 28,
     "metadata": {},
     "output_type": "execute_result"
    }
   ],
   "source": [
    "songs_data.columns"
   ]
  },
  {
   "cell_type": "code",
   "execution_count": 29,
   "id": "aeb0384d-daa4-482e-b5ff-dbe8abca0688",
   "metadata": {},
   "outputs": [
    {
     "name": "stdout",
     "output_type": "stream",
     "text": [
      "artist\n",
      "Taylor Swift    63\n",
      "Drake           62\n",
      "Bad Bunny       60\n",
      "KAROL G         32\n",
      "The Weeknd      30\n",
      "Name: spotify_streams, dtype: int64\n"
     ]
    }
   ],
   "source": [
    "# Group by artist and count the number of spotify_streams for each artist\n",
    "most_streamed_artists_count = songs_data.groupby('artist')['spotify_streams'].count()\n",
    "\n",
    "# Sort the artists by the number of explicit tracks in ascending order and get the top 5\n",
    "top_5_most_streamed_artists = most_streamed_artists_count.sort_values(ascending=False).head(5)\n",
    "\n",
    "print(top_5_most_streamed_artists)"
   ]
  },
  {
   "cell_type": "markdown",
   "id": "30fa25c3-abd4-4f04-859a-e00e781adaa8",
   "metadata": {},
   "source": [
    "### Problem 5. Songs by year and month (1 point)\n",
    "How many songs have been released each year? Present an appropriate plot. Can you explain the behavior of the plot for 2024?\n",
    "\n",
    "How about months? Is / Are there (a) popular month(s) to release music?"
   ]
  },
  {
   "cell_type": "code",
   "execution_count": 41,
   "id": "6bfca544-a5b2-40b1-9678-c4dbeff75423",
   "metadata": {},
   "outputs": [
    {
     "data": {
      "text/plain": [
       "<DatetimeArray>\n",
       "['2024-04-26 00:00:00', '2024-05-04 00:00:00', '2024-03-19 00:00:00',\n",
       " '2023-01-12 00:00:00', '2024-05-31 00:00:00', '2023-11-10 00:00:00',\n",
       " '2024-01-18 00:00:00', '2024-02-02 00:00:00', '2024-06-09 00:00:00',\n",
       " '2024-05-23 00:00:00',\n",
       " ...\n",
       " '2015-09-24 00:00:00', '2019-07-18 00:00:00', '2019-06-27 00:00:00',\n",
       " '2018-09-20 00:00:00', '2016-06-24 00:00:00', '2016-04-09 00:00:00',\n",
       " '2023-06-05 00:00:00', '2018-10-31 00:00:00', '2016-11-08 00:00:00',\n",
       " '2017-04-11 00:00:00']\n",
       "Length: 1562, dtype: datetime64[ns]"
      ]
     },
     "execution_count": 41,
     "metadata": {},
     "output_type": "execute_result"
    }
   ],
   "source": [
    "songs_data.release_date.unique()"
   ]
  },
  {
   "cell_type": "code",
   "execution_count": 31,
   "id": "d3f51a9c",
   "metadata": {},
   "outputs": [],
   "source": [
    "# Let's add column year\n",
    "songs_data['year'] = pd.DatetimeIndex(songs_data['release_date']).year"
   ]
  },
  {
   "cell_type": "code",
   "execution_count": 32,
   "id": "553bc897",
   "metadata": {},
   "outputs": [
    {
     "data": {
      "text/plain": [
       "array([2024, 2023, 2022, 2021, 2015, 2019, 2017, 2020, 2018, 2016, 2011,\n",
       "       2013, 2014, 2012, 2010, 2009, 2000, 2005, 2004, 1994, 2008, 2002,\n",
       "       2007, 2003, 2006, 1999, 1987, 1998, 2001, 1991])"
      ]
     },
     "execution_count": 32,
     "metadata": {},
     "output_type": "execute_result"
    }
   ],
   "source": [
    "songs_data['year'].unique()"
   ]
  },
  {
   "cell_type": "code",
   "execution_count": 33,
   "id": "a7c5a7a7",
   "metadata": {},
   "outputs": [
    {
     "data": {
      "text/plain": [
       "<Axes: xlabel='year'>"
      ]
     },
     "execution_count": 33,
     "metadata": {},
     "output_type": "execute_result"
    },
    {
     "data": {
      "image/png": "[encoded data removed]",
      "text/plain": [
       "<Figure size 640x480 with 1 Axes>"
      ]
     },
     "metadata": {},
     "output_type": "display_data"
    }
   ],
   "source": [
    "# Plotting by using pandas - released songs by year\n",
    "songs_data.groupby(['year']).size().plot()"
   ]
  },
  {
   "cell_type": "code",
   "execution_count": 34,
   "id": "734da271",
   "metadata": {},
   "outputs": [
    {
     "data": {
      "text/plain": [
       "<Axes: xlabel='year'>"
      ]
     },
     "execution_count": 34,
     "metadata": {},
     "output_type": "execute_result"
    },
    {
     "data": {
      "image/png": "[encoded data removed]",
      "text/plain": [
       "<Figure size 640x480 with 1 Axes>"
      ]
     },
     "metadata": {},
     "output_type": "display_data"
    }
   ],
   "source": [
    "# Plotting by using pandas\n",
    "songs_data.groupby(['year']).size().plot(kind = \"bar\")"
   ]
  },
  {
   "cell_type": "markdown",
   "id": "f72d6900",
   "metadata": {},
   "source": [
    "### For 2024 - The bar is too low because the data is only up to 06-14-2024 - half a year."
   ]
  },
  {
   "cell_type": "code",
   "execution_count": 44,
   "id": "d99b02cf",
   "metadata": {},
   "outputs": [
    {
     "data": {
      "text/html": [
       "<div>\n",
       "<style scoped>\n",
       "    .dataframe tbody tr th:only-of-type {\n",
       "        vertical-align: middle;\n",
       "    }\n",
       "\n",
       "    .dataframe tbody tr th {\n",
       "        vertical-align: top;\n",
       "    }\n",
       "\n",
       "    .dataframe thead th {\n",
       "        text-align: right;\n",
       "    }\n",
       "</style>\n",
       "<table border=\"1\" class=\"dataframe\">\n",
       "  <thead>\n",
       "    <tr style=\"text-align: right;\">\n",
       "      <th></th>\n",
       "      <th>track</th>\n",
       "      <th>album_name</th>\n",
       "      <th>artist</th>\n",
       "      <th>release_date</th>\n",
       "      <th>isrc</th>\n",
       "      <th>all_time_rank</th>\n",
       "      <th>track_score</th>\n",
       "      <th>spotify_streams</th>\n",
       "      <th>spotify_playlist_count</th>\n",
       "      <th>spotify_playlist_reach</th>\n",
       "      <th>...</th>\n",
       "      <th>deezer_playlist_count</th>\n",
       "      <th>deezer_playlist_reach</th>\n",
       "      <th>amazon_playlist_count</th>\n",
       "      <th>pandora_streams</th>\n",
       "      <th>pandora_track_stations</th>\n",
       "      <th>soundcloud_streams</th>\n",
       "      <th>shazam_counts</th>\n",
       "      <th>explicit_track</th>\n",
       "      <th>year</th>\n",
       "      <th>month</th>\n",
       "    </tr>\n",
       "  </thead>\n",
       "  <tbody>\n",
       "    <tr>\n",
       "      <th>11</th>\n",
       "      <td>The Door</td>\n",
       "      <td>The Door</td>\n",
       "      <td>Teddy Swims</td>\n",
       "      <td>2024-06-14</td>\n",
       "      <td>USWB12402486</td>\n",
       "      <td>12</td>\n",
       "      <td>320.2</td>\n",
       "      <td>111,155,129</td>\n",
       "      <td>2</td>\n",
       "      <td>263,767</td>\n",
       "      <td>...</td>\n",
       "      <td>NaN</td>\n",
       "      <td>NaN</td>\n",
       "      <td>2.0</td>\n",
       "      <td>NaN</td>\n",
       "      <td>NaN</td>\n",
       "      <td>NaN</td>\n",
       "      <td>NaN</td>\n",
       "      <td>True</td>\n",
       "      <td>2024</td>\n",
       "      <td>6</td>\n",
       "    </tr>\n",
       "    <tr>\n",
       "      <th>316</th>\n",
       "      <td>Pretty Green Eyes (Sunset Ibiza Mix)</td>\n",
       "      <td>Pretty Green Eyes (Sunset Ibiza Mix)</td>\n",
       "      <td>KETTAMA</td>\n",
       "      <td>2024-06-14</td>\n",
       "      <td>CBEFB2400006</td>\n",
       "      <td>316</td>\n",
       "      <td>85.9</td>\n",
       "      <td>NaN</td>\n",
       "      <td>5</td>\n",
       "      <td>3,277,306</td>\n",
       "      <td>...</td>\n",
       "      <td>1.0</td>\n",
       "      <td>87,002</td>\n",
       "      <td>10.0</td>\n",
       "      <td>NaN</td>\n",
       "      <td>NaN</td>\n",
       "      <td>553,000</td>\n",
       "      <td>NaN</td>\n",
       "      <td>False</td>\n",
       "      <td>2024</td>\n",
       "      <td>6</td>\n",
       "    </tr>\n",
       "    <tr>\n",
       "      <th>3579</th>\n",
       "      <td>Tell Me What You Want</td>\n",
       "      <td>Tell Me What You Want - Single</td>\n",
       "      <td>Oden &amp; Fatzo</td>\n",
       "      <td>2024-06-14</td>\n",
       "      <td>GBCPZ2423268</td>\n",
       "      <td>3,546</td>\n",
       "      <td>22.8</td>\n",
       "      <td>NaN</td>\n",
       "      <td>8</td>\n",
       "      <td>3,490,536</td>\n",
       "      <td>...</td>\n",
       "      <td>4.0</td>\n",
       "      <td>6,379,165</td>\n",
       "      <td>6.0</td>\n",
       "      <td>NaN</td>\n",
       "      <td>NaN</td>\n",
       "      <td>54,974</td>\n",
       "      <td>NaN</td>\n",
       "      <td>False</td>\n",
       "      <td>2024</td>\n",
       "      <td>6</td>\n",
       "    </tr>\n",
       "    <tr>\n",
       "      <th>1609</th>\n",
       "      <td>I Am Not Okay</td>\n",
       "      <td>I Am Not Okay</td>\n",
       "      <td>Jelly Roll</td>\n",
       "      <td>2024-06-12</td>\n",
       "      <td>USUG12403674</td>\n",
       "      <td>1,603</td>\n",
       "      <td>36.6</td>\n",
       "      <td>4,522</td>\n",
       "      <td>63</td>\n",
       "      <td>11,074,150</td>\n",
       "      <td>...</td>\n",
       "      <td>1.0</td>\n",
       "      <td>5,982,846</td>\n",
       "      <td>10.0</td>\n",
       "      <td>277,638</td>\n",
       "      <td>157</td>\n",
       "      <td>1,863</td>\n",
       "      <td>7,472</td>\n",
       "      <td>False</td>\n",
       "      <td>2024</td>\n",
       "      <td>6</td>\n",
       "    </tr>\n",
       "    <tr>\n",
       "      <th>1492</th>\n",
       "      <td>Show Time</td>\n",
       "      <td>Show Time</td>\n",
       "      <td>SUPER JUNIOR</td>\n",
       "      <td>2024-06-11</td>\n",
       "      <td>KRA302400197</td>\n",
       "      <td>1,491</td>\n",
       "      <td>38.0</td>\n",
       "      <td>NaN</td>\n",
       "      <td>31</td>\n",
       "      <td>2,988,530</td>\n",
       "      <td>...</td>\n",
       "      <td>1.0</td>\n",
       "      <td>337,935</td>\n",
       "      <td>16.0</td>\n",
       "      <td>37</td>\n",
       "      <td>NaN</td>\n",
       "      <td>NaN</td>\n",
       "      <td>303</td>\n",
       "      <td>False</td>\n",
       "      <td>2024</td>\n",
       "      <td>6</td>\n",
       "    </tr>\n",
       "    <tr>\n",
       "      <th>...</th>\n",
       "      <td>...</td>\n",
       "      <td>...</td>\n",
       "      <td>...</td>\n",
       "      <td>...</td>\n",
       "      <td>...</td>\n",
       "      <td>...</td>\n",
       "      <td>...</td>\n",
       "      <td>...</td>\n",
       "      <td>...</td>\n",
       "      <td>...</td>\n",
       "      <td>...</td>\n",
       "      <td>...</td>\n",
       "      <td>...</td>\n",
       "      <td>...</td>\n",
       "      <td>...</td>\n",
       "      <td>...</td>\n",
       "      <td>...</td>\n",
       "      <td>...</td>\n",
       "      <td>...</td>\n",
       "      <td>...</td>\n",
       "      <td>...</td>\n",
       "    </tr>\n",
       "    <tr>\n",
       "      <th>3729</th>\n",
       "      <td>Californication</td>\n",
       "      <td>Californication (Deluxe Version)</td>\n",
       "      <td>Red Hot Chili Peppers</td>\n",
       "      <td>1999-06-08</td>\n",
       "      <td>USWB19900690</td>\n",
       "      <td>3,730</td>\n",
       "      <td>22.2</td>\n",
       "      <td>1,405,353,677</td>\n",
       "      <td>276,377</td>\n",
       "      <td>115,315,508</td>\n",
       "      <td>...</td>\n",
       "      <td>268.0</td>\n",
       "      <td>1,064,069</td>\n",
       "      <td>30.0</td>\n",
       "      <td>582,410,010</td>\n",
       "      <td>217,517</td>\n",
       "      <td>9,809,319</td>\n",
       "      <td>NaN</td>\n",
       "      <td>False</td>\n",
       "      <td>1999</td>\n",
       "      <td>6</td>\n",
       "    </tr>\n",
       "    <tr>\n",
       "      <th>4167</th>\n",
       "      <td>Beautiful Girls</td>\n",
       "      <td>Groove So Much !</td>\n",
       "      <td>Sean Kingston</td>\n",
       "      <td>1998-04-03</td>\n",
       "      <td>USSM10701781</td>\n",
       "      <td>4,155</td>\n",
       "      <td>20.8</td>\n",
       "      <td>178,339,925</td>\n",
       "      <td>189,706</td>\n",
       "      <td>77,373,837</td>\n",
       "      <td>...</td>\n",
       "      <td>75.0</td>\n",
       "      <td>792,050</td>\n",
       "      <td>12.0</td>\n",
       "      <td>208,219,623</td>\n",
       "      <td>222,153</td>\n",
       "      <td>NaN</td>\n",
       "      <td>4,403,782</td>\n",
       "      <td>False</td>\n",
       "      <td>1998</td>\n",
       "      <td>4</td>\n",
       "    </tr>\n",
       "    <tr>\n",
       "      <th>2107</th>\n",
       "      <td>All I Want for Christmas Is You</td>\n",
       "      <td>Merry Christmas</td>\n",
       "      <td>Mariah Carey</td>\n",
       "      <td>1994-01-01</td>\n",
       "      <td>USSM19400325</td>\n",
       "      <td>2,097</td>\n",
       "      <td>31.5</td>\n",
       "      <td>1,810,649,765</td>\n",
       "      <td>109,411</td>\n",
       "      <td>45,003,974</td>\n",
       "      <td>...</td>\n",
       "      <td>143.0</td>\n",
       "      <td>1,390,899</td>\n",
       "      <td>125.0</td>\n",
       "      <td>304,497,253</td>\n",
       "      <td>3,556,791</td>\n",
       "      <td>1,273,462</td>\n",
       "      <td>6,531,412</td>\n",
       "      <td>False</td>\n",
       "      <td>1994</td>\n",
       "      <td>1</td>\n",
       "    </tr>\n",
       "    <tr>\n",
       "      <th>4522</th>\n",
       "      <td>Smells Like Teen Spirit</td>\n",
       "      <td>Nevermind (30th Anniversary Edition Super Deluxe)</td>\n",
       "      <td>Nirvana</td>\n",
       "      <td>1991-09-24</td>\n",
       "      <td>USGF19942501</td>\n",
       "      <td>4,510</td>\n",
       "      <td>19.6</td>\n",
       "      <td>2,021,910,364</td>\n",
       "      <td>410,054</td>\n",
       "      <td>113,406,994</td>\n",
       "      <td>...</td>\n",
       "      <td>256.0</td>\n",
       "      <td>3,993,523</td>\n",
       "      <td>97.0</td>\n",
       "      <td>691,979,509</td>\n",
       "      <td>317,966</td>\n",
       "      <td>13,047,851</td>\n",
       "      <td>12,775,440</td>\n",
       "      <td>False</td>\n",
       "      <td>1991</td>\n",
       "      <td>9</td>\n",
       "    </tr>\n",
       "    <tr>\n",
       "      <th>3978</th>\n",
       "      <td>Sweet Child O' Mine</td>\n",
       "      <td>Appetite For Destruction</td>\n",
       "      <td>Guns N' Roses</td>\n",
       "      <td>1987-07-21</td>\n",
       "      <td>USGF18714809</td>\n",
       "      <td>3,931</td>\n",
       "      <td>21.5</td>\n",
       "      <td>1,879,386,440</td>\n",
       "      <td>295,491</td>\n",
       "      <td>96,032,046</td>\n",
       "      <td>...</td>\n",
       "      <td>215.0</td>\n",
       "      <td>3,290,536</td>\n",
       "      <td>107.0</td>\n",
       "      <td>885,046,947</td>\n",
       "      <td>444,606</td>\n",
       "      <td>NaN</td>\n",
       "      <td>10,345,515</td>\n",
       "      <td>True</td>\n",
       "      <td>1987</td>\n",
       "      <td>7</td>\n",
       "    </tr>\n",
       "  </tbody>\n",
       "</table>\n",
       "<p>4600 rows × 30 columns</p>\n",
       "</div>"
      ],
      "text/plain": [
       "                                     track  \\\n",
       "11                                The Door   \n",
       "316   Pretty Green Eyes (Sunset Ibiza Mix)   \n",
       "3579                 Tell Me What You Want   \n",
       "1609                         I Am Not Okay   \n",
       "1492                             Show Time   \n",
       "...                                    ...   \n",
       "3729                       Californication   \n",
       "4167                       Beautiful Girls   \n",
       "2107       All I Want for Christmas Is You   \n",
       "4522               Smells Like Teen Spirit   \n",
       "3978                   Sweet Child O' Mine   \n",
       "\n",
       "                                             album_name  \\\n",
       "11                                             The Door   \n",
       "316                Pretty Green Eyes (Sunset Ibiza Mix)   \n",
       "3579                     Tell Me What You Want - Single   \n",
       "1609                                      I Am Not Okay   \n",
       "1492                                          Show Time   \n",
       "...                                                 ...   \n",
       "3729                   Californication (Deluxe Version)   \n",
       "4167                                   Groove So Much !   \n",
       "2107                                    Merry Christmas   \n",
       "4522  Nevermind (30th Anniversary Edition Super Deluxe)   \n",
       "3978                           Appetite For Destruction   \n",
       "\n",
       "                     artist release_date          isrc all_time_rank  \\\n",
       "11              Teddy Swims   2024-06-14  USWB12402486            12   \n",
       "316                 KETTAMA   2024-06-14  CBEFB2400006           316   \n",
       "3579           Oden & Fatzo   2024-06-14  GBCPZ2423268         3,546   \n",
       "1609             Jelly Roll   2024-06-12  USUG12403674         1,603   \n",
       "1492           SUPER JUNIOR   2024-06-11  KRA302400197         1,491   \n",
       "...                     ...          ...           ...           ...   \n",
       "3729  Red Hot Chili Peppers   1999-06-08  USWB19900690         3,730   \n",
       "4167          Sean Kingston   1998-04-03  USSM10701781         4,155   \n",
       "2107           Mariah Carey   1994-01-01  USSM19400325         2,097   \n",
       "4522                Nirvana   1991-09-24  USGF19942501         4,510   \n",
       "3978          Guns N' Roses   1987-07-21  USGF18714809         3,931   \n",
       "\n",
       "      track_score spotify_streams spotify_playlist_count  \\\n",
       "11          320.2     111,155,129                      2   \n",
       "316          85.9             NaN                      5   \n",
       "3579         22.8             NaN                      8   \n",
       "1609         36.6           4,522                     63   \n",
       "1492         38.0             NaN                     31   \n",
       "...           ...             ...                    ...   \n",
       "3729         22.2   1,405,353,677                276,377   \n",
       "4167         20.8     178,339,925                189,706   \n",
       "2107         31.5   1,810,649,765                109,411   \n",
       "4522         19.6   2,021,910,364                410,054   \n",
       "3978         21.5   1,879,386,440                295,491   \n",
       "\n",
       "     spotify_playlist_reach  ...  deezer_playlist_count deezer_playlist_reach  \\\n",
       "11                  263,767  ...                    NaN                   NaN   \n",
       "316               3,277,306  ...                    1.0                87,002   \n",
       "3579              3,490,536  ...                    4.0             6,379,165   \n",
       "1609             11,074,150  ...                    1.0             5,982,846   \n",
       "1492              2,988,530  ...                    1.0               337,935   \n",
       "...                     ...  ...                    ...                   ...   \n",
       "3729            115,315,508  ...                  268.0             1,064,069   \n",
       "4167             77,373,837  ...                   75.0               792,050   \n",
       "2107             45,003,974  ...                  143.0             1,390,899   \n",
       "4522            113,406,994  ...                  256.0             3,993,523   \n",
       "3978             96,032,046  ...                  215.0             3,290,536   \n",
       "\n",
       "     amazon_playlist_count pandora_streams pandora_track_stations  \\\n",
       "11                     2.0             NaN                    NaN   \n",
       "316                   10.0             NaN                    NaN   \n",
       "3579                   6.0             NaN                    NaN   \n",
       "1609                  10.0         277,638                    157   \n",
       "1492                  16.0              37                    NaN   \n",
       "...                    ...             ...                    ...   \n",
       "3729                  30.0     582,410,010                217,517   \n",
       "4167                  12.0     208,219,623                222,153   \n",
       "2107                 125.0     304,497,253              3,556,791   \n",
       "4522                  97.0     691,979,509                317,966   \n",
       "3978                 107.0     885,046,947                444,606   \n",
       "\n",
       "     soundcloud_streams shazam_counts  explicit_track  year month  \n",
       "11                  NaN           NaN            True  2024     6  \n",
       "316             553,000           NaN           False  2024     6  \n",
       "3579             54,974           NaN           False  2024     6  \n",
       "1609              1,863         7,472           False  2024     6  \n",
       "1492                NaN           303           False  2024     6  \n",
       "...                 ...           ...             ...   ...   ...  \n",
       "3729          9,809,319           NaN           False  1999     6  \n",
       "4167                NaN     4,403,782           False  1998     4  \n",
       "2107          1,273,462     6,531,412           False  1994     1  \n",
       "4522         13,047,851    12,775,440           False  1991     9  \n",
       "3978                NaN    10,345,515            True  1987     7  \n",
       "\n",
       "[4600 rows x 30 columns]"
      ]
     },
     "execution_count": 44,
     "metadata": {},
     "output_type": "execute_result"
    }
   ],
   "source": [
    "songs_data.sort_values(by='release_date', ascending=False)"
   ]
  },
  {
   "cell_type": "code",
   "execution_count": 35,
   "id": "a3ded040",
   "metadata": {},
   "outputs": [],
   "source": [
    "# Let's add column month\n",
    "songs_data['month'] = pd.DatetimeIndex(songs_data['release_date']).month"
   ]
  },
  {
   "cell_type": "code",
   "execution_count": 36,
   "id": "2163c40d",
   "metadata": {},
   "outputs": [
    {
     "data": {
      "text/plain": [
       "array([ 4,  5,  3,  1, 11,  2,  6, 10,  9,  8,  7, 12])"
      ]
     },
     "execution_count": 36,
     "metadata": {},
     "output_type": "execute_result"
    }
   ],
   "source": [
    "songs_data['month'].unique()"
   ]
  },
  {
   "cell_type": "code",
   "execution_count": 37,
   "id": "194c6879",
   "metadata": {},
   "outputs": [
    {
     "data": {
      "text/plain": [
       "<Axes: xlabel='month'>"
      ]
     },
     "execution_count": 37,
     "metadata": {},
     "output_type": "execute_result"
    },
    {
     "data": {
      "image/png": "[encoded data removed]",
      "text/plain": [
       "<Figure size 640x480 with 1 Axes>"
      ]
     },
     "metadata": {},
     "output_type": "display_data"
    }
   ],
   "source": [
    "# Plotting by using pandas - released songs by month\n",
    "songs_data.groupby(['month']).size().plot()"
   ]
  },
  {
   "cell_type": "code",
   "execution_count": 38,
   "id": "400f259b",
   "metadata": {},
   "outputs": [
    {
     "data": {
      "text/plain": [
       "<Axes: xlabel='month'>"
      ]
     },
     "execution_count": 38,
     "metadata": {},
     "output_type": "execute_result"
    },
    {
     "data": {
      "image/png": "[encoded data removed]",
      "text/plain": [
       "<Figure size 640x480 with 1 Axes>"
      ]
     },
     "metadata": {},
     "output_type": "display_data"
    }
   ],
   "source": [
    "# Plotting by using pandas - released songs by month with bars\n",
    "songs_data.groupby(['month']).size().plot(kind = \"bar\")"
   ]
  },
  {
   "cell_type": "markdown",
   "id": "3dc7b6df",
   "metadata": {},
   "source": [
    "### Most popular months are january and may."
   ]
  },
  {
   "cell_type": "markdown",
   "id": "d83c5535-72dc-4670-81a3-8ca244233a46",
   "metadata": {},
   "source": [
    "### Problem 6. Playlists (2 points)\n",
    "Is there any connection (correlation) between users adding a song to playlists in one service, or another? Only Spotify, Apple, Deezer, and Amazon offer the ability to add a song to a playlist. Find a way to plot all these relationships at the same time, and analyze them. Experiment with different types of correlations."
   ]
  },
  {
   "cell_type": "code",
   "execution_count": 52,
   "id": "d3db5ed8-10e4-4f3d-9e20-ddc03371ba58",
   "metadata": {},
   "outputs": [],
   "source": [
    "correlation_columns = [\n",
    "     'spotify_playlist_count', \n",
    "     'apple_music_playlist_count', \n",
    "     'deezer_playlist_count', \n",
    "     'amazon_playlist_count']"
   ]
  },
  {
   "cell_type": "code",
   "execution_count": 53,
   "id": "e166ad67",
   "metadata": {},
   "outputs": [],
   "source": [
    "correlation_data = songs_data[correlation_columns]"
   ]
  },
  {
   "cell_type": "code",
   "execution_count": 54,
   "id": "1245ed19",
   "metadata": {},
   "outputs": [
    {
     "data": {
      "text/html": [
       "<div>\n",
       "<style scoped>\n",
       "    .dataframe tbody tr th:only-of-type {\n",
       "        vertical-align: middle;\n",
       "    }\n",
       "\n",
       "    .dataframe tbody tr th {\n",
       "        vertical-align: top;\n",
       "    }\n",
       "\n",
       "    .dataframe thead th {\n",
       "        text-align: right;\n",
       "    }\n",
       "</style>\n",
       "<table border=\"1\" class=\"dataframe\">\n",
       "  <thead>\n",
       "    <tr style=\"text-align: right;\">\n",
       "      <th></th>\n",
       "      <th>spotify_playlist_count</th>\n",
       "      <th>apple_music_playlist_count</th>\n",
       "      <th>deezer_playlist_count</th>\n",
       "      <th>amazon_playlist_count</th>\n",
       "    </tr>\n",
       "  </thead>\n",
       "  <tbody>\n",
       "    <tr>\n",
       "      <th>0</th>\n",
       "      <td>30,716</td>\n",
       "      <td>210.0</td>\n",
       "      <td>62.0</td>\n",
       "      <td>114.0</td>\n",
       "    </tr>\n",
       "    <tr>\n",
       "      <th>1</th>\n",
       "      <td>28,113</td>\n",
       "      <td>188.0</td>\n",
       "      <td>67.0</td>\n",
       "      <td>111.0</td>\n",
       "    </tr>\n",
       "    <tr>\n",
       "      <th>2</th>\n",
       "      <td>54,331</td>\n",
       "      <td>190.0</td>\n",
       "      <td>136.0</td>\n",
       "      <td>172.0</td>\n",
       "    </tr>\n",
       "    <tr>\n",
       "      <th>3</th>\n",
       "      <td>269,802</td>\n",
       "      <td>394.0</td>\n",
       "      <td>264.0</td>\n",
       "      <td>210.0</td>\n",
       "    </tr>\n",
       "    <tr>\n",
       "      <th>4</th>\n",
       "      <td>7,223</td>\n",
       "      <td>182.0</td>\n",
       "      <td>82.0</td>\n",
       "      <td>105.0</td>\n",
       "    </tr>\n",
       "    <tr>\n",
       "      <th>...</th>\n",
       "      <td>...</td>\n",
       "      <td>...</td>\n",
       "      <td>...</td>\n",
       "      <td>...</td>\n",
       "    </tr>\n",
       "    <tr>\n",
       "      <th>4595</th>\n",
       "      <td>65,770</td>\n",
       "      <td>3.0</td>\n",
       "      <td>2.0</td>\n",
       "      <td>NaN</td>\n",
       "    </tr>\n",
       "    <tr>\n",
       "      <th>4596</th>\n",
       "      <td>4,602</td>\n",
       "      <td>1.0</td>\n",
       "      <td>1.0</td>\n",
       "      <td>NaN</td>\n",
       "    </tr>\n",
       "    <tr>\n",
       "      <th>4597</th>\n",
       "      <td>72,066</td>\n",
       "      <td>19.0</td>\n",
       "      <td>1.0</td>\n",
       "      <td>6.0</td>\n",
       "    </tr>\n",
       "    <tr>\n",
       "      <th>4598</th>\n",
       "      <td>14,037</td>\n",
       "      <td>1.0</td>\n",
       "      <td>NaN</td>\n",
       "      <td>7.0</td>\n",
       "    </tr>\n",
       "    <tr>\n",
       "      <th>4599</th>\n",
       "      <td>32,138</td>\n",
       "      <td>11.0</td>\n",
       "      <td>4.0</td>\n",
       "      <td>4.0</td>\n",
       "    </tr>\n",
       "  </tbody>\n",
       "</table>\n",
       "<p>4600 rows × 4 columns</p>\n",
       "</div>"
      ],
      "text/plain": [
       "     spotify_playlist_count  apple_music_playlist_count  \\\n",
       "0                    30,716                       210.0   \n",
       "1                    28,113                       188.0   \n",
       "2                    54,331                       190.0   \n",
       "3                   269,802                       394.0   \n",
       "4                     7,223                       182.0   \n",
       "...                     ...                         ...   \n",
       "4595                 65,770                         3.0   \n",
       "4596                  4,602                         1.0   \n",
       "4597                 72,066                        19.0   \n",
       "4598                 14,037                         1.0   \n",
       "4599                 32,138                        11.0   \n",
       "\n",
       "      deezer_playlist_count  amazon_playlist_count  \n",
       "0                      62.0                  114.0  \n",
       "1                      67.0                  111.0  \n",
       "2                     136.0                  172.0  \n",
       "3                     264.0                  210.0  \n",
       "4                      82.0                  105.0  \n",
       "...                     ...                    ...  \n",
       "4595                    2.0                    NaN  \n",
       "4596                    1.0                    NaN  \n",
       "4597                    1.0                    6.0  \n",
       "4598                    NaN                    7.0  \n",
       "4599                    4.0                    4.0  \n",
       "\n",
       "[4600 rows x 4 columns]"
      ]
     },
     "execution_count": 54,
     "metadata": {},
     "output_type": "execute_result"
    }
   ],
   "source": [
    "correlation_data"
   ]
  },
  {
   "cell_type": "code",
   "execution_count": 60,
   "id": "202adc4e",
   "metadata": {},
   "outputs": [],
   "source": [
    "cleaned_data = correlation_data.dropna()"
   ]
  },
  {
   "cell_type": "code",
   "execution_count": 63,
   "id": "9c13798a",
   "metadata": {},
   "outputs": [
    {
     "data": {
      "text/plain": [
       "spotify_playlist_count         object\n",
       "apple_music_playlist_count    float64\n",
       "deezer_playlist_count         float64\n",
       "amazon_playlist_count         float64\n",
       "dtype: object"
      ]
     },
     "execution_count": 63,
     "metadata": {},
     "output_type": "execute_result"
    }
   ],
   "source": [
    "cleaned_data.dtypes"
   ]
  },
  {
   "cell_type": "code",
   "execution_count": 65,
   "id": "34b2a744",
   "metadata": {},
   "outputs": [
    {
     "data": {
      "text/plain": [
       "array(['30,716', '28,113', '54,331', ..., '15,387', '72,066', '32,138'],\n",
       "      dtype=object)"
      ]
     },
     "execution_count": 65,
     "metadata": {},
     "output_type": "execute_result"
    }
   ],
   "source": [
    "cleaned_data.spotify_playlist_count.unique()"
   ]
  },
  {
   "cell_type": "code",
   "execution_count": 73,
   "id": "28ce547a",
   "metadata": {},
   "outputs": [
    {
     "name": "stderr",
     "output_type": "stream",
     "text": [
      "C:\\Users\\Owner\\AppData\\Local\\Temp\\ipykernel_10280\\3478953851.py:1: SettingWithCopyWarning: \n",
      "A value is trying to be set on a copy of a slice from a DataFrame.\n",
      "Try using .loc[row_indexer,col_indexer] = value instead\n",
      "\n",
      "See the caveats in the documentation: https://pandas.pydata.org/pandas-docs/stable/user_guide/indexing.html#returning-a-view-versus-a-copy\n",
      "  cleaned_data.spotify_playlist_count = cleaned_data.spotify_playlist_count.replace(\",\", \".\", regex=True)\n"
     ]
    },
    {
     "data": {
      "text/plain": [
       "0        30.716\n",
       "1        28.113\n",
       "2        54.331\n",
       "3       269.802\n",
       "4         7.223\n",
       "         ...   \n",
       "4590     42.233\n",
       "4591     84.220\n",
       "4592     15.387\n",
       "4597     72.066\n",
       "4599     32.138\n",
       "Name: spotify_playlist_count, Length: 3253, dtype: float64"
      ]
     },
     "execution_count": 73,
     "metadata": {},
     "output_type": "execute_result"
    }
   ],
   "source": [
    "cleaned_data.spotify_playlist_count = cleaned_data.spotify_playlist_count.replace(\",\", \".\", regex=True)\n",
    "cleaned_data.spotify_playlist_count.astype(float)\n"
   ]
  },
  {
   "cell_type": "code",
   "execution_count": 69,
   "id": "742aed77",
   "metadata": {},
   "outputs": [
    {
     "name": "stdout",
     "output_type": "stream",
     "text": [
      "                            spotify_playlist_count  \\\n",
      "spotify_playlist_count                    1.000000   \n",
      "apple_music_playlist_count                0.423610   \n",
      "deezer_playlist_count                     0.349652   \n",
      "amazon_playlist_count                     0.241106   \n",
      "\n",
      "                            apple_music_playlist_count  deezer_playlist_count  \\\n",
      "spotify_playlist_count                        0.423610               0.349652   \n",
      "apple_music_playlist_count                    1.000000               0.770802   \n",
      "deezer_playlist_count                         0.770802               1.000000   \n",
      "amazon_playlist_count                         0.659011               0.569494   \n",
      "\n",
      "                            amazon_playlist_count  \n",
      "spotify_playlist_count                   0.241106  \n",
      "apple_music_playlist_count               0.659011  \n",
      "deezer_playlist_count                    0.569494  \n",
      "amazon_playlist_count                    1.000000  \n"
     ]
    }
   ],
   "source": [
    "correlation_matrix = cleaned_data.corr()\n",
    "print(correlation_matrix)"
   ]
  },
  {
   "cell_type": "code",
   "execution_count": 70,
   "id": "d20bfb74",
   "metadata": {},
   "outputs": [
    {
     "data": {
      "image/png": "[encoded data removed]",
      "text/plain": [
       "<Figure size 800x600 with 2 Axes>"
      ]
     },
     "metadata": {},
     "output_type": "display_data"
    },
    {
     "data": {
      "image/png": "[encoded data removed]",
      "text/plain": [
       "<Figure size 800x600 with 2 Axes>"
      ]
     },
     "metadata": {},
     "output_type": "display_data"
    },
    {
     "data": {
      "image/png": "[encoded data removed]",
      "text/plain": [
       "<Figure size 800x600 with 2 Axes>"
      ]
     },
     "metadata": {},
     "output_type": "display_data"
    }
   ],
   "source": [
    "correlation_methods = ['pearson', 'spearman', 'kendall']\n",
    "\n",
    "for method in correlation_methods:\n",
    "    corr_matrix = correlation_matrix.corr(method=method)\n",
    "    \n",
    "    # Plotting the correlation matrix\n",
    "    plt.figure(figsize=(8, 6))\n",
    "    sns.heatmap(corr_matrix, annot=True, cmap='coolwarm', center=0)\n",
    "    plt.title(f'{method.capitalize()} Correlation Matrix')\n",
    "    plt.show()"
   ]
  },
  {
   "cell_type": "markdown",
   "id": "c2e68571",
   "metadata": {},
   "source": [
    "### Analysis of Pearson correlation matrix:\n",
    "#### High Correlation between \n",
    "##### Apple - Deezer - Positive +0.73: \n",
    "It suggests that as songs are added more frequently to playlists in Apple, they tend to be added similarly in Deezer.\n",
    "#### Negative Correlation between \n",
    "##### Amazon - Spotify - Negative -0.89:\n",
    "It suggests that as much songs are added to playlists in Spotify, they tend not to be added in Amazon and vice versa.\n",
    "etc.\n",
    "##### Apple - Spotify - Negative -0.66\n",
    "##### Apple - Amazon - Positive +0.43\n",
    "##### Deezer - Spotify - Negative -0.68\n",
    "##### Deezer - Amazon - Positive +0.27\n",
    "#### Spotify is Negative with all 3, which suggests that if people add songs in Spotify, they add less frequently to other 3 services"
   ]
  },
  {
   "cell_type": "markdown",
   "id": "e78b8307-de74-4cb4-ba61-da4e7c9fc6c6",
   "metadata": {},
   "source": [
    "### Problem 7. YouTube views and likes (1 point)\n",
    "What is the relationship between YouTube views and likes? Present an appropriate plot. \n",
    "\n",
    "What is the mean YouTube views-to-likes ratio? What is its distribution? Find a way to plot it and describe it."
   ]
  },
  {
   "cell_type": "code",
   "execution_count": 71,
   "id": "bf3c3dd5-7466-4dec-9fc3-14a5690da4b4",
   "metadata": {},
   "outputs": [
    {
     "data": {
      "text/plain": [
       "array(['84,274,754', '116,347,040', '122,599,116', ..., '201,027,333',\n",
       "       '1,118,595,159', '866,300,755'], dtype=object)"
      ]
     },
     "execution_count": 71,
     "metadata": {},
     "output_type": "execute_result"
    }
   ],
   "source": [
    "songs_data.youtube_views.unique()"
   ]
  },
  {
   "cell_type": "code",
   "execution_count": 72,
   "id": "8fbb4d3a",
   "metadata": {},
   "outputs": [
    {
     "data": {
      "text/plain": [
       "array(['1,713,126', '3,486,739', '2,228,730', ..., '1,081,402',\n",
       "       '3,868,828', '3,826,829'], dtype=object)"
      ]
     },
     "execution_count": 72,
     "metadata": {},
     "output_type": "execute_result"
    }
   ],
   "source": [
    "songs_data.youtube_likes.unique()"
   ]
  },
  {
   "cell_type": "code",
   "execution_count": 81,
   "id": "c663269f",
   "metadata": {},
   "outputs": [
    {
     "ename": "ValueError",
     "evalue": "could not convert string to float: '84.274.754'",
     "output_type": "error",
     "traceback": [
      "\u001b[1;31m---------------------------------------------------------------------------\u001b[0m",
      "\u001b[1;31mValueError\u001b[0m                                Traceback (most recent call last)",
      "Cell \u001b[1;32mIn[81], line 11\u001b[0m\n\u001b[0;32m      8\u001b[0m cleaned_data_youtube \u001b[38;5;241m=\u001b[39m correlation_data_1\u001b[38;5;241m.\u001b[39mdropna()\n\u001b[0;32m     10\u001b[0m cleaned_data_youtube \u001b[38;5;241m=\u001b[39m cleaned_data_youtube\u001b[38;5;241m.\u001b[39mreplace(\u001b[38;5;124m\"\u001b[39m\u001b[38;5;124m,\u001b[39m\u001b[38;5;124m\"\u001b[39m, \u001b[38;5;124m\"\u001b[39m\u001b[38;5;124m.\u001b[39m\u001b[38;5;124m\"\u001b[39m, regex\u001b[38;5;241m=\u001b[39m\u001b[38;5;28;01mTrue\u001b[39;00m)\n\u001b[1;32m---> 11\u001b[0m cleaned_data_youtube\u001b[38;5;241m.\u001b[39myoutube_views\u001b[38;5;241m.\u001b[39mastype(\u001b[38;5;28mfloat\u001b[39m)\n\u001b[0;32m     12\u001b[0m cleaned_data_youtube\u001b[38;5;241m.\u001b[39myoutube_likes\u001b[38;5;241m.\u001b[39mastype(\u001b[38;5;28mfloat\u001b[39m)\n\u001b[0;32m     14\u001b[0m correlation_matrix_1 \u001b[38;5;241m=\u001b[39m cleaned_data_youtube\u001b[38;5;241m.\u001b[39mcorr()\n",
      "File \u001b[1;32m~\\anaconda3\\Lib\\site-packages\\pandas\\core\\generic.py:6534\u001b[0m, in \u001b[0;36mNDFrame.astype\u001b[1;34m(self, dtype, copy, errors)\u001b[0m\n\u001b[0;32m   6530\u001b[0m     results \u001b[38;5;241m=\u001b[39m [ser\u001b[38;5;241m.\u001b[39mastype(dtype, copy\u001b[38;5;241m=\u001b[39mcopy) \u001b[38;5;28;01mfor\u001b[39;00m _, ser \u001b[38;5;129;01min\u001b[39;00m \u001b[38;5;28mself\u001b[39m\u001b[38;5;241m.\u001b[39mitems()]\n\u001b[0;32m   6532\u001b[0m \u001b[38;5;28;01melse\u001b[39;00m:\n\u001b[0;32m   6533\u001b[0m     \u001b[38;5;66;03m# else, only a single dtype is given\u001b[39;00m\n\u001b[1;32m-> 6534\u001b[0m     new_data \u001b[38;5;241m=\u001b[39m \u001b[38;5;28mself\u001b[39m\u001b[38;5;241m.\u001b[39m_mgr\u001b[38;5;241m.\u001b[39mastype(dtype\u001b[38;5;241m=\u001b[39mdtype, copy\u001b[38;5;241m=\u001b[39mcopy, errors\u001b[38;5;241m=\u001b[39merrors)\n\u001b[0;32m   6535\u001b[0m     res \u001b[38;5;241m=\u001b[39m \u001b[38;5;28mself\u001b[39m\u001b[38;5;241m.\u001b[39m_constructor_from_mgr(new_data, axes\u001b[38;5;241m=\u001b[39mnew_data\u001b[38;5;241m.\u001b[39maxes)\n\u001b[0;32m   6536\u001b[0m     \u001b[38;5;28;01mreturn\u001b[39;00m res\u001b[38;5;241m.\u001b[39m__finalize__(\u001b[38;5;28mself\u001b[39m, method\u001b[38;5;241m=\u001b[39m\u001b[38;5;124m\"\u001b[39m\u001b[38;5;124mastype\u001b[39m\u001b[38;5;124m\"\u001b[39m)\n",
      "File \u001b[1;32m~\\anaconda3\\Lib\\site-packages\\pandas\\core\\internals\\managers.py:414\u001b[0m, in \u001b[0;36mBaseBlockManager.astype\u001b[1;34m(self, dtype, copy, errors)\u001b[0m\n\u001b[0;32m    411\u001b[0m \u001b[38;5;28;01melif\u001b[39;00m using_copy_on_write():\n\u001b[0;32m    412\u001b[0m     copy \u001b[38;5;241m=\u001b[39m \u001b[38;5;28;01mFalse\u001b[39;00m\n\u001b[1;32m--> 414\u001b[0m \u001b[38;5;28;01mreturn\u001b[39;00m \u001b[38;5;28mself\u001b[39m\u001b[38;5;241m.\u001b[39mapply(\n\u001b[0;32m    415\u001b[0m     \u001b[38;5;124m\"\u001b[39m\u001b[38;5;124mastype\u001b[39m\u001b[38;5;124m\"\u001b[39m,\n\u001b[0;32m    416\u001b[0m     dtype\u001b[38;5;241m=\u001b[39mdtype,\n\u001b[0;32m    417\u001b[0m     copy\u001b[38;5;241m=\u001b[39mcopy,\n\u001b[0;32m    418\u001b[0m     errors\u001b[38;5;241m=\u001b[39merrors,\n\u001b[0;32m    419\u001b[0m     using_cow\u001b[38;5;241m=\u001b[39musing_copy_on_write(),\n\u001b[0;32m    420\u001b[0m )\n",
      "File \u001b[1;32m~\\anaconda3\\Lib\\site-packages\\pandas\\core\\internals\\managers.py:354\u001b[0m, in \u001b[0;36mBaseBlockManager.apply\u001b[1;34m(self, f, align_keys, **kwargs)\u001b[0m\n\u001b[0;32m    352\u001b[0m         applied \u001b[38;5;241m=\u001b[39m b\u001b[38;5;241m.\u001b[39mapply(f, \u001b[38;5;241m*\u001b[39m\u001b[38;5;241m*\u001b[39mkwargs)\n\u001b[0;32m    353\u001b[0m     \u001b[38;5;28;01melse\u001b[39;00m:\n\u001b[1;32m--> 354\u001b[0m         applied \u001b[38;5;241m=\u001b[39m \u001b[38;5;28mgetattr\u001b[39m(b, f)(\u001b[38;5;241m*\u001b[39m\u001b[38;5;241m*\u001b[39mkwargs)\n\u001b[0;32m    355\u001b[0m     result_blocks \u001b[38;5;241m=\u001b[39m extend_blocks(applied, result_blocks)\n\u001b[0;32m    357\u001b[0m out \u001b[38;5;241m=\u001b[39m \u001b[38;5;28mtype\u001b[39m(\u001b[38;5;28mself\u001b[39m)\u001b[38;5;241m.\u001b[39mfrom_blocks(result_blocks, \u001b[38;5;28mself\u001b[39m\u001b[38;5;241m.\u001b[39maxes)\n",
      "File \u001b[1;32m~\\anaconda3\\Lib\\site-packages\\pandas\\core\\internals\\blocks.py:616\u001b[0m, in \u001b[0;36mBlock.astype\u001b[1;34m(self, dtype, copy, errors, using_cow)\u001b[0m\n\u001b[0;32m    596\u001b[0m \u001b[38;5;250m\u001b[39m\u001b[38;5;124;03m\"\"\"\u001b[39;00m\n\u001b[0;32m    597\u001b[0m \u001b[38;5;124;03mCoerce to the new dtype.\u001b[39;00m\n\u001b[0;32m    598\u001b[0m \n\u001b[1;32m   (...)\u001b[0m\n\u001b[0;32m    612\u001b[0m \u001b[38;5;124;03mBlock\u001b[39;00m\n\u001b[0;32m    613\u001b[0m \u001b[38;5;124;03m\"\"\"\u001b[39;00m\n\u001b[0;32m    614\u001b[0m values \u001b[38;5;241m=\u001b[39m \u001b[38;5;28mself\u001b[39m\u001b[38;5;241m.\u001b[39mvalues\n\u001b[1;32m--> 616\u001b[0m new_values \u001b[38;5;241m=\u001b[39m astype_array_safe(values, dtype, copy\u001b[38;5;241m=\u001b[39mcopy, errors\u001b[38;5;241m=\u001b[39merrors)\n\u001b[0;32m    618\u001b[0m new_values \u001b[38;5;241m=\u001b[39m maybe_coerce_values(new_values)\n\u001b[0;32m    620\u001b[0m refs \u001b[38;5;241m=\u001b[39m \u001b[38;5;28;01mNone\u001b[39;00m\n",
      "File \u001b[1;32m~\\anaconda3\\Lib\\site-packages\\pandas\\core\\dtypes\\astype.py:238\u001b[0m, in \u001b[0;36mastype_array_safe\u001b[1;34m(values, dtype, copy, errors)\u001b[0m\n\u001b[0;32m    235\u001b[0m     dtype \u001b[38;5;241m=\u001b[39m dtype\u001b[38;5;241m.\u001b[39mnumpy_dtype\n\u001b[0;32m    237\u001b[0m \u001b[38;5;28;01mtry\u001b[39;00m:\n\u001b[1;32m--> 238\u001b[0m     new_values \u001b[38;5;241m=\u001b[39m astype_array(values, dtype, copy\u001b[38;5;241m=\u001b[39mcopy)\n\u001b[0;32m    239\u001b[0m \u001b[38;5;28;01mexcept\u001b[39;00m (\u001b[38;5;167;01mValueError\u001b[39;00m, \u001b[38;5;167;01mTypeError\u001b[39;00m):\n\u001b[0;32m    240\u001b[0m     \u001b[38;5;66;03m# e.g. _astype_nansafe can fail on object-dtype of strings\u001b[39;00m\n\u001b[0;32m    241\u001b[0m     \u001b[38;5;66;03m#  trying to convert to float\u001b[39;00m\n\u001b[0;32m    242\u001b[0m     \u001b[38;5;28;01mif\u001b[39;00m errors \u001b[38;5;241m==\u001b[39m \u001b[38;5;124m\"\u001b[39m\u001b[38;5;124mignore\u001b[39m\u001b[38;5;124m\"\u001b[39m:\n",
      "File \u001b[1;32m~\\anaconda3\\Lib\\site-packages\\pandas\\core\\dtypes\\astype.py:183\u001b[0m, in \u001b[0;36mastype_array\u001b[1;34m(values, dtype, copy)\u001b[0m\n\u001b[0;32m    180\u001b[0m     values \u001b[38;5;241m=\u001b[39m values\u001b[38;5;241m.\u001b[39mastype(dtype, copy\u001b[38;5;241m=\u001b[39mcopy)\n\u001b[0;32m    182\u001b[0m \u001b[38;5;28;01melse\u001b[39;00m:\n\u001b[1;32m--> 183\u001b[0m     values \u001b[38;5;241m=\u001b[39m _astype_nansafe(values, dtype, copy\u001b[38;5;241m=\u001b[39mcopy)\n\u001b[0;32m    185\u001b[0m \u001b[38;5;66;03m# in pandas we don't store numpy str dtypes, so convert to object\u001b[39;00m\n\u001b[0;32m    186\u001b[0m \u001b[38;5;28;01mif\u001b[39;00m \u001b[38;5;28misinstance\u001b[39m(dtype, np\u001b[38;5;241m.\u001b[39mdtype) \u001b[38;5;129;01mand\u001b[39;00m \u001b[38;5;28missubclass\u001b[39m(values\u001b[38;5;241m.\u001b[39mdtype\u001b[38;5;241m.\u001b[39mtype, \u001b[38;5;28mstr\u001b[39m):\n",
      "File \u001b[1;32m~\\anaconda3\\Lib\\site-packages\\pandas\\core\\dtypes\\astype.py:134\u001b[0m, in \u001b[0;36m_astype_nansafe\u001b[1;34m(arr, dtype, copy, skipna)\u001b[0m\n\u001b[0;32m    130\u001b[0m     \u001b[38;5;28;01mraise\u001b[39;00m \u001b[38;5;167;01mValueError\u001b[39;00m(msg)\n\u001b[0;32m    132\u001b[0m \u001b[38;5;28;01mif\u001b[39;00m copy \u001b[38;5;129;01mor\u001b[39;00m arr\u001b[38;5;241m.\u001b[39mdtype \u001b[38;5;241m==\u001b[39m \u001b[38;5;28mobject\u001b[39m \u001b[38;5;129;01mor\u001b[39;00m dtype \u001b[38;5;241m==\u001b[39m \u001b[38;5;28mobject\u001b[39m:\n\u001b[0;32m    133\u001b[0m     \u001b[38;5;66;03m# Explicit copy, or required since NumPy can't view from / to object.\u001b[39;00m\n\u001b[1;32m--> 134\u001b[0m     \u001b[38;5;28;01mreturn\u001b[39;00m arr\u001b[38;5;241m.\u001b[39mastype(dtype, copy\u001b[38;5;241m=\u001b[39m\u001b[38;5;28;01mTrue\u001b[39;00m)\n\u001b[0;32m    136\u001b[0m \u001b[38;5;28;01mreturn\u001b[39;00m arr\u001b[38;5;241m.\u001b[39mastype(dtype, copy\u001b[38;5;241m=\u001b[39mcopy)\n",
      "\u001b[1;31mValueError\u001b[0m: could not convert string to float: '84.274.754'"
     ]
    }
   ],
   "source": [
    "# We create our correlation dataset\n",
    "correlation_columns_1 = [\n",
    "     'youtube_views', \n",
    "     'youtube_likes']\n",
    "correlation_data_1 = songs_data[correlation_columns_1]\n",
    "\n",
    "# Clear any row with NAN\n",
    "cleaned_data_youtube = correlation_data_1.dropna()\n",
    "\n",
    "cleaned_data_youtube = cleaned_data_youtube.replace(\",\", \".\", regex=True)\n",
    "cleaned_data_youtube.youtube_views.astype(float)\n",
    "cleaned_data_youtube.youtube_likes.astype(float)\n",
    "\n",
    "correlation_matrix_1 = cleaned_data_youtube.corr()\n",
    "\n",
    "correlation_methods = ['pearson', 'spearman', 'kendall']\n",
    "\n",
    "for method in correlation_methods:\n",
    "    corr_matrix = correlation_matrix_1.corr(method=method)\n",
    "    \n",
    "    # Plotting the correlation matrix\n",
    "    plt.figure(figsize=(8, 6))\n",
    "    sns.heatmap(corr_matrix, annot=True, cmap='coolwarm', center=0)\n",
    "    plt.title(f'{method.capitalize()} Correlation Matrix')\n",
    "    plt.show()"
   ]
  },
  {
   "cell_type": "markdown",
   "id": "7fc028b8-362f-4d5e-9958-72ed876f83fc",
   "metadata": {},
   "source": [
    "### Problem 8. TikTok stuff (2 points)\n",
    "The most popular songs on TikTok released every year show... interesting behavior. Which years peaked the most TikTok views? Show an appropriate chart. Can you explain this behavior? For a bit of context, TikTok was created in 2016.\n",
    "\n",
    "Now, how much popular is the most popular song for each release year, than the mean popularity? Analyze the results.\n",
    "\n",
    "In both parts, it would be helpful to see the actual songs."
   ]
  },
  {
   "cell_type": "code",
   "execution_count": null,
   "id": "3ecec32f-7ddb-449d-9b69-8157705cc319",
   "metadata": {},
   "outputs": [],
   "source": []
  },
  {
   "cell_type": "markdown",
   "id": "d6d06ba6-54fe-4514-b9f3-50b5ac541b50",
   "metadata": {},
   "source": [
    "### * Problem 9. Explore (and clean) at will\n",
    "There is a lot to look for here. For example, you can easily link a song to its genres, and lyrics. You may also try to link artists and albums to more info about them. Or you can compare and contrast a song's performance across different platforms, in a similar manner to what you already did above; maybe even assign a better song ranking system (across platforms with different popularity metrics, and different requirements) than the one provided in the dataset."
   ]
  },
  {
   "cell_type": "code",
   "execution_count": null,
   "id": "844a9811-c034-4bcf-96c4-8b69f743a330",
   "metadata": {},
   "outputs": [],
   "source": []
  }
 ],
 "metadata": {
  "kernelspec": {
   "display_name": "Python 3 (ipykernel)",
   "language": "python",
   "name": "python3"
  },
  "language_info": {
   "codemirror_mode": {
    "name": "ipython",
    "version": 3
   },
   "file_extension": ".py",
   "mimetype": "text/x-python",
   "name": "python",
   "nbconvert_exporter": "python",
   "pygments_lexer": "ipython3",
   "version": "3.11.7"
  }
 },
 "nbformat": 4,
 "nbformat_minor": 5
}
