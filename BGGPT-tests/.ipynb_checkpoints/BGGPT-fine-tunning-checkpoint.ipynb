{
 "cells": [
  {
   "cell_type": "code",
   "execution_count": 1,
   "id": "17991a1b",
   "metadata": {},
   "outputs": [],
   "source": [
    "from transformers import AutoTokenizer, AutoModelForSequenceClassification, Trainer, TrainingArguments\n",
    "from datasets import load_dataset"
   ]
  },
  {
   "cell_type": "code",
   "execution_count": null,
   "id": "eb55b999",
   "metadata": {},
   "outputs": [],
   "source": [
    "# Зареждане на токенизатора и модела\n",
    "tokenizer = AutoTokenizer.from_pretrained(\"INSAIT/bgGPT\")\n",
    "model = AutoModelForSequenceClassification.from_pretrained(\"INSAIT/bgGPT\", num_labels=2)"
   ]
  },
  {
   "cell_type": "code",
   "execution_count": null,
   "id": "97e905e3",
   "metadata": {},
   "outputs": [],
   "source": [
    "# Зареждане на данни за тренировка и тест\n",
    "train_dataset = load_dataset('csv', data_files={'train': 'path/to/train.csv'})\n",
    "test_dataset = load_dataset('csv', data_files={'test': 'path/to/test.csv'})"
   ]
  },
  {
   "cell_type": "code",
   "execution_count": null,
   "id": "942448ea",
   "metadata": {},
   "outputs": [],
   "source": [
    "# Токенизиране на данните\n",
    "def tokenize_function(examples):\n",
    "    return tokenizer(examples['text'], padding='max_length', truncation=True)"
   ]
  },
  {
   "cell_type": "code",
   "execution_count": null,
   "id": "351d3394",
   "metadata": {},
   "outputs": [],
   "source": [
    "tokenized_datasets = train_dataset.map(tokenize_function, batched=True)\n",
    "tokenized_test_dataset = test_dataset.map(tokenize_function, batched=True)\n"
   ]
  },
  {
   "cell_type": "code",
   "execution_count": null,
   "id": "b737eb81",
   "metadata": {},
   "outputs": [],
   "source": [
    "# Конфигурация за тренировка\n",
    "training_args = TrainingArguments(\n",
    "    output_dir='./results',          # Директория за запазване на резултатите\n",
    "    evaluation_strategy=\"epoch\",     # Оценка на всяка епоха\n",
    "    learning_rate=2e-5,             # Скорост на обучение\n",
    "    per_device_train_batch_size=8,   # Размер на партидата за тренировка\n",
    "    per_device_eval_batch_size=8,    # Размер на партидата за оценка\n",
    "    num_train_epochs=3,              # Брой епохи за тренировка\n",
    "    weight_decay=0.01,               # Коефициент на регуляризация\n",
    ")"
   ]
  },
  {
   "cell_type": "code",
   "execution_count": null,
   "id": "fd31f0a0",
   "metadata": {},
   "outputs": [],
   "source": [
    "# Инициализация на треньора\n",
    "trainer = Trainer(\n",
    "    model=model,                         # Моделът за тренировка\n",
    "    args=training_args,                  # Аргументите за тренировка\n",
    "    train_dataset=tokenized_datasets[\"train\"], # Тренировъчният набор\n",
    "    eval_dataset=tokenized_test_dataset[\"test\"], # Тестовият набор\n",
    ")\n"
   ]
  },
  {
   "cell_type": "code",
   "execution_count": null,
   "id": "a6fbdacc",
   "metadata": {},
   "outputs": [],
   "source": [
    "# Стартиране на тренировката\n",
    "trainer.train()"
   ]
  },
  {
   "cell_type": "code",
   "execution_count": null,
   "id": "c4a36afe",
   "metadata": {},
   "outputs": [],
   "source": [
    "# Запазване на финалния модел\n",
    "trainer.save_model('./finetuned_model')"
   ]
  }
 ],
 "metadata": {
  "kernelspec": {
   "display_name": "Python 3 (ipykernel)",
   "language": "python",
   "name": "python3"
  },
  "language_info": {
   "codemirror_mode": {
    "name": "ipython",
    "version": 3
   },
   "file_extension": ".py",
   "mimetype": "text/x-python",
   "name": "python",
   "nbconvert_exporter": "python",
   "pygments_lexer": "ipython3",
   "version": "3.11.7"
  }
 },
 "nbformat": 4,
 "nbformat_minor": 5
}
