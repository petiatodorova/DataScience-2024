{
 "cells": [
  {
   "cell_type": "code",
   "execution_count": 1,
   "id": "258ae304",
   "metadata": {},
   "outputs": [],
   "source": [
    "import requests\n",
    "from PyPDF2 import PdfReader"
   ]
  },
  {
   "cell_type": "code",
   "execution_count": 2,
   "id": "5f9b5950",
   "metadata": {},
   "outputs": [],
   "source": [
    "# Step 1: Download the PDF from the Internet\n",
    "def download_pdf(url, output_pdf):\n",
    "    response = requests.get(url)\n",
    "    if response.status_code == 200:\n",
    "        with open(output_pdf, \"wb\") as file:\n",
    "            file.write(response.content)\n",
    "        print(f\"PDF downloaded and saved as '{output_pdf}'\")\n",
    "        return output_pdf\n",
    "    else:\n",
    "        print(f\"Failed to download PDF. Status code: {response.status_code}\")\n",
    "        return None\n"
   ]
  },
  {
   "cell_type": "code",
   "execution_count": 3,
   "id": "b5d9e56a",
   "metadata": {},
   "outputs": [],
   "source": [
    "# Step 2: Extract Text from the PDF\n",
    "def extract_text_from_pdf(pdf_path, output_txt):\n",
    "    reader = PdfReader(pdf_path)\n",
    "    with open(output_txt, \"w\", encoding=\"utf-8\") as file:\n",
    "        for page in reader.pages:\n",
    "            text = page.extract_text()\n",
    "            file.write(text + \"\\n\")\n",
    "    print(f\"Text extracted and saved to '{output_txt}'\")"
   ]
  },
  {
   "cell_type": "code",
   "execution_count": 4,
   "id": "027abcd6",
   "metadata": {},
   "outputs": [],
   "source": [
    "# Main Function\n",
    "def main():\n",
    "    pdf_url = \"https://www.vistajet.com/globalassets/documents/jettravelerreport.pdf\"  # Replace with the URL of the PDF\n",
    "    output_pdf = \"pypdf2_downloaded_file.pdf\"\n",
    "    output_txt = \"pypdf2.txt\"\n",
    "    \n",
    "    # Download and process the PDF\n",
    "    pdf_path = download_pdf(pdf_url, output_pdf)\n",
    "    if pdf_path:\n",
    "        extract_text_from_pdf(pdf_path, output_txt)"
   ]
  },
  {
   "cell_type": "code",
   "execution_count": 5,
   "id": "1964a768",
   "metadata": {},
   "outputs": [
    {
     "name": "stdout",
     "output_type": "stream",
     "text": [
      "PDF downloaded and saved as 'pypdf2_downloaded_file.pdf'\n",
      "Text extracted and saved to 'pypdf2.txt'\n"
     ]
    }
   ],
   "source": [
    "# Run the script\n",
    "if __name__ == \"__main__\":\n",
    "    main()"
   ]
  }
 ],
 "metadata": {
  "kernelspec": {
   "display_name": "Python 3 (ipykernel)",
   "language": "python",
   "name": "python3"
  },
  "language_info": {
   "codemirror_mode": {
    "name": "ipython",
    "version": 3
   },
   "file_extension": ".py",
   "mimetype": "text/x-python",
   "name": "python",
   "nbconvert_exporter": "python",
   "pygments_lexer": "ipython3",
   "version": "3.11.7"
  }
 },
 "nbformat": 4,
 "nbformat_minor": 5
}
