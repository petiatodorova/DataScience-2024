{
 "cells": [
  {
   "cell_type": "code",
   "execution_count": null,
   "id": "078d90d4-aec6-40fe-997f-ce63c962d936",
   "metadata": {
    "tags": []
   },
   "outputs": [],
   "source": [
    "%matplotlib inline\n",
    "import numpy as np\n",
    "import pandas as pd\n",
    "import matplotlib.pyplot as plt\n",
    "from bs4 import BeautifulSoup as bs\n",
    "import re\n",
    "from dateutil.parser import parse\n",
    "from datetime import datetime\n",
    "import pycountry_convert as pc"
   ]
  },
  {
   "cell_type": "markdown",
   "id": "02aa71be-5d01-4efc-85fa-a019fe92a39a",
   "metadata": {},
   "source": [
    "# Data Tidying and Cleaning Lab\n",
    "## Reading, tidying and cleaning data. Preparing data for exploration, mining, analysis and learning"
   ]
  },
  {
   "cell_type": "markdown",
   "id": "259927d3-4ad5-471e-b34b-114f07127a39",
   "metadata": {},
   "source": [
    "In this lab, you'll be working with the Coffee Quality Index dataset, located [here](https://www.kaggle.com/datasets/volpatto/coffee-quality-database-from-cqi). For convenience (and to save trouble in case you can't download files, or someone uploads a newer version), I've provided the dataset in the `data/` folder. The metadata (description) is at the Kaggle link. For this lab, you'll only need `merged_data_cleaned.csv`, as it is the concatenation of the other two datasets.\n",
    "\n",
    "In this (and the following labs), you'll get several questions and problems. Do your analysis, describe it, use any tools and plots you wish, and answer. You can create any amount of cells you'd like.\n",
    "\n",
    "Sometimes, the answers will not be unique, and they will depend on how you decide to approach and solve the problem. This is usual - we're doing science after all!\n",
    "\n",
    "It's a good idea to save your clean dataset after all the work you've done to it."
   ]
  },
  {
   "cell_type": "markdown",
   "id": "4450ac8e-523c-46f8-a410-9ad5af4cfc14",
   "metadata": {},
   "source": [
    "### Problem 1. Read the dataset (1 point)\n",
    "This should be self-explanatory. The first column is the index."
   ]
  },
  {
   "cell_type": "code",
   "execution_count": null,
   "id": "df50bd71-ea2a-4db9-814d-c49f782ca101",
   "metadata": {},
   "outputs": [],
   "source": [
    "coffee_data = pd.read_csv(\"data/merged_data_cleaned.csv\")"
   ]
  },
  {
   "cell_type": "code",
   "execution_count": null,
   "id": "72e160d9",
   "metadata": {},
   "outputs": [],
   "source": [
    "coffee_data"
   ]
  },
  {
   "cell_type": "markdown",
   "id": "b278e2a8-56b4-4b1a-ad71-e7b920321e37",
   "metadata": {},
   "source": [
    "### Problem 2. Observations and features (1 point)\n",
    "How many observations are there? How many features? Which features are numerical, and which are categorical?\n",
    "\n",
    "**Note:** Think about the _meaning_, not the data types. The dataset hasn't been thoroughly cleaned."
   ]
  },
  {
   "cell_type": "code",
   "execution_count": null,
   "id": "e7d17c46-5475-4c33-9c35-b7cf56ac41c3",
   "metadata": {},
   "outputs": [],
   "source": [
    "coffee_data.columns"
   ]
  },
  {
   "cell_type": "code",
   "execution_count": null,
   "id": "884f3ce4",
   "metadata": {},
   "outputs": [],
   "source": [
    "coffee_data.dtypes"
   ]
  },
  {
   "cell_type": "code",
   "execution_count": null,
   "id": "886b11c4",
   "metadata": {},
   "outputs": [],
   "source": [
    "coffee_data[\"Altitude\"].unique()"
   ]
  },
  {
   "cell_type": "code",
   "execution_count": null,
   "id": "c6b90194",
   "metadata": {},
   "outputs": [],
   "source": [
    "coffee_data.Altitude.unique()"
   ]
  },
  {
   "cell_type": "code",
   "execution_count": null,
   "id": "cc36aac6",
   "metadata": {},
   "outputs": [],
   "source": [
    "coffee_data.Flavor"
   ]
  },
  {
   "cell_type": "code",
   "execution_count": null,
   "id": "f2c0e175",
   "metadata": {},
   "outputs": [],
   "source": [
    "coffee_data.Acidity"
   ]
  },
  {
   "cell_type": "code",
   "execution_count": null,
   "id": "305e695f",
   "metadata": {},
   "outputs": [],
   "source": [
    "plt.plot(coffee_data.Acidity)"
   ]
  },
  {
   "cell_type": "code",
   "execution_count": null,
   "id": "b7c4f597",
   "metadata": {},
   "outputs": [],
   "source": [
    "plt.hist(coffee_data.Flavor)\n",
    "plt.xlim(0, 9)\n",
    "plt.ylim(0, 1200)\n",
    "plt.xticks(range(11))\n",
    "plt.show()"
   ]
  },
  {
   "cell_type": "markdown",
   "id": "2b745e68-35eb-4acb-b39f-513137f0ee4b",
   "metadata": {},
   "source": [
    "### Problem 3. Column manipulation (1 point)\n",
    "Make the column names more Pythonic (which helps with the quality and... aesthetics). Convert column names to `snake_case`, i.e. `species`, `country_of_origin`, `ico_number`, etc. Try to not do it manually."
   ]
  },
  {
   "cell_type": "code",
   "execution_count": null,
   "id": "301e9f3f-afd6-4a91-a32f-1974584694ca",
   "metadata": {},
   "outputs": [],
   "source": [
    "coffee_data.columns = (coffee_data.columns\n",
    "                        .str.lower()\n",
    "                        .str.replace('.', '_'))"
   ]
  },
  {
   "cell_type": "code",
   "execution_count": null,
   "id": "727155ba",
   "metadata": {},
   "outputs": [],
   "source": [
    "coffee_data"
   ]
  },
  {
   "cell_type": "markdown",
   "id": "8c53c4c6-6eb9-4c92-bd39-89286fe4c86e",
   "metadata": {},
   "source": [
    "### Problem 4. Bag weight (1 point)\n",
    "What's up with the bag weights? Make all necessary changes to the column values. Don't forget to document your methods and assumptions."
   ]
  },
  {
   "cell_type": "code",
   "execution_count": null,
   "id": "e6fe3bf6",
   "metadata": {},
   "outputs": [],
   "source": [
    "coffee_data.bag_weight"
   ]
  },
  {
   "cell_type": "markdown",
   "id": "cef4ef54",
   "metadata": {},
   "source": [
    "### Let's save our dataset to have a backup"
   ]
  },
  {
   "cell_type": "code",
   "execution_count": null,
   "id": "04b91156",
   "metadata": {},
   "outputs": [],
   "source": [
    "coffee_data_backup = coffee_data"
   ]
  },
  {
   "cell_type": "code",
   "execution_count": null,
   "id": "44d912b2",
   "metadata": {},
   "outputs": [],
   "source": [
    "coffee_data.bag_weight.unique()"
   ]
  },
  {
   "cell_type": "code",
   "execution_count": null,
   "id": "c277f0af",
   "metadata": {},
   "outputs": [],
   "source": [
    "coffee_data.bag_weight.describe()"
   ]
  },
  {
   "cell_type": "markdown",
   "id": "681d4e0c",
   "metadata": {},
   "source": [
    "### Let's remove rows with 'kg,lbs', because these are unclear values."
   ]
  },
  {
   "cell_type": "code",
   "execution_count": null,
   "id": "4fe10637",
   "metadata": {},
   "outputs": [],
   "source": [
    "coffee_data = coffee_data[~coffee_data.bag_weight.str.contains('kg,lbs')]"
   ]
  },
  {
   "cell_type": "code",
   "execution_count": null,
   "id": "5c07b6c1",
   "metadata": {},
   "outputs": [],
   "source": [
    "coffee_data.describe()"
   ]
  },
  {
   "cell_type": "code",
   "execution_count": null,
   "id": "656f7e30",
   "metadata": {},
   "outputs": [],
   "source": [
    "coffee_data.bag_weight.unique()"
   ]
  },
  {
   "cell_type": "markdown",
   "id": "6b729ca0",
   "metadata": {},
   "source": []
  },
  {
   "cell_type": "markdown",
   "id": "14897145",
   "metadata": {},
   "source": [
    "### Now let's make 2 new columns - the_bag_weight and bag_weight_measurement."
   ]
  },
  {
   "cell_type": "code",
   "execution_count": null,
   "id": "04eb0a83",
   "metadata": {},
   "outputs": [],
   "source": [
    "coffee_data[\"the_bag_weight\"] = coffee_data.bag_weight.str.slice(0,-3)"
   ]
  },
  {
   "cell_type": "code",
   "execution_count": null,
   "id": "78440ccb",
   "metadata": {},
   "outputs": [],
   "source": [
    "coffee_data.the_bag_weight.unique()"
   ]
  },
  {
   "cell_type": "code",
   "execution_count": null,
   "id": "fb9ea8d8",
   "metadata": {},
   "outputs": [],
   "source": [
    "coffee_data[\"bag_weight_measurement\"] = coffee_data.bag_weight.str.slice(-3)"
   ]
  },
  {
   "cell_type": "code",
   "execution_count": null,
   "id": "99f52cf6",
   "metadata": {},
   "outputs": [],
   "source": [
    "coffee_data.bag_weight_measurement.unique()"
   ]
  },
  {
   "cell_type": "code",
   "execution_count": null,
   "id": "586136b9",
   "metadata": {},
   "outputs": [],
   "source": [
    "coffee_data.describe()"
   ]
  },
  {
   "cell_type": "markdown",
   "id": "8e0fb16c",
   "metadata": {},
   "source": [
    "### We no longer need bag_weight column."
   ]
  },
  {
   "cell_type": "code",
   "execution_count": null,
   "id": "52b8c617",
   "metadata": {},
   "outputs": [],
   "source": [
    "coffee_data = coffee_data.drop(columns=[\"bag_weight\"])"
   ]
  },
  {
   "cell_type": "code",
   "execution_count": null,
   "id": "fc6311ee",
   "metadata": {},
   "outputs": [],
   "source": [
    "coffee_data.columns"
   ]
  },
  {
   "cell_type": "markdown",
   "id": "dccd35bb",
   "metadata": {},
   "source": [
    "### Let's clear the_bag_weight of empty spaces"
   ]
  },
  {
   "cell_type": "code",
   "execution_count": null,
   "id": "385875f7",
   "metadata": {},
   "outputs": [],
   "source": [
    "coffee_data.the_bag_weight = coffee_data.the_bag_weight.str.strip()"
   ]
  },
  {
   "cell_type": "code",
   "execution_count": null,
   "id": "1dac890f",
   "metadata": {},
   "outputs": [],
   "source": [
    "coffee_data.the_bag_weight.unique()"
   ]
  },
  {
   "cell_type": "code",
   "execution_count": null,
   "id": "a5e86a0b",
   "metadata": {},
   "outputs": [],
   "source": [
    "coffee_data.describe()"
   ]
  },
  {
   "cell_type": "markdown",
   "id": "520b8e4a",
   "metadata": {},
   "source": [
    "### Let's clean rows with 1, 2, 6 because we don't know 1, 2, 6 kg or lbs is this"
   ]
  },
  {
   "cell_type": "code",
   "execution_count": null,
   "id": "c3e1e0b3",
   "metadata": {},
   "outputs": [],
   "source": [
    "coffee_data.bag_weight_measurement.unique()"
   ]
  },
  {
   "cell_type": "code",
   "execution_count": null,
   "id": "ba90c709",
   "metadata": {},
   "outputs": [],
   "source": [
    "coffee_data = coffee_data[~coffee_data.bag_weight_measurement.str.contains('1')]"
   ]
  },
  {
   "cell_type": "code",
   "execution_count": null,
   "id": "096e5735",
   "metadata": {},
   "outputs": [],
   "source": [
    "coffee_data = coffee_data[~coffee_data.bag_weight_measurement.str.contains('2')]"
   ]
  },
  {
   "cell_type": "code",
   "execution_count": null,
   "id": "b66012ad",
   "metadata": {},
   "outputs": [],
   "source": [
    "coffee_data = coffee_data[~coffee_data.bag_weight_measurement.str.contains('6')]"
   ]
  },
  {
   "cell_type": "code",
   "execution_count": null,
   "id": "5c221721",
   "metadata": {},
   "outputs": [],
   "source": [
    "coffee_data.describe()"
   ]
  },
  {
   "cell_type": "code",
   "execution_count": null,
   "id": "4f2346d8",
   "metadata": {},
   "outputs": [],
   "source": [
    "coffee_data.bag_weight_measurement.unique()"
   ]
  },
  {
   "cell_type": "code",
   "execution_count": null,
   "id": "b5a86e6c",
   "metadata": {},
   "outputs": [],
   "source": [
    "coffee_data.shape"
   ]
  },
  {
   "cell_type": "markdown",
   "id": "84673f1d",
   "metadata": {},
   "source": [
    "## Additionally we could convert lbs values to kg and round them to 2 digits"
   ]
  },
  {
   "cell_type": "code",
   "execution_count": null,
   "id": "3c2a9574",
   "metadata": {},
   "outputs": [],
   "source": [
    "def convert_lbs_to_kg(lbs_value):\n",
    "    return round((lbs_value * 0.45359237), 2)"
   ]
  },
  {
   "cell_type": "code",
   "execution_count": null,
   "id": "01d82ad1",
   "metadata": {},
   "outputs": [],
   "source": [
    "coffee_data[coffee_data.bag_weight_measurement == 'lbs'].the_bag_weight.unique()"
   ]
  },
  {
   "cell_type": "code",
   "execution_count": null,
   "id": "3bb0bf5a",
   "metadata": {},
   "outputs": [],
   "source": [
    "coffee_data.the_bag_weight.unique()"
   ]
  },
  {
   "cell_type": "code",
   "execution_count": null,
   "id": "c719482f",
   "metadata": {},
   "outputs": [],
   "source": [
    "coffee_data[\"the_bag_weight\"] = coffee_data[\"the_bag_weight\"].astype(float)"
   ]
  },
  {
   "cell_type": "code",
   "execution_count": null,
   "id": "1d6275ef",
   "metadata": {
    "scrolled": true
   },
   "outputs": [],
   "source": [
    "coffee_data.the_bag_weight = coffee_data.apply(\n",
    "    lambda x: convert_lbs_to_kg(x[\"the_bag_weight\"]) \n",
    "    if (x[\"bag_weight_measurement\"] == 'lbs') \n",
    "    else x[\"the_bag_weight\"], axis = 1)"
   ]
  },
  {
   "cell_type": "code",
   "execution_count": null,
   "id": "7b3c2707",
   "metadata": {},
   "outputs": [],
   "source": [
    "coffee_data[coffee_data.bag_weight_measurement == 'lbs'].the_bag_weight.unique()"
   ]
  },
  {
   "cell_type": "markdown",
   "id": "92b856a7",
   "metadata": {},
   "source": [
    "### And now we should replace all lbs values with kg in bag_weight_measurement"
   ]
  },
  {
   "cell_type": "code",
   "execution_count": null,
   "id": "4cbf43b4",
   "metadata": {},
   "outputs": [],
   "source": [
    "coffee_data.bag_weight_measurement.unique()"
   ]
  },
  {
   "cell_type": "code",
   "execution_count": null,
   "id": "c2ab97e9",
   "metadata": {},
   "outputs": [],
   "source": [
    "coffee_data.loc[\n",
    "    coffee_data.bag_weight_measurement == \"lbs\", \"bag_weight_measurement\"\n",
    "    ] = 'kg'"
   ]
  },
  {
   "cell_type": "code",
   "execution_count": null,
   "id": "908ed9ca",
   "metadata": {},
   "outputs": [],
   "source": [
    "coffee_data.bag_weight_measurement.unique()"
   ]
  },
  {
   "cell_type": "markdown",
   "id": "d9b94aea",
   "metadata": {},
   "source": [
    "### Let's clean space in kg"
   ]
  },
  {
   "cell_type": "code",
   "execution_count": null,
   "id": "2a85632b",
   "metadata": {},
   "outputs": [],
   "source": [
    "coffee_data.bag_weight_measurement = coffee_data.bag_weight_measurement.str.strip()"
   ]
  },
  {
   "cell_type": "code",
   "execution_count": null,
   "id": "ce2705ac",
   "metadata": {},
   "outputs": [],
   "source": [
    "coffee_data.bag_weight_measurement.unique()"
   ]
  },
  {
   "cell_type": "markdown",
   "id": "8617b44b",
   "metadata": {},
   "source": [
    "### Now we can rename the the_bag_weight column to the_bag_weight_in_kg and remove bag_weight_measurement column."
   ]
  },
  {
   "cell_type": "code",
   "execution_count": null,
   "id": "9f08da4f",
   "metadata": {},
   "outputs": [],
   "source": [
    "coffee_data.rename(columns={\"the_bag_weight\" : \"the_bag_weight_in_kg\"}, inplace=True)"
   ]
  },
  {
   "cell_type": "code",
   "execution_count": null,
   "id": "fcef11f4",
   "metadata": {},
   "outputs": [],
   "source": [
    "coffee_data.columns"
   ]
  },
  {
   "cell_type": "code",
   "execution_count": null,
   "id": "d732e392",
   "metadata": {},
   "outputs": [],
   "source": [
    "coffee_data"
   ]
  },
  {
   "cell_type": "code",
   "execution_count": null,
   "id": "18733d31",
   "metadata": {},
   "outputs": [],
   "source": [
    "coffee_data = coffee_data.drop(columns=[\"bag_weight_measurement\"])"
   ]
  },
  {
   "cell_type": "code",
   "execution_count": null,
   "id": "791861b5",
   "metadata": {},
   "outputs": [],
   "source": [
    "coffee_data.columns"
   ]
  },
  {
   "cell_type": "code",
   "execution_count": null,
   "id": "43bbee34",
   "metadata": {},
   "outputs": [],
   "source": [
    "coffee_data"
   ]
  },
  {
   "cell_type": "markdown",
   "id": "2ff1f817-8e5e-4185-a320-dde7ed2cada1",
   "metadata": {},
   "source": [
    "### Problem 5. Dates (1 point)\n",
    "This should remind you of problem 4 but it's slightly nastier. Fix the harvest years, document the process.\n",
    "\n",
    "While you're here, fix the expiration dates, and grading dates. Unlike the other column, these should be dates (`pd.to_datetime()` is your friend)."
   ]
  },
  {
   "cell_type": "markdown",
   "id": "4f5de0ea",
   "metadata": {},
   "source": [
    "### First we run unique() on the expiration and grading_date columns to find out what kind of data we have in them."
   ]
  },
  {
   "cell_type": "code",
   "execution_count": null,
   "id": "72f54aa7",
   "metadata": {},
   "outputs": [],
   "source": [
    "coffee_data.expiration.unique()"
   ]
  },
  {
   "cell_type": "code",
   "execution_count": null,
   "id": "7da16143",
   "metadata": {},
   "outputs": [],
   "source": [
    "coffee_data.grading_date.unique()"
   ]
  },
  {
   "cell_type": "code",
   "execution_count": null,
   "id": "b18de10d",
   "metadata": {},
   "outputs": [],
   "source": [
    "# def string_to_date(date_string):\n",
    " #   return datetime.strptime(date_string, \"%m-%d-%Y\")"
   ]
  },
  {
   "cell_type": "code",
   "execution_count": null,
   "id": "c4cb428b",
   "metadata": {},
   "outputs": [],
   "source": [
    "# from dateutil.parser import parse\n",
    "# date = parse('June 21st, 2013')\n",
    "# print(date)"
   ]
  },
  {
   "cell_type": "markdown",
   "id": "3a6fe55c",
   "metadata": {},
   "source": [
    "### All our data in expiration and in grading_date columns are in format 'February 26th, 2013' - 'month_name ordered_date_number, year'. \n",
    "That's why we'll use library dateutil. The dateutil module in Python is a powerful utility for parsing and manipulating dates. When working with pandas, dateutil is automatically leveraged within the pd.to_datetime() function for parsing dates. Pandas uses the parser from the dateutil module, which can intelligently parse a wide variety of date formats.\n",
    "### We define simple function which converts date_string into date."
   ]
  },
  {
   "cell_type": "code",
   "execution_count": null,
   "id": "c528298a",
   "metadata": {},
   "outputs": [],
   "source": [
    "def string_to_date(date_string):\n",
    "    return parse(date_string)"
   ]
  },
  {
   "cell_type": "markdown",
   "id": "672e2434",
   "metadata": {},
   "source": [
    "### We'll apply our function on expiration and grading_date."
   ]
  },
  {
   "cell_type": "code",
   "execution_count": null,
   "id": "0eda04c3",
   "metadata": {},
   "outputs": [],
   "source": [
    "coffee_data.expiration = coffee_data.expiration.apply(string_to_date)\n",
    "coffee_data.grading_date = coffee_data.grading_date.apply(string_to_date)"
   ]
  },
  {
   "cell_type": "markdown",
   "id": "dd069b92",
   "metadata": {},
   "source": [
    "### Now we'll check the data in expiration and grading_date columns using unique()."
   ]
  },
  {
   "cell_type": "code",
   "execution_count": null,
   "id": "b8c0b811",
   "metadata": {},
   "outputs": [],
   "source": [
    "coffee_data.expiration.unique()"
   ]
  },
  {
   "cell_type": "code",
   "execution_count": null,
   "id": "f4555d7c",
   "metadata": {},
   "outputs": [],
   "source": [
    "coffee_data.grading_date.unique()"
   ]
  },
  {
   "cell_type": "markdown",
   "id": "c8cdfab2",
   "metadata": {},
   "source": [
    "### Let's take a look on harvest_year column."
   ]
  },
  {
   "cell_type": "code",
   "execution_count": null,
   "id": "814dc5f9-9572-44f0-bff6-8efeb084f93d",
   "metadata": {},
   "outputs": [],
   "source": [
    "coffee_data.harvest_year.unique()"
   ]
  },
  {
   "cell_type": "code",
   "execution_count": null,
   "id": "04b5fece",
   "metadata": {},
   "outputs": [],
   "source": [
    "coffee_data"
   ]
  },
  {
   "cell_type": "markdown",
   "id": "7508ea2e",
   "metadata": {},
   "source": [
    "### Let's clean nan"
   ]
  },
  {
   "cell_type": "code",
   "execution_count": null,
   "id": "57f25a6c",
   "metadata": {},
   "outputs": [],
   "source": [
    "coffee_data.dropna(subset=['harvest_year'], inplace=True)"
   ]
  },
  {
   "cell_type": "code",
   "execution_count": null,
   "id": "8db63cc3",
   "metadata": {},
   "outputs": [],
   "source": [
    "nan_count = coffee_data['harvest_year'].isna().sum()\n",
    "print (f\"NAN count is {nan_count}\")"
   ]
  },
  {
   "cell_type": "code",
   "execution_count": null,
   "id": "1f786cea",
   "metadata": {},
   "outputs": [],
   "source": [
    "coffee_data['harvest_year'].count()"
   ]
  },
  {
   "cell_type": "markdown",
   "id": "611d13a6",
   "metadata": {},
   "source": [
    "### There are many dummy values. Valid data will only be a 4-digit year. Let's first see how many rows we have with a valid harvest_year. Can we purge them from our dataset?"
   ]
  },
  {
   "cell_type": "code",
   "execution_count": null,
   "id": "46753cca",
   "metadata": {},
   "outputs": [],
   "source": [
    "count_all = coffee_data['harvest_year'].count()\n",
    "print(f\"All rows are {count_all}.\")"
   ]
  },
  {
   "cell_type": "code",
   "execution_count": null,
   "id": "cdf09fbb",
   "metadata": {
    "scrolled": true
   },
   "outputs": [],
   "source": [
    "coffee_data['harvest_year'].unique()"
   ]
  },
  {
   "cell_type": "code",
   "execution_count": null,
   "id": "7a702188",
   "metadata": {},
   "outputs": [],
   "source": [
    "# let's replace any symbol \"/\", \" \", \"-\" with an empty string.\n",
    "# coffee_data['harvest_year'] = coffee_data['harvest_year'].str.replace(r'[-\\/ ]', \"\", regex=True)"
   ]
  },
  {
   "cell_type": "markdown",
   "id": "66ef30ab",
   "metadata": {},
   "source": [
    "### Let's count the percent of rows which contain dummy harvest_year."
   ]
  },
  {
   "cell_type": "markdown",
   "id": "2adb89ac",
   "metadata": {},
   "source": [
    "### Valid values are 4 digit year. Let's filter by them."
   ]
  },
  {
   "cell_type": "code",
   "execution_count": null,
   "id": "2a06ca7d",
   "metadata": {},
   "outputs": [],
   "source": [
    "pattern = r'^\\d{4}$'\n",
    "coffee_data_tidy = coffee_data[(coffee_data['harvest_year'].astype(str).str.match(pattern))]"
   ]
  },
  {
   "cell_type": "code",
   "execution_count": null,
   "id": "3fe040bf",
   "metadata": {},
   "outputs": [],
   "source": [
    "count_tidy = coffee_data_tidy.harvest_year.count()\n",
    "count_messy = coffee_data.harvest_year.count()\n",
    "percent = (count_tidy * 100 /count_messy)\n",
    "print(f\"Percent of rows with valid harvest year is {round(percent, 2)}\")"
   ]
  },
  {
   "cell_type": "markdown",
   "id": "404f17a4",
   "metadata": {},
   "source": [
    "### We have quite high percent of tidy data. That's why we'll remove these dummy data."
   ]
  },
  {
   "cell_type": "code",
   "execution_count": null,
   "id": "7f6418ff",
   "metadata": {},
   "outputs": [],
   "source": [
    "coffee_data = coffee_data_tidy"
   ]
  },
  {
   "cell_type": "code",
   "execution_count": null,
   "id": "28e747b6",
   "metadata": {},
   "outputs": [],
   "source": [
    "coffee_data['harvest_year'].unique()"
   ]
  },
  {
   "cell_type": "markdown",
   "id": "7918f6bd",
   "metadata": {},
   "source": [
    "### Let's reset the index after the transformation."
   ]
  },
  {
   "cell_type": "code",
   "execution_count": null,
   "id": "7dd2b3b4",
   "metadata": {},
   "outputs": [],
   "source": [
    "coffee_data = coffee_data.reset_index(drop=True)"
   ]
  },
  {
   "cell_type": "code",
   "execution_count": null,
   "id": "b7037bc3",
   "metadata": {},
   "outputs": [],
   "source": [
    "coffee_data"
   ]
  },
  {
   "cell_type": "markdown",
   "id": "0dff33b4-c94d-43b3-bab3-97eabb862a37",
   "metadata": {},
   "source": [
    "### Problem 6. Countries (1 point)\n",
    "How many coffees are there with unknown countries of origin? What can you do about them?"
   ]
  },
  {
   "cell_type": "markdown",
   "id": "3ac0969b",
   "metadata": {},
   "source": [
    "### First we analyze the unique values"
   ]
  },
  {
   "cell_type": "code",
   "execution_count": null,
   "id": "0851c1a8-0420-4dba-ac27-487bae4318be",
   "metadata": {},
   "outputs": [],
   "source": [
    "coffee_data.country_of_origin.unique()"
   ]
  },
  {
   "cell_type": "markdown",
   "id": "9c59cc76",
   "metadata": {},
   "source": [
    "### There is a nan value. Let's check how many rows have nan."
   ]
  },
  {
   "cell_type": "code",
   "execution_count": null,
   "id": "236cf9d3",
   "metadata": {},
   "outputs": [],
   "source": [
    "coffee_data.country_of_origin.isna().sum()"
   ]
  },
  {
   "cell_type": "markdown",
   "id": "7e353366",
   "metadata": {},
   "source": [
    "### Only 1 row has value nan for country_of_origin."
   ]
  },
  {
   "cell_type": "markdown",
   "id": "d0aa6f30-4b93-4f23-95e0-2cafb7152c6c",
   "metadata": {},
   "source": [
    "### Problem 7. Owners (1 point)\n",
    "There are two suspicious columns, named `Owner`, and `Owner.1` (they're likely called something different after you solved problem 3). Do something about them. Is there any link to `Producer`?"
   ]
  },
  {
   "cell_type": "code",
   "execution_count": null,
   "id": "39bc1689-33f6-4446-bfc3-c4b4e69eccf6",
   "metadata": {},
   "outputs": [],
   "source": [
    "coffee_data.columns"
   ]
  },
  {
   "cell_type": "code",
   "execution_count": null,
   "id": "dd6c97d1",
   "metadata": {},
   "outputs": [],
   "source": [
    "coffee_data.owner.unique()"
   ]
  },
  {
   "cell_type": "code",
   "execution_count": null,
   "id": "d614c2b1",
   "metadata": {},
   "outputs": [],
   "source": [
    "coffee_data.owner_1.unique()"
   ]
  },
  {
   "cell_type": "code",
   "execution_count": null,
   "id": "42179174",
   "metadata": {},
   "outputs": [],
   "source": [
    "coffee_data['owner'] = coffee_data['owner'].astype(str).str.upper()\n",
    "coffee_data['owner_1'] = coffee_data['owner_1'].astype(str).str.upper()"
   ]
  },
  {
   "cell_type": "code",
   "execution_count": null,
   "id": "72a8bcaa",
   "metadata": {},
   "outputs": [],
   "source": [
    "coffee_data['owner'].unique()"
   ]
  },
  {
   "cell_type": "code",
   "execution_count": null,
   "id": "050b39f8",
   "metadata": {},
   "outputs": [],
   "source": [
    "coffee_data['owner_1'].unique()"
   ]
  },
  {
   "cell_type": "code",
   "execution_count": null,
   "id": "8d2bfcc1",
   "metadata": {},
   "outputs": [],
   "source": [
    "coffee_data['owner'].count()"
   ]
  },
  {
   "cell_type": "code",
   "execution_count": null,
   "id": "91fecf00",
   "metadata": {},
   "outputs": [],
   "source": [
    "coffee_data['owner_1'].count()"
   ]
  },
  {
   "cell_type": "markdown",
   "id": "9ac49dd3",
   "metadata": {},
   "source": [
    "### Let's find different rows"
   ]
  },
  {
   "cell_type": "code",
   "execution_count": null,
   "id": "45f79b02",
   "metadata": {},
   "outputs": [],
   "source": [
    "def custom_compare(val1, val2):\n",
    "    return val1 == val2\n",
    "\n",
    "coffee_data['Custom_Comparison'] = coffee_data.apply(lambda row: custom_compare(row['owner'], row['owner_1']), axis=1)\n",
    "print(coffee_data[coffee_data['Custom_Comparison'] == False])"
   ]
  },
  {
   "cell_type": "markdown",
   "id": "a58300f6",
   "metadata": {},
   "source": [
    "### Different rows are 177 and 763. Let's analyze owner and owner_1 of these rows."
   ]
  },
  {
   "cell_type": "code",
   "execution_count": null,
   "id": "e11d8b51",
   "metadata": {},
   "outputs": [],
   "source": [
    "print(coffee_data.iloc[177])"
   ]
  },
  {
   "cell_type": "code",
   "execution_count": null,
   "id": "461fd13c",
   "metadata": {},
   "outputs": [],
   "source": [
    "print(coffee_data.iloc[763])"
   ]
  },
  {
   "cell_type": "markdown",
   "id": "f6d65dd5",
   "metadata": {},
   "source": [
    "### They are actually the same. Name in column 'owner' is better written than name in 'owner_1'. That's why we'll drop 'owner_1' and 'Custom_Comparison'."
   ]
  },
  {
   "cell_type": "code",
   "execution_count": null,
   "id": "79ce3ac9",
   "metadata": {},
   "outputs": [],
   "source": [
    "coffee_data.columns"
   ]
  },
  {
   "cell_type": "code",
   "execution_count": null,
   "id": "73287851",
   "metadata": {},
   "outputs": [],
   "source": [
    "coffee_data = coffee_data.drop(columns=[\"owner_1\", \"Custom_Comparison\"])"
   ]
  },
  {
   "cell_type": "code",
   "execution_count": null,
   "id": "f3efa18d",
   "metadata": {},
   "outputs": [],
   "source": [
    "coffee_data.columns"
   ]
  },
  {
   "cell_type": "markdown",
   "id": "893fcb69",
   "metadata": {},
   "source": [
    "### Producer is column producer."
   ]
  },
  {
   "cell_type": "code",
   "execution_count": null,
   "id": "36cbfc17",
   "metadata": {},
   "outputs": [],
   "source": [
    "coffee_data.producer.unique()"
   ]
  },
  {
   "cell_type": "markdown",
   "id": "30c53923-1b72-4500-af0a-47fdca9f57e9",
   "metadata": {},
   "source": [
    "### Problem 8. Coffee color by country and continent (1 point)\n",
    "Create a table which shows how many coffees of each color are there in every country. Leave the missing values as they are.\n",
    "\n",
    "**Note:** If you ask me, countries should be in rows, I prefer long tables much better than wide ones.\n",
    "\n",
    "Now do the same for continents. You know what continent each country is located in."
   ]
  },
  {
   "cell_type": "code",
   "execution_count": null,
   "id": "72cbe6a9-ca71-4826-806d-562bc30b40d2",
   "metadata": {},
   "outputs": [],
   "source": [
    "country_color_count = coffee_data.groupby(['country_of_origin', 'color']).size()"
   ]
  },
  {
   "cell_type": "code",
   "execution_count": null,
   "id": "b4e97ebd",
   "metadata": {},
   "outputs": [],
   "source": [
    "country_color_count"
   ]
  },
  {
   "cell_type": "code",
   "execution_count": null,
   "id": "f0fd083f",
   "metadata": {},
   "outputs": [],
   "source": [
    "coffee_data.country_of_origin.unique()"
   ]
  },
  {
   "cell_type": "code",
   "execution_count": null,
   "id": "aa05e254",
   "metadata": {},
   "outputs": [],
   "source": [
    "def country_to_continent(country_name):\n",
    "    country_alpha2 = pc.country_name_to_country_alpha2(country_name)\n",
    "    country_continent_code = pc.country_alpha2_to_continent_code(country_alpha2)\n",
    "    country_continent_name = pc.convert_continent_code_to_continent_name(country_continent_code)\n",
    "    return country_continent_name\n",
    "\n",
    "country_name = 'India'\n",
    "print(country_to_continent(country_name))"
   ]
  },
  {
   "cell_type": "code",
   "execution_count": null,
   "id": "40543a58",
   "metadata": {},
   "outputs": [],
   "source": [
    "# coffee_data[\"continent\"] = coffee_data[\"country_of_origin\"].apply(country_to_continent)"
   ]
  },
  {
   "cell_type": "code",
   "execution_count": null,
   "id": "48a4b808",
   "metadata": {},
   "outputs": [],
   "source": [
    "data = {\n",
    "    'country_of_origin': ['Ethiopia', 'Brazil', 'Peru', 'United States', 'China',\n",
    "       'Costa Rica', 'Mexico', 'Uganda', 'Honduras', 'Taiwan',\n",
    "       'Tanzania, United Republic Of', 'Kenya', 'United States (Hawaii)',\n",
    "       'Thailand', 'Colombia', 'Guatemala', 'Panama', 'Papua New Guinea',\n",
    "       'El Salvador', 'Indonesia', 'Nicaragua', 'Ecuador',\n",
    "       'United States (Puerto Rico)', 'Haiti', 'Burundi', 'Vietnam',\n",
    "       'Philippines', 'Rwanda', 'Malawi', 'Laos', 'Zambia', 'Myanmar',\n",
    "       'Mauritius', 'Cote d?Ivoire', 'India'],\n",
    "    'continent': ['Africa', 'South America', 'South America', 'North America', 'Asia',\n",
    "       'North America', 'North America', 'Africa', 'North America', 'Asia',\n",
    "       'Africa', 'Africa', 'North America',\n",
    "       'Asia', 'South America', 'North America', 'North America', 'Oceania',\n",
    "       'North America', 'Asia', 'North America', 'South America',\n",
    "       'North America', 'North America', 'Africa', 'Asia',\n",
    "       'Asia', 'Africa', 'Africa', 'Asia', 'Africa', 'Asia',\n",
    "       'Africa', 'Africa', 'Asia']\n",
    "}\n",
    "\n",
    "# Create DataFrame from the dictionary\n",
    "continent_df = pd.DataFrame(data)"
   ]
  },
  {
   "cell_type": "code",
   "execution_count": null,
   "id": "593e8fdd",
   "metadata": {},
   "outputs": [],
   "source": [
    "# Merge the DataFrames\n",
    "merged_df = pd.merge(coffee_data, continent_df, on='country_of_origin')"
   ]
  },
  {
   "cell_type": "code",
   "execution_count": null,
   "id": "60951280",
   "metadata": {},
   "outputs": [],
   "source": [
    "# Display the merged DataFrame\n",
    "print(merged_df)"
   ]
  },
  {
   "cell_type": "code",
   "execution_count": null,
   "id": "29366b1c",
   "metadata": {},
   "outputs": [],
   "source": [
    "continent_color_count = merged_df.groupby(['continent', 'color']).size()\n",
    "continent_color_count"
   ]
  },
  {
   "cell_type": "markdown",
   "id": "27095ced-7179-4ee4-94d3-7d94450b4120",
   "metadata": {},
   "source": [
    "### Problem 9. Ratings (1 point)\n",
    "The columns `Aroma`, `Flavor`, etc., up to `Moisture` represent subjective ratings. Explore them. Show the means and range; draw histograms and / or boxplots as needed. You can even try correlations if you want. What's up with all those ratings?"
   ]
  },
  {
   "cell_type": "code",
   "execution_count": null,
   "id": "d08ee355-dcbb-4657-a814-cdcfbd455c42",
   "metadata": {},
   "outputs": [],
   "source": []
  },
  {
   "cell_type": "markdown",
   "id": "92054218-978d-48c6-b7aa-36226837354c",
   "metadata": {},
   "source": [
    "### Problem 10. High-level errors (1 point)\n",
    "Check the countries against region names, altitudes, and companies. Are there any discrepancies (e.g. human errors, like a region not matching the country)? Take a look at the (cleaned) altitudes; there has been a lot of preprocessing done to them. Was it done correctly?"
   ]
  },
  {
   "cell_type": "code",
   "execution_count": null,
   "id": "a971e5dd-4bb1-4ad6-bcbc-3cceab758f5d",
   "metadata": {},
   "outputs": [],
   "source": []
  },
  {
   "cell_type": "markdown",
   "id": "3c3b5118-9f8e-45c2-a200-1be89fa4b3bf",
   "metadata": {},
   "source": [
    "### * Problem 11. Clean and explore at will\n",
    "The dataset claimed to be clean, but we were able to discover a lot of things to fix and do better.\n",
    "\n",
    "Play around with the data as much as you wish, and if you find variables to tidy up and clean - by all means, do that!"
   ]
  },
  {
   "cell_type": "code",
   "execution_count": null,
   "id": "928732cf-7ef4-471a-9818-139dd519eb45",
   "metadata": {},
   "outputs": [],
   "source": []
  }
 ],
 "metadata": {
  "celltoolbar": "Raw Cell Format",
  "kernelspec": {
   "display_name": "Python 3 (ipykernel)",
   "language": "python",
   "name": "python3"
  },
  "language_info": {
   "codemirror_mode": {
    "name": "ipython",
    "version": 3
   },
   "file_extension": ".py",
   "mimetype": "text/x-python",
   "name": "python",
   "nbconvert_exporter": "python",
   "pygments_lexer": "ipython3",
   "version": "3.11.7"
  }
 },
 "nbformat": 4,
 "nbformat_minor": 5
}
