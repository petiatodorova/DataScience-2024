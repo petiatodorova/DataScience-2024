{
 "cells": [
  {
   "cell_type": "code",
   "execution_count": 1,
   "id": "258ae304",
   "metadata": {},
   "outputs": [],
   "source": [
    "import requests\n",
    "import pdfplumber"
   ]
  },
  {
   "cell_type": "code",
   "execution_count": 2,
   "id": "5f9b5950",
   "metadata": {},
   "outputs": [],
   "source": [
    "def download_pdf(url, output_path):\n",
    "    \"\"\"Download a PDF file from the given URL.\"\"\"\n",
    "    response = requests.get(url)\n",
    "    if response.status_code == 200:\n",
    "        with open(output_path, 'wb') as file:\n",
    "            file.write(response.content)\n",
    "        print(f\"PDF downloaded successfully to {output_path}\")\n",
    "    else:\n",
    "        print(f\"Failed to download PDF. Status code: {response.status_code}\")"
   ]
  },
  {
   "cell_type": "code",
   "execution_count": 3,
   "id": "b5d9e56a",
   "metadata": {},
   "outputs": [],
   "source": [
    "def extract_text_and_tables(pdf_path, output_txt_path):\n",
    "    \"\"\"Extract text and tables from a PDF file and save them into a text file.\"\"\"\n",
    "    with pdfplumber.open(pdf_path) as pdf, open(output_txt_path, 'w', encoding='utf-8') as output_file:\n",
    "        for page_num, page in enumerate(pdf.pages, start=1):\n",
    "            text = page.extract_text()\n",
    "            tables = page.extract_tables()\n",
    "            \n",
    "            # Write extracted text\n",
    "            output_file.write(f\"Page {page_num}\\n\")\n",
    "            output_file.write(\"Text:\\n\")\n",
    "            output_file.write(text if text else \"No text found on this page.\\n\")\n",
    "            output_file.write(\"\\n\")\n",
    "            \n",
    "            # Write extracted tables\n",
    "            if tables:\n",
    "                output_file.write(\"Tables:\\n\")\n",
    "                for table in tables:\n",
    "                    for row in table:\n",
    "                        output_file.write(\"\\t\".join(row) + \"\\n\")\n",
    "                    output_file.write(\"\\n\")\n",
    "            else:\n",
    "                output_file.write(\"No tables found on this page.\\n\")\n",
    "            output_file.write(\"\\n\" + \"=\"*50 + \"\\n\")\n",
    "    print(f\"Text and tables saved to {output_txt_path}\")"
   ]
  },
  {
   "cell_type": "code",
   "execution_count": 4,
   "id": "027abcd6",
   "metadata": {},
   "outputs": [],
   "source": [
    "# Main Script\n",
    "pdf_url = \"https://www.vistajet.com/globalassets/documents/jettravelerreport.pdf\"  # Replace with the actual URL of the PDF\n",
    "pdf_path = \"sample.pdf\"\n",
    "output_txt_path = \"pdfplumber-test.txt\""
   ]
  },
  {
   "cell_type": "code",
   "execution_count": null,
   "id": "440af223",
   "metadata": {},
   "outputs": [],
   "source": [
    "# Download PDF\n",
    "download_pdf(pdf_url, pdf_path)"
   ]
  },
  {
   "cell_type": "code",
   "execution_count": null,
   "id": "5a3cd8be",
   "metadata": {},
   "outputs": [],
   "source": [
    "# Extract text and tables\n",
    "extract_text_and_tables(pdf_path, output_txt_path)"
   ]
  }
 ],
 "metadata": {
  "kernelspec": {
   "display_name": "Python 3 (ipykernel)",
   "language": "python",
   "name": "python3"
  },
  "language_info": {
   "codemirror_mode": {
    "name": "ipython",
    "version": 3
   },
   "file_extension": ".py",
   "mimetype": "text/x-python",
   "name": "python",
   "nbconvert_exporter": "python",
   "pygments_lexer": "ipython3",
   "version": "3.11.7"
  }
 },
 "nbformat": 4,
 "nbformat_minor": 5
}
