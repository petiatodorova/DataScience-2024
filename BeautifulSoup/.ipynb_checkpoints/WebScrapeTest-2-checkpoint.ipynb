{
 "cells": [
  {
   "cell_type": "code",
   "execution_count": 1,
   "id": "8918cf41",
   "metadata": {},
   "outputs": [],
   "source": [
    "from bs4 import BeautifulSoup\n",
    "import requests"
   ]
  },
  {
   "cell_type": "code",
   "execution_count": 2,
   "id": "a8373d4a",
   "metadata": {},
   "outputs": [],
   "source": [
    "urls = [\n",
    "    \"https://www.crummy.com/software/BeautifulSoup/bs4/doc/\",\n",
    "    \"https://pytorch.org/docs/stable/index.html\",\n",
    "    \"https://www.anaconda.com/\"\n",
    "]"
   ]
  },
  {
   "cell_type": "code",
   "execution_count": 3,
   "id": "150fbaa5",
   "metadata": {},
   "outputs": [],
   "source": [
    "with open(\"output2.txt\", \"w\", encoding=\"utf-8\") as file:\n",
    "    for url in urls:\n",
    "        try:\n",
    "            # Fetch the webpage\n",
    "            response = requests.get(url)\n",
    "            response.raise_for_status()  # Raise an error for bad HTTP responses\n",
    "            \n",
    "            # Parse the HTML content\n",
    "            soup = BeautifulSoup(response.content, 'html.parser')\n",
    "            \n",
    "            # Extract the desired content (e.g., paragraphs)\n",
    "            content = soup.find_all('p')  # Adjust the tag ('p', 'h1', 'div', etc.) as needed\n",
    "            \n",
    "            # Write the URL to indicate the source\n",
    "            file.write(f\"Content from: {url}\\n\\n\")\n",
    "            \n",
    "            # Write the extracted text to the file\n",
    "            for paragraph in content:\n",
    "                file.write(paragraph.get_text(strip=True) + \"\\n\")\n",
    "            \n",
    "            # Add a separator between content from different pages\n",
    "            file.write(\"\\n\" + \"=\"*50 + \"\\n\\n\")\n",
    "        \n",
    "        except requests.exceptions.RequestException as e:\n",
    "            print(f\"Error fetching {url}: {e}\")\n",
    "            file.write(f\"Error fetching {url}: {e}\\n\\n\")"
   ]
  },
  {
   "cell_type": "code",
   "execution_count": 4,
   "id": "3ca96846",
   "metadata": {},
   "outputs": [
    {
     "name": "stdout",
     "output_type": "stream",
     "text": [
      "Content saved to output2.txt\n"
     ]
    }
   ],
   "source": [
    "print(\"Content saved to output2.txt\")"
   ]
  }
 ],
 "metadata": {
  "kernelspec": {
   "display_name": "Python 3 (ipykernel)",
   "language": "python",
   "name": "python3"
  },
  "language_info": {
   "codemirror_mode": {
    "name": "ipython",
    "version": 3
   },
   "file_extension": ".py",
   "mimetype": "text/x-python",
   "name": "python",
   "nbconvert_exporter": "python",
   "pygments_lexer": "ipython3",
   "version": "3.11.7"
  }
 },
 "nbformat": 4,
 "nbformat_minor": 5
}
