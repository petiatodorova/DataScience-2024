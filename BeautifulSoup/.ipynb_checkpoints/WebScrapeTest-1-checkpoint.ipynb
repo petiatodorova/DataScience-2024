{
 "cells": [
  {
   "cell_type": "code",
   "execution_count": 1,
   "id": "8918cf41",
   "metadata": {},
   "outputs": [],
   "source": [
    "from bs4 import BeautifulSoup\n",
    "import requests"
   ]
  },
  {
   "cell_type": "code",
   "execution_count": 2,
   "id": "a8373d4a",
   "metadata": {},
   "outputs": [],
   "source": [
    "# URL of the web page\n",
    "url = \"https://www.crummy.com/software/BeautifulSoup/bs4/doc/\""
   ]
  },
  {
   "cell_type": "code",
   "execution_count": 3,
   "id": "150fbaa5",
   "metadata": {},
   "outputs": [],
   "source": [
    "response = requests.get(url)"
   ]
  },
  {
   "cell_type": "code",
   "execution_count": 4,
   "id": "ab4a1afb",
   "metadata": {},
   "outputs": [],
   "source": [
    "soup = BeautifulSoup(response.content, 'html.parser')"
   ]
  },
  {
   "cell_type": "code",
   "execution_count": 5,
   "id": "1fb234b1",
   "metadata": {},
   "outputs": [],
   "source": [
    "content = soup.find_all('p')"
   ]
  },
  {
   "cell_type": "code",
   "execution_count": 6,
   "id": "c8462bcc",
   "metadata": {},
   "outputs": [],
   "source": [
    "with open(\"output.txt\", \"w\", encoding=\"utf-8\") as file:\n",
    "    for paragraph in content:\n",
    "        file.write(paragraph.get_text(strip=True) + \"\\n\")"
   ]
  },
  {
   "cell_type": "code",
   "execution_count": 7,
   "id": "1d8a93ae",
   "metadata": {},
   "outputs": [
    {
     "name": "stdout",
     "output_type": "stream",
     "text": [
      "Content saved to output.txt\n"
     ]
    }
   ],
   "source": [
    "print(\"Content saved to output.txt\")"
   ]
  }
 ],
 "metadata": {
  "kernelspec": {
   "display_name": "Python 3 (ipykernel)",
   "language": "python",
   "name": "python3"
  },
  "language_info": {
   "codemirror_mode": {
    "name": "ipython",
    "version": 3
   },
   "file_extension": ".py",
   "mimetype": "text/x-python",
   "name": "python",
   "nbconvert_exporter": "python",
   "pygments_lexer": "ipython3",
   "version": "3.11.7"
  }
 },
 "nbformat": 4,
 "nbformat_minor": 5
}
