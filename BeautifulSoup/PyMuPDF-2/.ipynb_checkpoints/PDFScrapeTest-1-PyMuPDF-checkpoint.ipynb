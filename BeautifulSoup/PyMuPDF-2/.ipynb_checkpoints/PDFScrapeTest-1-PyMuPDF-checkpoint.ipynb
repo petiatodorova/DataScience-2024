{
 "cells": [
  {
   "cell_type": "code",
   "execution_count": 1,
   "id": "258ae304",
   "metadata": {},
   "outputs": [],
   "source": [
    "import requests\n",
    "import fitz  # PyMuPDF"
   ]
  },
  {
   "cell_type": "code",
   "execution_count": 2,
   "id": "5f9b5950",
   "metadata": {},
   "outputs": [],
   "source": [
    "# Step 1: Download the PDF from the Internet\n",
    "def download_pdf(url, output_pdf):\n",
    "    response = requests.get(url)\n",
    "    if response.status_code == 200:\n",
    "        with open(output_pdf, \"wb\") as file:\n",
    "            file.write(response.content)\n",
    "        print(f\"PDF downloaded and saved as '{output_pdf}'\")\n",
    "        return output_pdf\n",
    "    else:\n",
    "        print(f\"Failed to download PDF. Status code: {response.status_code}\")\n",
    "        return None\n"
   ]
  },
  {
   "cell_type": "code",
   "execution_count": 3,
   "id": "b5d9e56a",
   "metadata": {},
   "outputs": [],
   "source": [
    "# Step 2: Extract Text from the PDF Using PyMuPDF\n",
    "def extract_text_from_pdf(pdf_path, output_txt):\n",
    "    doc = fitz.open(pdf_path)  # Open the PDF\n",
    "    with open(output_txt, \"w\", encoding=\"utf-8\") as file:\n",
    "        for page_num in range(len(doc)):\n",
    "            page = doc[page_num]\n",
    "            text = page.get_text()  # Extract text from the page\n",
    "            file.write(f\"Page {page_num + 1}:\\n{text}\\n\\n\")  # Write text to the file\n",
    "    print(f\"Text extracted and saved to '{output_txt}'\")"
   ]
  },
  {
   "cell_type": "code",
   "execution_count": 4,
   "id": "027abcd6",
   "metadata": {},
   "outputs": [],
   "source": [
    "# Main Function\n",
    "def main():\n",
    "    pdf_url = \"https://www.vistajet.com/globalassets/documents/jettravelerreport.pdf\"  # Replace with the URL of the PDF\n",
    "    output_pdf = \"pymupdf_downloaded_file.pdf\"\n",
    "    output_txt = \"pymupdf.txt\"\n",
    "    \n",
    "    # Download and process the PDF\n",
    "    pdf_path = download_pdf(pdf_url, output_pdf)\n",
    "    if pdf_path:\n",
    "        extract_text_from_pdf(pdf_path, output_txt)"
   ]
  },
  {
   "cell_type": "code",
   "execution_count": 5,
   "id": "1964a768",
   "metadata": {},
   "outputs": [
    {
     "name": "stdout",
     "output_type": "stream",
     "text": [
      "PDF downloaded and saved as 'pymupdf_downloaded_file.pdf'\n",
      "Text extracted and saved to 'pymupdf.txt'\n"
     ]
    }
   ],
   "source": [
    "# Run the script\n",
    "if __name__ == \"__main__\":\n",
    "    main()"
   ]
  }
 ],
 "metadata": {
  "kernelspec": {
   "display_name": "Python 3 (ipykernel)",
   "language": "python",
   "name": "python3"
  },
  "language_info": {
   "codemirror_mode": {
    "name": "ipython",
    "version": 3
   },
   "file_extension": ".py",
   "mimetype": "text/x-python",
   "name": "python",
   "nbconvert_exporter": "python",
   "pygments_lexer": "ipython3",
   "version": "3.11.7"
  }
 },
 "nbformat": 4,
 "nbformat_minor": 5
}
