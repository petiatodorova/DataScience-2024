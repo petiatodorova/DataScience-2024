{
 "cells": [
  {
   "cell_type": "code",
   "execution_count": 1,
   "id": "258ae304",
   "metadata": {},
   "outputs": [],
   "source": [
    "import requests\n",
    "import pdfplumber\n",
    "import fitz  # PyMuPDF\n",
    "import os"
   ]
  },
  {
   "cell_type": "code",
   "execution_count": 2,
   "id": "5f9b5950",
   "metadata": {},
   "outputs": [],
   "source": [
    "def download_pdf(url, output_path):\n",
    "    \"\"\"Download a PDF file from the given URL.\"\"\"\n",
    "    response = requests.get(url)\n",
    "    if response.status_code == 200:\n",
    "        with open(output_path, 'wb') as file:\n",
    "            file.write(response.content)\n",
    "        print(f\"PDF downloaded successfully to {output_path}\")\n",
    "    else:\n",
    "        print(f\"Failed to download PDF. Status code: {response.status_code}\")"
   ]
  },
  {
   "cell_type": "code",
   "execution_count": 3,
   "id": "b5d9e56a",
   "metadata": {},
   "outputs": [],
   "source": [
    "def extract_text_and_tables(pdf_path, output_txt_path):\n",
    "    \"\"\"Extract text and tables from a PDF file and save them into a text file.\"\"\"\n",
    "    with pdfplumber.open(pdf_path) as pdf, open(output_txt_path, 'w', encoding='utf-8') as output_file:\n",
    "        for page_num, page in enumerate(pdf.pages, start=1):\n",
    "            text = page.extract_text()\n",
    "            tables = page.extract_tables()\n",
    "            \n",
    "            # Write extracted text\n",
    "            output_file.write(f\"Page {page_num}\\n\")\n",
    "            output_file.write(\"Text:\\n\")\n",
    "            output_file.write(text if text else \"No text found on this page.\\n\")\n",
    "            output_file.write(\"\\n\")\n",
    "            \n",
    "            # Write extracted tables\n",
    "            if tables:\n",
    "                output_file.write(\"Tables:\\n\")\n",
    "                for table in tables:\n",
    "                    for row in table:\n",
    "                        output_file.write(\"\\t\".join(row) + \"\\n\")\n",
    "                    output_file.write(\"\\n\")\n",
    "            else:\n",
    "                output_file.write(\"No tables found on this page.\\n\")\n",
    "            output_file.write(\"\\n\" + \"=\"*50 + \"\\n\")\n",
    "    print(f\"Text and tables saved to {output_txt_path}\")"
   ]
  },
  {
   "cell_type": "code",
   "execution_count": 4,
   "id": "027abcd6",
   "metadata": {},
   "outputs": [],
   "source": [
    "def extract_images(pdf_path, images_dir):\n",
    "    \"\"\"Extract images from a PDF file and save them to a directory.\"\"\"\n",
    "    os.makedirs(images_dir, exist_ok=True)\n",
    "    pdf_document = fitz.open(pdf_path)\n",
    "    for page_num in range(len(pdf_document)):\n",
    "        page = pdf_document[page_num]\n",
    "        images = page.get_images(full=True)\n",
    "        for img_index, img in enumerate(images):\n",
    "            xref = img[0]\n",
    "            base_image = pdf_document.extract_image(xref)\n",
    "            image_bytes = base_image[\"image\"]\n",
    "            image_ext = base_image[\"ext\"]\n",
    "            image_path = os.path.join(images_dir, f\"page_{page_num+1}_img_{img_index+1}.{image_ext}\")\n",
    "            with open(image_path, 'wb') as image_file:\n",
    "                image_file.write(image_bytes)\n",
    "            print(f\"Saved image to {image_path}\")\n",
    "    print(f\"All images extracted to {images_dir}\")"
   ]
  },
  {
   "cell_type": "code",
   "execution_count": 5,
   "id": "1964a768",
   "metadata": {},
   "outputs": [],
   "source": [
    "# Main Script\n",
    "pdf_url = \"https://www.vistajet.com/globalassets/documents/jettravelerreport.pdf\"  # Replace with the actual URL of the PDF\n",
    "pdf_path = \"sample.pdf\"\n",
    "output_txt_path = \"pymupdf-test.txt\"\n",
    "images_dir = \"images\""
   ]
  },
  {
   "cell_type": "code",
   "execution_count": 6,
   "id": "a7bfc477",
   "metadata": {},
   "outputs": [
    {
     "name": "stdout",
     "output_type": "stream",
     "text": [
      "PDF downloaded successfully to sample.pdf\n"
     ]
    }
   ],
   "source": [
    "# Download PDF\n",
    "download_pdf(pdf_url, pdf_path)"
   ]
  },
  {
   "cell_type": "code",
   "execution_count": 7,
   "id": "9d5761be",
   "metadata": {},
   "outputs": [
    {
     "name": "stdout",
     "output_type": "stream",
     "text": [
      "Text and tables saved to pymupdf-test.txt\n"
     ]
    }
   ],
   "source": [
    "# Extract text and tables\n",
    "extract_text_and_tables(pdf_path, output_txt_path)"
   ]
  },
  {
   "cell_type": "code",
   "execution_count": 8,
   "id": "21d21871",
   "metadata": {},
   "outputs": [
    {
     "name": "stdout",
     "output_type": "stream",
     "text": [
      "Saved image to images\\page_1_img_1.jpeg\n",
      "Saved image to images\\page_1_img_2.jpeg\n",
      "Saved image to images\\page_4_img_1.jpeg\n",
      "Saved image to images\\page_5_img_1.jpeg\n",
      "Saved image to images\\page_5_img_2.jpeg\n",
      "Saved image to images\\page_6_img_1.jpeg\n",
      "Saved image to images\\page_7_img_1.jpeg\n",
      "Saved image to images\\page_8_img_1.jpeg\n",
      "Saved image to images\\page_9_img_1.jpeg\n",
      "Saved image to images\\page_10_img_1.jpeg\n",
      "Saved image to images\\page_10_img_2.jpeg\n",
      "Saved image to images\\page_11_img_1.jpeg\n",
      "Saved image to images\\page_13_img_1.jpeg\n",
      "Saved image to images\\page_15_img_1.jpeg\n",
      "Saved image to images\\page_17_img_1.jpeg\n",
      "Saved image to images\\page_19_img_1.jpeg\n",
      "Saved image to images\\page_21_img_1.jpeg\n",
      "Saved image to images\\page_21_img_2.jpeg\n",
      "Saved image to images\\page_22_img_1.jpeg\n",
      "Saved image to images\\page_23_img_1.jpeg\n",
      "Saved image to images\\page_24_img_1.jpeg\n",
      "Saved image to images\\page_25_img_1.jpeg\n",
      "Saved image to images\\page_26_img_1.jpeg\n",
      "Saved image to images\\page_27_img_1.jpeg\n",
      "Saved image to images\\page_29_img_1.jpeg\n",
      "All images extracted to images\n"
     ]
    }
   ],
   "source": [
    "# Extract images\n",
    "extract_images(pdf_path, images_dir)"
   ]
  }
 ],
 "metadata": {
  "kernelspec": {
   "display_name": "Python 3 (ipykernel)",
   "language": "python",
   "name": "python3"
  },
  "language_info": {
   "codemirror_mode": {
    "name": "ipython",
    "version": 3
   },
   "file_extension": ".py",
   "mimetype": "text/x-python",
   "name": "python",
   "nbconvert_exporter": "python",
   "pygments_lexer": "ipython3",
   "version": "3.11.7"
  }
 },
 "nbformat": 4,
 "nbformat_minor": 5
}
